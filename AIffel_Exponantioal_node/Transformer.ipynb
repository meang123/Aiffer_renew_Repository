{
 "cells": [
  {
   "cell_type": "markdown",
   "id": "c5d2a03b",
   "metadata": {},
   "source": [
    "# Transformer 익스 \n"
   ]
  },
  {
   "cell_type": "code",
   "execution_count": 50,
   "id": "2e770f99",
   "metadata": {},
   "outputs": [
    {
     "name": "stdout",
     "output_type": "stream",
     "text": [
      "슝=3\n"
     ]
    }
   ],
   "source": [
    "import tensorflow as tf\n",
    "import tensorflow_datasets as tfds\n",
    "import os\n",
    "import re\n",
    "import numpy as np\n",
    "import pandas as pd\n",
    "import matplotlib.pyplot as plt\n",
    "print(\"슝=3\")\n"
   ]
  },
  {
   "cell_type": "code",
   "execution_count": null,
   "id": "ac1d6dcd",
   "metadata": {},
   "outputs": [],
   "source": []
  },
  {
   "cell_type": "code",
   "execution_count": 51,
   "id": "e0860ed1",
   "metadata": {},
   "outputs": [
    {
     "data": {
      "text/html": [
       "<div>\n",
       "<style scoped>\n",
       "    .dataframe tbody tr th:only-of-type {\n",
       "        vertical-align: middle;\n",
       "    }\n",
       "\n",
       "    .dataframe tbody tr th {\n",
       "        vertical-align: top;\n",
       "    }\n",
       "\n",
       "    .dataframe thead th {\n",
       "        text-align: right;\n",
       "    }\n",
       "</style>\n",
       "<table border=\"1\" class=\"dataframe\">\n",
       "  <thead>\n",
       "    <tr style=\"text-align: right;\">\n",
       "      <th></th>\n",
       "      <th>Q</th>\n",
       "      <th>A</th>\n",
       "      <th>label</th>\n",
       "    </tr>\n",
       "  </thead>\n",
       "  <tbody>\n",
       "    <tr>\n",
       "      <th>0</th>\n",
       "      <td>12시 땡!</td>\n",
       "      <td>하루가 또 가네요.</td>\n",
       "      <td>0</td>\n",
       "    </tr>\n",
       "    <tr>\n",
       "      <th>1</th>\n",
       "      <td>1지망 학교 떨어졌어</td>\n",
       "      <td>위로해 드립니다.</td>\n",
       "      <td>0</td>\n",
       "    </tr>\n",
       "    <tr>\n",
       "      <th>2</th>\n",
       "      <td>3박4일 놀러가고 싶다</td>\n",
       "      <td>여행은 언제나 좋죠.</td>\n",
       "      <td>0</td>\n",
       "    </tr>\n",
       "    <tr>\n",
       "      <th>3</th>\n",
       "      <td>3박4일 정도 놀러가고 싶다</td>\n",
       "      <td>여행은 언제나 좋죠.</td>\n",
       "      <td>0</td>\n",
       "    </tr>\n",
       "    <tr>\n",
       "      <th>4</th>\n",
       "      <td>PPL 심하네</td>\n",
       "      <td>눈살이 찌푸려지죠.</td>\n",
       "      <td>0</td>\n",
       "    </tr>\n",
       "  </tbody>\n",
       "</table>\n",
       "</div>"
      ],
      "text/plain": [
       "                 Q            A  label\n",
       "0           12시 땡!   하루가 또 가네요.      0\n",
       "1      1지망 학교 떨어졌어    위로해 드립니다.      0\n",
       "2     3박4일 놀러가고 싶다  여행은 언제나 좋죠.      0\n",
       "3  3박4일 정도 놀러가고 싶다  여행은 언제나 좋죠.      0\n",
       "4          PPL 심하네   눈살이 찌푸려지죠.      0"
      ]
     },
     "execution_count": 51,
     "metadata": {},
     "output_type": "execute_result"
    }
   ],
   "source": [
    "\n",
    "csv_path = os.getenv('HOME') + '/aiffel/transformer_chatbot/data/ChatbotData.csv'\n",
    "\n",
    "data = pd.read_csv(csv_path)\n",
    "data.head()"
   ]
  },
  {
   "cell_type": "markdown",
   "id": "51d498b1",
   "metadata": {},
   "source": [
    "## 데이터 파악하기 \n",
    "\n",
    "* 질문에 챗봇이 답하는 방식 \n",
    "* training : 11823\n",
    "* 0 : 중립 , 1: 부정 , 2: 긍정 \n",
    "* 결측치 없다 \n",
    "\n",
    "\n",
    "Q,A,label로 구성이 되어있다 \n"
   ]
  },
  {
   "cell_type": "code",
   "execution_count": 52,
   "id": "cd199d23",
   "metadata": {},
   "outputs": [
    {
     "name": "stdout",
     "output_type": "stream",
     "text": [
      "11823\n"
     ]
    }
   ],
   "source": [
    "MAX_DATA_LEN = len(data)\n",
    "print(MAX_DATA_LEN)"
   ]
  },
  {
   "cell_type": "code",
   "execution_count": 53,
   "id": "3064a19b",
   "metadata": {},
   "outputs": [
    {
     "data": {
      "text/plain": [
       "Q        0\n",
       "A        0\n",
       "label    0\n",
       "dtype: int64"
      ]
     },
     "execution_count": 53,
     "metadata": {},
     "output_type": "execute_result"
    }
   ],
   "source": [
    "data.isnull().sum()"
   ]
  },
  {
   "cell_type": "code",
   "execution_count": 54,
   "id": "7aff0895",
   "metadata": {},
   "outputs": [],
   "source": [
    "# 전처리 함수\n",
    "def preprocess_sentence(sentence):\n",
    "    \n",
    "    sentence = re.sub(r\"([?.!,])\", r\" \\1 \", sentence)\n",
    "    sentence = re.sub(r'[\" \"]+', \" \", sentence)\n",
    "    sentence = sentence.strip()\n",
    "    return sentence\n",
    "\n"
   ]
  },
  {
   "cell_type": "code",
   "execution_count": 55,
   "id": "6da52dc9",
   "metadata": {},
   "outputs": [
    {
     "name": "stdout",
     "output_type": "stream",
     "text": [
      "질문 확인하기 \n",
      "12시 땡 !\n",
      "1지망 학교 떨어졌어\n",
      "3박4일 놀러가고 싶다\n",
      "3박4일 정도 놀러가고 싶다\n",
      "PPL 심하네\n",
      "-----------------------------------------\n",
      "답변 확인하기 \n",
      "하루가 또 가네요 .\n",
      "위로해 드립니다 .\n",
      "여행은 언제나 좋죠 .\n",
      "여행은 언제나 좋죠 .\n",
      "눈살이 찌푸려지죠 .\n"
     ]
    }
   ],
   "source": [
    "# 확인 해보기 \n",
    "print(\"질문 확인하기 \")\n",
    "for i in range(5):\n",
    "    print(preprocess_sentence(data[\"Q\"][i]))\n",
    "\n",
    "    \n",
    "    \n",
    "print(\"-----------------------------------------\")\n",
    "print(\"답변 확인하기 \")\n",
    "for i in range(5):\n",
    "    print(preprocess_sentence(data[\"A\"][i]))\n"
   ]
  },
  {
   "cell_type": "code",
   "execution_count": 56,
   "id": "2e001c75",
   "metadata": {},
   "outputs": [],
   "source": [
    "# 질문과 답변의 쌍인 데이터 셋 구성하기 위한 데이터 로드 함수 \n",
    "\n",
    "def load_conversations():\n",
    "    inputs,outputs=[],[]\n",
    "    \n",
    "    for i in range(MAX_DATA_LEN):\n",
    "        # input output 리스트에 Q, A에 대해 전처리한거 적용하기\n",
    "        inputs.append(preprocess_sentence(data[\"Q\"][i]))\n",
    "        outputs.append(preprocess_sentence(data[\"A\"][i]))\n",
    "    \n",
    "    return inputs,outputs\n"
   ]
  },
  {
   "cell_type": "code",
   "execution_count": 57,
   "id": "47d229c7",
   "metadata": {},
   "outputs": [
    {
     "name": "stdout",
     "output_type": "stream",
     "text": [
      "전처리 후의 15번째 질문 샘플: 가스비 장난 아님\n",
      "전처리 후의 15번째 답변 샘플: 다음 달에는 더 절약해봐요 .\n"
     ]
    }
   ],
   "source": [
    "# 확인하기 \n",
    "Q,A = load_conversations()\n",
    "print('전처리 후의 15번째 질문 샘플: {}'.format(Q[21]))\n",
    "print('전처리 후의 15번째 답변 샘플: {}'.format(A[21]))"
   ]
  },
  {
   "cell_type": "markdown",
   "id": "8f077501",
   "metadata": {},
   "source": [
    "## SubwordTextEncoder 사용하기 \n",
    "\n",
    "단어 분리 작업은 하나의 단어를 여러 내부 단어로 분리 해서 단어를 이해해보겠다는 의도를 가진 전처리 작업이다 \n",
    "\n",
    "1. 배운적 없는 단어에 대해(OOV,UNT)등에 대해 어느 정도 대처 가능 \n",
    "2. 단어가 많아질수록 학습해야 할양 늘어나는데 이를 줄일수있다 \n",
    "\n",
    "\n",
    "\n",
    "\n"
   ]
  },
  {
   "cell_type": "code",
   "execution_count": 58,
   "id": "fa11366e",
   "metadata": {},
   "outputs": [
    {
     "name": "stdout",
     "output_type": "stream",
     "text": [
      "살짝 오래 걸릴 수 있어요. 스트레칭 한 번 해볼까요? 👐\n",
      "슝=3 \n"
     ]
    }
   ],
   "source": [
    "import tensorflow_datasets as tfds\n",
    "print(\"살짝 오래 걸릴 수 있어요. 스트레칭 한 번 해볼까요? 👐\")\n",
    "\n",
    "# 질문과 답변 데이터셋에 대해서 Vocabulary 생성. (Tensorflow 2.3.0 이상) (클라우드는 2.4 입니다)\n",
    "tokenizer = tfds.deprecated.text.SubwordTextEncoder.build_from_corpus(Q + A, target_vocab_size=2**13)\n",
    "print(\"슝=3 \")"
   ]
  },
  {
   "cell_type": "code",
   "execution_count": 59,
   "id": "15a855d8",
   "metadata": {},
   "outputs": [
    {
     "name": "stdout",
     "output_type": "stream",
     "text": [
      "슝=3\n"
     ]
    }
   ],
   "source": [
    "# 시작 토큰과 종료 토큰에 고유한 정수를 부여합니다.\n",
    "START_TOKEN, END_TOKEN = [tokenizer.vocab_size], [tokenizer.vocab_size + 1]\n",
    "print(\"슝=3\")\n"
   ]
  },
  {
   "cell_type": "code",
   "execution_count": 60,
   "id": "ef4975bb",
   "metadata": {},
   "outputs": [
    {
     "name": "stdout",
     "output_type": "stream",
     "text": [
      "START_TOKEN의 번호 : [8173]\n",
      "END_TOKEN의 번호 : [8174]\n"
     ]
    }
   ],
   "source": [
    "print('START_TOKEN의 번호 :' ,[tokenizer.vocab_size])\n",
    "print('END_TOKEN의 번호 :' ,[tokenizer.vocab_size + 1])"
   ]
  },
  {
   "cell_type": "code",
   "execution_count": 61,
   "id": "fa0de5e4",
   "metadata": {},
   "outputs": [
    {
     "name": "stdout",
     "output_type": "stream",
     "text": [
      "8175\n"
     ]
    }
   ],
   "source": [
    "# 시작 토큰과 종료 토큰을 고려하여 +2를 하여 단어장의 크기를 산정합니다.\n",
    "VOCAB_SIZE = tokenizer.vocab_size + 2\n",
    "print(VOCAB_SIZE)"
   ]
  },
  {
   "cell_type": "markdown",
   "id": "c249f099",
   "metadata": {},
   "source": [
    "### subwordtextencoder에서 .encoder를 이용해서 정수 인코딩 진행 가능하다 \n"
   ]
  },
  {
   "cell_type": "code",
   "execution_count": 62,
   "id": "f84d6ecb",
   "metadata": {},
   "outputs": [
    {
     "name": "stdout",
     "output_type": "stream",
     "text": [
      "정수 인코딩 후의 15번째 질문 샘플: [78, 62, 1145, 5485, 1574]\n",
      "정수 인코딩 후의 15번째 답변 샘플: [7397, 452, 2168, 105, 1]\n",
      "기존 문장 15번째 질문 샘플: 가만 있어도 땀난다\n",
      "기존 문장 15번째 답변 샘플: 땀을 식혀주세요 .\n"
     ]
    }
   ],
   "source": [
    "# 임의의 22번째 샘플에 대해서 정수 인코딩 작업을 수행.\n",
    "print('정수 인코딩 후의 15번째 질문 샘플: {}'.format(tokenizer.encode(Q[15])))\n",
    "print('정수 인코딩 후의 15번째 답변 샘플: {}'.format(tokenizer.encode(A[15])))\n",
    "\n",
    "# decoder이용해서 기존 문장 확인하기 \n",
    "print('기존 문장 15번째 질문 샘플: {}'.format(tokenizer.decode(tokenizer.encode(Q[15]))))\n",
    "print('기존 문장 15번째 답변 샘플: {}'.format(tokenizer.decode(tokenizer.encode(A[15]))))\n"
   ]
  },
  {
   "cell_type": "code",
   "execution_count": 63,
   "id": "dcd2f517",
   "metadata": {
    "scrolled": true
   },
   "outputs": [
    {
     "name": "stdout",
     "output_type": "stream",
     "text": [
      "78 ----> 가\n",
      "62 ----> 만 \n",
      "1145 ----> 있어도 \n",
      "5485 ----> 땀\n",
      "1574 ----> 난다\n"
     ]
    }
   ],
   "source": [
    "for ts in tokenizer.encode(Q[15]):\n",
    "      print ('{} ----> {}'.format(ts, tokenizer.decode([ts])))"
   ]
  },
  {
   "cell_type": "code",
   "execution_count": 64,
   "id": "044fb3f5",
   "metadata": {},
   "outputs": [
    {
     "name": "stdout",
     "output_type": "stream",
     "text": [
      "40\n"
     ]
    }
   ],
   "source": [
    "# 샘플의 최대 허용 길이 또는 패딩 후의 최종 길이\n",
    "MAX_LENGTH = 40\n",
    "print(MAX_LENGTH)"
   ]
  },
  {
   "cell_type": "code",
   "execution_count": 65,
   "id": "f142912a",
   "metadata": {},
   "outputs": [
    {
     "name": "stdout",
     "output_type": "stream",
     "text": [
      "슝=3\n"
     ]
    }
   ],
   "source": [
    "# 정수 인코딩, 최대 길이를 초과하는 샘플 제거, 패딩\n",
    "def tokenize_and_filter(inputs, outputs):\n",
    "    tokenized_inputs, tokenized_outputs = [], []\n",
    "    \n",
    "    for (sentence1, sentence2) in zip(inputs, outputs):\n",
    "        # 정수 인코딩 과정에서 시작 토큰과 종료 토큰을 추가\n",
    "        sentence1 = START_TOKEN + tokenizer.encode(sentence1) + END_TOKEN\n",
    "        sentence2 = START_TOKEN + tokenizer.encode(sentence2) + END_TOKEN\n",
    "# 최대 길이 40 이하인 경우에만 데이터셋으로 허용\n",
    "        if len(sentence1) <= MAX_LENGTH and len(sentence2) <= MAX_LENGTH:\n",
    "            tokenized_inputs.append(sentence1)\n",
    "            tokenized_outputs.append(sentence2)\n",
    "    # 최대 길이 40으로 모든 데이터셋을 패딩\n",
    "    tokenized_inputs = tf.keras.preprocessing.sequence.pad_sequences(tokenized_inputs, maxlen=MAX_LENGTH, padding='post')\n",
    "    tokenized_outputs = tf.keras.preprocessing.sequence.pad_sequences(tokenized_outputs, maxlen=MAX_LENGTH, padding='post')\n",
    "\n",
    "      \n",
    "    return tokenized_inputs, tokenized_outputs\n",
    "print(\"슝=3\")"
   ]
  },
  {
   "cell_type": "code",
   "execution_count": 66,
   "id": "04761199",
   "metadata": {},
   "outputs": [
    {
     "name": "stdout",
     "output_type": "stream",
     "text": [
      "단어장의 크기 : 8175\n",
      "필터링 후의 질문 샘플 개수: 11823\n",
      "필터링 후의 답변 샘플 개수: 11823\n"
     ]
    }
   ],
   "source": [
    "Q, A = tokenize_and_filter(Q, A)\n",
    "print('단어장의 크기 :',(VOCAB_SIZE))\n",
    "print('필터링 후의 질문 샘플 개수: {}'.format(len(Q)))\n",
    "print('필터링 후의 답변 샘플 개수: {}'.format(len(A)))"
   ]
  },
  {
   "cell_type": "markdown",
   "id": "4d17a7fa",
   "metadata": {},
   "source": [
    "## teacher Forcing  적용하기 \n",
    "\n"
   ]
  },
  {
   "cell_type": "code",
   "execution_count": 67,
   "id": "9760ddc4",
   "metadata": {},
   "outputs": [],
   "source": [
    "BATCH_SIZE = 64\n",
    "BUFFER_SIZE = 20000\n",
    "\n",
    "# 디코더의 입력과 실제값 시퀀스를 구성한다 \n",
    "\n",
    "dataset = tf.data.Dataset.from_tensor_slices(({\n",
    "    \"inputs\" : Q,\n",
    "    \"dec_inputs\":A[:,:-1] # 디코더의 입력, END Token 제거 된다 \n",
    "    \n",
    "},\n",
    "{\n",
    "    \"outputs\":A[:,1:] # START Token 제거 \n",
    "}))\n",
    "\n",
    "dataset = dataset.cache()\n",
    "dataset = dataset.shuffle(BUFFER_SIZE)\n",
    "dataset = dataset.batch(BATCH_SIZE)\n",
    "dataset = dataset.prefetch(tf.data.experimental.AUTOTUNE)\n"
   ]
  },
  {
   "cell_type": "markdown",
   "id": "d8fc3d25",
   "metadata": {},
   "source": [
    "# 트랜스 포머 모델 구성 하기 \n",
    "\n"
   ]
  },
  {
   "cell_type": "code",
   "execution_count": 68,
   "id": "99003f04",
   "metadata": {},
   "outputs": [
    {
     "name": "stdout",
     "output_type": "stream",
     "text": [
      "슝=3\n"
     ]
    }
   ],
   "source": [
    "# 포지셔널 인코딩 레이어\n",
    "class PositionalEncoding(tf.keras.layers.Layer):\n",
    "    def __init__(self, position, d_model):\n",
    "        super(PositionalEncoding, self).__init__()\n",
    "        self.pos_encoding = self.positional_encoding(position, d_model)\n",
    "\n",
    "    def get_angles(self, position, i, d_model):\n",
    "        angles = 1 / tf.pow(10000, (2 * (i // 2)) / tf.cast(d_model, tf.float32))\n",
    "        return position * angles\n",
    "\n",
    "    def positional_encoding(self, position, d_model):\n",
    "        # 각도 배열 생성\n",
    "        angle_rads = self.get_angles(\n",
    "            position=tf.range(position, dtype=tf.float32)[:, tf.newaxis],\n",
    "            i=tf.range(d_model, dtype=tf.float32)[tf.newaxis, :],\n",
    "            d_model=d_model)\n",
    "\n",
    "        # 배열의 짝수 인덱스에는 sin 함수 적용\n",
    "        sines = tf.math.sin(angle_rads[:, 0::2])\n",
    "        # 배열의 홀수 인덱스에는 cosine 함수 적용\n",
    "        cosines = tf.math.cos(angle_rads[:, 1::2])\n",
    "\n",
    "        # sin과 cosine이 교차되도록 재배열\n",
    "        pos_encoding = tf.stack([sines, cosines], axis=0)\n",
    "        pos_encoding = tf.transpose(pos_encoding,[1, 2, 0]) \n",
    "        pos_encoding = tf.reshape(pos_encoding, [position, d_model])\n",
    "\n",
    "        pos_encoding = pos_encoding[tf.newaxis, ...]\n",
    "        return tf.cast(pos_encoding, tf.float32)\n",
    "\n",
    "    def call(self, inputs):\n",
    "        return inputs + self.pos_encoding[:, :tf.shape(inputs)[1], :]\n",
    "\n",
    "print(\"슝=3\")"
   ]
  },
  {
   "cell_type": "code",
   "execution_count": 69,
   "id": "21b36cc0",
   "metadata": {},
   "outputs": [
    {
     "name": "stdout",
     "output_type": "stream",
     "text": [
      "슝=3\n"
     ]
    }
   ],
   "source": [
    "# Attention \n",
    "\n",
    "# 스케일드 닷 프로덕트 어텐션 함수\n",
    "def scaled_dot_product_attention(query, key, value, mask):\n",
    "    # 어텐션 가중치는 Q와 K의 닷 프로덕트\n",
    "    matmul_qk = tf.matmul(query, key, transpose_b=True)\n",
    "\n",
    "    # 가중치를 정규화\n",
    "    depth = tf.cast(tf.shape(key)[-1], tf.float32)\n",
    "    logits = matmul_qk / tf.math.sqrt(depth)\n",
    "\n",
    "    # 패딩에 마스크 추가 -> Decoder padding 위함\n",
    "    if mask is not None:\n",
    "        logits += (mask * -1e9)\n",
    "\n",
    "    # softmax적용\n",
    "    attention_weights = tf.nn.softmax(logits, axis=-1)\n",
    "\n",
    "    # 최종 어텐션은 가중치와 V의 닷 프로덕트\n",
    "    output = tf.matmul(attention_weights, value)\n",
    "    return output\n",
    "\n",
    "print(\"슝=3\")"
   ]
  },
  {
   "cell_type": "code",
   "execution_count": 70,
   "id": "bf8d4f5a",
   "metadata": {},
   "outputs": [
    {
     "name": "stdout",
     "output_type": "stream",
     "text": [
      "슝=3\n"
     ]
    }
   ],
   "source": [
    "class MultiHeadAttention(tf.keras.layers.Layer):\n",
    "    def __init__(self, d_model, num_heads, name=\"multi_head_attention\"):\n",
    "        super(MultiHeadAttention, self).__init__(name=name)\n",
    "        self.num_heads = num_heads\n",
    "        self.d_model = d_model\n",
    "\n",
    "        assert d_model % self.num_heads == 0 # 나눠줘야 정상\n",
    "\n",
    "        self.depth = d_model // self.num_heads # head의 깊이를 의미 \n",
    "\n",
    "        # 임베딩 차원 만큼 만들기 embedding *head\n",
    "        self.query_dense = tf.keras.layers.Dense(units=d_model)\n",
    "        self.key_dense = tf.keras.layers.Dense(units=d_model)\n",
    "        self.value_dense = tf.keras.layers.Dense(units=d_model)\n",
    "\n",
    "        self.dense = tf.keras.layers.Dense(units=d_model)\n",
    "\n",
    "    # head 개수 만큼 나눈다 \n",
    "    def split_heads(self, inputs, batch_size):\n",
    "        inputs = tf.reshape(\n",
    "            inputs, shape=(batch_size, -1, self.num_heads, self.depth))\n",
    "        return tf.transpose(inputs, perm=[0, 2, 1, 3])\n",
    "\n",
    "    \n",
    "    def call(self, inputs):\n",
    "        query, key, value, mask = inputs['query'], inputs['key'], inputs['value'], inputs['mask']\n",
    "        batch_size = tf.shape(query)[0]\n",
    "\n",
    "        # Q, K, V에 각각 Dense를 적용합니다\n",
    "        query = self.query_dense(query)\n",
    "        key = self.key_dense(key)\n",
    "        value = self.value_dense(value)\n",
    "\n",
    "        # 병렬 연산을 위한 머리를 여러 개 만듭니다 -> 여기서 각 head 깊이 만큼 나눠진다 \n",
    "        query = self.split_heads(query, batch_size)\n",
    "        key = self.split_heads(key, batch_size)\n",
    "        value = self.split_heads(value, batch_size)\n",
    "\n",
    "        # 스케일드 닷 프로덕트 어텐션 함수\n",
    "        scaled_attention = scaled_dot_product_attention(query, key, value, mask)\n",
    "\n",
    "        scaled_attention = tf.transpose(scaled_attention, perm=[0, 2, 1, 3])\n",
    "\n",
    "        # 어텐션 연산 후에 각 결과를 다시 연결(concatenate)합니다\n",
    "        concat_attention = tf.reshape(scaled_attention,\n",
    "                                  (batch_size, -1, self.d_model))\n",
    "\n",
    "        # 최종 결과에도 Dense를 한 번 더 적용합니다\n",
    "        outputs = self.dense(concat_attention)\n",
    "\n",
    "        return outputs\n",
    "print(\"슝=3\")"
   ]
  },
  {
   "cell_type": "markdown",
   "id": "f10a4a9b",
   "metadata": {},
   "source": [
    "### MASKING \n",
    "\n"
   ]
  },
  {
   "cell_type": "code",
   "execution_count": 71,
   "id": "0b1b37ea",
   "metadata": {},
   "outputs": [
    {
     "name": "stdout",
     "output_type": "stream",
     "text": [
      "슝=3\n"
     ]
    }
   ],
   "source": [
    "# Encoder에 대한 padding 작업 \n",
    "def create_padding_mask(x):\n",
    "    mask = tf.cast(tf.math.equal(x, 0), tf.float32)\n",
    "    # (batch_size, 1, 1, sequence length)\n",
    "    return mask[:, tf.newaxis, tf.newaxis, :]\n",
    "print(\"슝=3\")"
   ]
  },
  {
   "cell_type": "code",
   "execution_count": 72,
   "id": "5dfe8e74",
   "metadata": {},
   "outputs": [
    {
     "name": "stdout",
     "output_type": "stream",
     "text": [
      "슝=3\n"
     ]
    }
   ],
   "source": [
    "# Decoder에 대한 패딩 작업 \n",
    "def create_look_ahead_mask(x):\n",
    "    seq_len = tf.shape(x)[1]\n",
    "    look_ahead_mask = 1 - tf.linalg.band_part(tf.ones((seq_len, seq_len)), -1, 0)\n",
    "    padding_mask = create_padding_mask(x)\n",
    "    return tf.maximum(look_ahead_mask, padding_mask)\n",
    "print(\"슝=3\")"
   ]
  },
  {
   "cell_type": "code",
   "execution_count": 73,
   "id": "33154a58",
   "metadata": {},
   "outputs": [
    {
     "name": "stdout",
     "output_type": "stream",
     "text": [
      "슝=3\n"
     ]
    }
   ],
   "source": [
    "# 인코더 하나의 레이어를 함수로 구현.\n",
    "# 이 하나의 레이어 안에는 두 개의 서브 레이어가 존재합니다.\n",
    "def encoder_layer(units, d_model, num_heads, dropout, name=\"encoder_layer\"):\n",
    "    inputs = tf.keras.Input(shape=(None, d_model), name=\"inputs\")\n",
    "\n",
    "    # 패딩 마스크 사용\n",
    "    padding_mask = tf.keras.Input(shape=(1, 1, None), name=\"padding_mask\")\n",
    "\n",
    "    # 첫 번째 서브 레이어 : 멀티 헤드 어텐션 수행 (셀프 어텐션)\n",
    "    attention = MultiHeadAttention(\n",
    "        d_model, num_heads, name=\"attention\")({\n",
    "        'query': inputs,\n",
    "        'key': inputs,\n",
    "        'value': inputs,\n",
    "        'mask': padding_mask\n",
    "    })\n",
    "\n",
    "    # 어텐션의 결과는 Dropout과 Layer Normalization이라는 훈련을 돕는 테크닉을 수행\n",
    "    attention = tf.keras.layers.Dropout(rate=dropout)(attention)\n",
    "    attention = tf.keras.layers.LayerNormalization(\n",
    "        epsilon=1e-6)(inputs + attention)\n",
    "\n",
    "    # 두 번째 서브 레이어 : 2개의 완전연결층\n",
    "    outputs = tf.keras.layers.Dense(units=units, activation='relu')(attention)\n",
    "    outputs = tf.keras.layers.Dense(units=d_model)(outputs)\n",
    "\n",
    "    # 완전연결층의 결과는 Dropout과 LayerNormalization이라는 훈련을 돕는 테크닉을 수행\n",
    "    outputs = tf.keras.layers.Dropout(rate=dropout)(outputs)\n",
    "    outputs = tf.keras.layers.LayerNormalization(epsilon=1e-6)(attention + outputs)\n",
    "\n",
    "    return tf.keras.Model(\n",
    "        inputs=[inputs, padding_mask], outputs=outputs, name=name)\n",
    "print(\"슝=3\")"
   ]
  },
  {
   "cell_type": "code",
   "execution_count": 74,
   "id": "7c8335af",
   "metadata": {},
   "outputs": [
    {
     "name": "stdout",
     "output_type": "stream",
     "text": [
      "슝=3\n"
     ]
    }
   ],
   "source": [
    "def encoder(vocab_size,\n",
    "            num_layers,\n",
    "            units,\n",
    "            d_model,\n",
    "            num_heads,\n",
    "            dropout,\n",
    "            name=\"encoder\"):\n",
    "    \n",
    "    \n",
    "    inputs = tf.keras.Input(shape=(None,), name=\"inputs\")\n",
    "\n",
    "    # 패딩 마스크 사용\n",
    "    padding_mask = tf.keras.Input(shape=(1, 1, None), name=\"padding_mask\")\n",
    "\n",
    "    #원드 벡터임베딩 \n",
    "    # 임베딩 레이어 \n",
    "    embeddings = tf.keras.layers.Embedding(vocab_size, d_model)(inputs)\n",
    "    embeddings *= tf.math.sqrt(tf.cast(d_model, tf.float32))\n",
    "\n",
    "    # 포지셔널 인코딩\n",
    "    embeddings = PositionalEncoding(vocab_size, d_model)(embeddings)\n",
    "\n",
    "    outputs = tf.keras.layers.Dropout(rate=dropout)(embeddings)\n",
    "\n",
    "    # num_layers만큼 쌓아올린 인코더의 층. 논문에서는 6개\n",
    "    # 워드 임베딩 + 포지션 나온 결과물을 ecoder layer에서 처리 \n",
    "    for i in range(num_layers):\n",
    "        \n",
    "        outputs = encoder_layer(\n",
    "            units=units,\n",
    "            d_model=d_model,\n",
    "            num_heads=num_heads,\n",
    "            dropout=dropout,\n",
    "            name=\"encoder_layer_{}\".format(i),\n",
    "        )([outputs, padding_mask])\n",
    "    \n",
    "    return tf.keras.Model(inputs=[inputs, padding_mask], outputs=outputs, name=name)\n",
    "print(\"슝=3\")"
   ]
  },
  {
   "cell_type": "code",
   "execution_count": 75,
   "id": "58a34278",
   "metadata": {},
   "outputs": [
    {
     "name": "stdout",
     "output_type": "stream",
     "text": [
      "슝=3\n"
     ]
    }
   ],
   "source": [
    "# 디코더 하나의 레이어를 함수로 구현.\n",
    "# 이 하나의 레이어 안에는 세 개의 서브 레이어가 존재합니다.\n",
    "def decoder_layer(units, d_model, num_heads, dropout, name=\"decoder_layer\"):\n",
    "    \n",
    "    inputs = tf.keras.Input(shape=(None, d_model), name=\"inputs\")\n",
    "    enc_outputs = tf.keras.Input(shape=(None, d_model), name=\"encoder_outputs\")\n",
    "    look_ahead_mask = tf.keras.Input(\n",
    "        shape=(1, None, None), name=\"look_ahead_mask\")\n",
    "    padding_mask = tf.keras.Input(shape=(1, 1, None), name='padding_mask')\n",
    "\n",
    "    # 첫 번째 서브 레이어 : 멀티 헤드 어텐션 수행 (셀프 어텐션) 디코더 입력에 따른 어텐션\n",
    "    attention1 = MultiHeadAttention(\n",
    "        d_model, num_heads, name=\"attention_1\")(inputs={\n",
    "        'query': inputs,\n",
    "        'key': inputs,\n",
    "        'value': inputs,\n",
    "        'mask': look_ahead_mask})\n",
    "    \n",
    "    # 멀티 헤드 어텐션의 결과는 LayerNormalization이라는 훈련을 돕는 테크닉을 수행\n",
    "    attention1 = tf.keras.layers.LayerNormalization(\n",
    "        epsilon=1e-6)(attention1 + inputs)\n",
    "\n",
    "    # 두 번째 서브 레이어 : 마스크드 멀티 헤드 어텐션 수행 (인코더-디코더 어텐션)\n",
    "    attention2 = MultiHeadAttention(\n",
    "        d_model, num_heads, name=\"attention_2\")(inputs={\n",
    "        'query': attention1,\n",
    "        'key': enc_outputs,\n",
    "        'value': enc_outputs,\n",
    "        'mask': padding_mask\n",
    "    })\n",
    "\n",
    "    # 마스크드 멀티 헤드 어텐션의 결과는\n",
    "    # Dropout과 LayerNormalization이라는 훈련을 돕는 테크닉을 수행\n",
    "    attention2 = tf.keras.layers.Dropout(rate=dropout)(attention2)\n",
    "    attention2 = tf.keras.layers.LayerNormalization(epsilon=1e-6)(attention2 + attention1)\n",
    "\n",
    "    # 세 번째 서브 레이어 : 2개의 완전연결층\n",
    "    outputs = tf.keras.layers.Dense(units=units, activation='relu')(attention2)\n",
    "    outputs = tf.keras.layers.Dense(units=d_model)(outputs)\n",
    "\n",
    "    # 완전연결층의 결과는 Dropout과 LayerNormalization 수행\n",
    "    outputs = tf.keras.layers.Dropout(rate=dropout)(outputs)\n",
    "    outputs = tf.keras.layers.LayerNormalization(epsilon=1e-6)(outputs + attention2)\n",
    "\n",
    "    return tf.keras.Model(\n",
    "        inputs=[inputs, enc_outputs, look_ahead_mask, padding_mask],\n",
    "        outputs=outputs,\n",
    "        name=name)\n",
    "\n",
    "print(\"슝=3\")"
   ]
  },
  {
   "cell_type": "code",
   "execution_count": 76,
   "id": "ca1a97b5",
   "metadata": {},
   "outputs": [
    {
     "name": "stdout",
     "output_type": "stream",
     "text": [
      "슝=3\n"
     ]
    }
   ],
   "source": [
    "def decoder(vocab_size,\n",
    "            num_layers,\n",
    "            units,\n",
    "            d_model,\n",
    "            num_heads,\n",
    "            dropout,\n",
    "            name='decoder'):\n",
    "    inputs = tf.keras.Input(shape=(None,), name='inputs')\n",
    "    enc_outputs = tf.keras.Input(shape=(None, d_model), name='encoder_outputs')\n",
    "    look_ahead_mask = tf.keras.Input(shape=(1, None, None), name='look_ahead_mask')\n",
    "\n",
    "    # 패딩 마스크\n",
    "    padding_mask = tf.keras.Input(shape=(1, 1, None), name='padding_mask')\n",
    "  \n",
    "    # 임베딩 레이어\n",
    "    embeddings = tf.keras.layers.Embedding(vocab_size, d_model)(inputs)\n",
    "    embeddings *= tf.math.sqrt(tf.cast(d_model, tf.float32))\n",
    "\n",
    "    # 포지셔널 인코딩\n",
    "    embeddings = PositionalEncoding(vocab_size, d_model)(embeddings)\n",
    "\n",
    "    # Dropout이라는 훈련을 돕는 테크닉을 수행 -> 워드 벡터 + 포지션 과정 결과 \n",
    "    outputs = tf.keras.layers.Dropout(rate=dropout)(embeddings)\n",
    "\n",
    "    # 레이터 개수 만큼 디코더 돌아간다 \n",
    "    for i in range(num_layers):\n",
    "        outputs = decoder_layer(\n",
    "            units=units,\n",
    "            d_model=d_model,\n",
    "            num_heads=num_heads,\n",
    "            dropout=dropout,\n",
    "            name='decoder_layer_{}'.format(i),\n",
    "        )(inputs=[outputs, enc_outputs, look_ahead_mask, padding_mask])\n",
    "    \n",
    "    return tf.keras.Model(\n",
    "        inputs=[inputs, enc_outputs, look_ahead_mask, padding_mask],\n",
    "        outputs=outputs,\n",
    "        name=name)\n",
    "print(\"슝=3\")"
   ]
  },
  {
   "cell_type": "markdown",
   "id": "4beae52b",
   "metadata": {},
   "source": [
    "## 트랜스포머 구성 하기 "
   ]
  },
  {
   "cell_type": "code",
   "execution_count": 77,
   "id": "a3ef959f",
   "metadata": {},
   "outputs": [
    {
     "name": "stdout",
     "output_type": "stream",
     "text": [
      "슝=3\n"
     ]
    }
   ],
   "source": [
    "def transformer(vocab_size,\n",
    "                num_layers,\n",
    "                units,\n",
    "                d_model,\n",
    "                num_heads,\n",
    "                dropout,\n",
    "                name=\"transformer\"):\n",
    "    \n",
    "    \n",
    "    inputs = tf.keras.Input(shape=(None,), name=\"inputs\")\n",
    "    dec_inputs = tf.keras.Input(shape=(None,), name=\"dec_inputs\")\n",
    "\n",
    "    # 인코더에서 패딩을 위한 마스크\n",
    "    enc_padding_mask = tf.keras.layers.Lambda(\n",
    "        create_padding_mask, output_shape=(1, 1, None),\n",
    "        name='enc_padding_mask')(inputs)\n",
    "\n",
    "    # 디코더에서 미래의 토큰을 마스크 하기 위해서 사용합니다.\n",
    "    # 내부적으로 패딩 마스크도 포함되어져 있습니다.\n",
    "    look_ahead_mask = tf.keras.layers.Lambda(\n",
    "        create_look_ahead_mask,\n",
    "        output_shape=(1, None, None),\n",
    "        name='look_ahead_mask')(dec_inputs)\n",
    "\n",
    "    # 두 번째 어텐션 블록에서 인코더의 벡터들을 마스킹\n",
    "    # 디코더에서 패딩을 위한 마스크\n",
    "    dec_padding_mask = tf.keras.layers.Lambda(\n",
    "        create_padding_mask, output_shape=(1, 1, None),\n",
    "        name='dec_padding_mask')(inputs)\n",
    "    \n",
    "    # 인코더\n",
    "    enc_outputs = encoder(\n",
    "        vocab_size=vocab_size,\n",
    "        num_layers=num_layers,\n",
    "        units=units,\n",
    "        d_model=d_model,\n",
    "        num_heads=num_heads,\n",
    "        dropout=dropout,)(inputs=[inputs, enc_padding_mask])\n",
    "\n",
    "    # 디코더\n",
    "    dec_outputs = decoder(\n",
    "        vocab_size=vocab_size,\n",
    "        num_layers=num_layers,\n",
    "        units=units,\n",
    "        d_model=d_model,\n",
    "        num_heads=num_heads,\n",
    "        dropout=dropout,\n",
    "    )(inputs=[dec_inputs, enc_outputs, look_ahead_mask, dec_padding_mask])\n",
    "\n",
    "    # 완전연결층\n",
    "    outputs = tf.keras.layers.Dense(units=vocab_size, name=\"outputs\")(dec_outputs)\n",
    "\n",
    "    return tf.keras.Model(inputs=[inputs, dec_inputs], outputs=outputs, name=name)\n",
    "print(\"슝=3\")"
   ]
  },
  {
   "cell_type": "markdown",
   "id": "302d94f4",
   "metadata": {},
   "source": [
    "## 모델 생성 "
   ]
  },
  {
   "cell_type": "code",
   "execution_count": 78,
   "id": "76fffbeb",
   "metadata": {},
   "outputs": [
    {
     "name": "stdout",
     "output_type": "stream",
     "text": [
      "Model: \"transformer\"\n",
      "__________________________________________________________________________________________________\n",
      "Layer (type)                    Output Shape         Param #     Connected to                     \n",
      "==================================================================================================\n",
      "inputs (InputLayer)             [(None, None)]       0                                            \n",
      "__________________________________________________________________________________________________\n",
      "dec_inputs (InputLayer)         [(None, None)]       0                                            \n",
      "__________________________________________________________________________________________________\n",
      "enc_padding_mask (Lambda)       (None, 1, 1, None)   0           inputs[0][0]                     \n",
      "__________________________________________________________________________________________________\n",
      "encoder (Functional)            (None, None, 256)    5255424     inputs[0][0]                     \n",
      "                                                                 enc_padding_mask[0][0]           \n",
      "__________________________________________________________________________________________________\n",
      "look_ahead_mask (Lambda)        (None, 1, None, None 0           dec_inputs[0][0]                 \n",
      "__________________________________________________________________________________________________\n",
      "dec_padding_mask (Lambda)       (None, 1, 1, None)   0           inputs[0][0]                     \n",
      "__________________________________________________________________________________________________\n",
      "decoder (Functional)            (None, None, 256)    6837504     dec_inputs[0][0]                 \n",
      "                                                                 encoder[0][0]                    \n",
      "                                                                 look_ahead_mask[0][0]            \n",
      "                                                                 dec_padding_mask[0][0]           \n",
      "__________________________________________________________________________________________________\n",
      "outputs (Dense)                 (None, None, 8175)   2100975     decoder[0][0]                    \n",
      "==================================================================================================\n",
      "Total params: 14,193,903\n",
      "Trainable params: 14,193,903\n",
      "Non-trainable params: 0\n",
      "__________________________________________________________________________________________________\n"
     ]
    }
   ],
   "source": [
    "tf.keras.backend.clear_session()\n",
    "\n",
    "# 하이퍼파라미터\n",
    "NUM_LAYERS = 6 # 인코더와 디코더의 층의 개수\n",
    "D_MODEL = 256# 인코더와 디코더 내부의 입, 출력의 고정 차원\n",
    "NUM_HEADS = 16 # 멀티 헤드 어텐션에서의 헤드 수 \n",
    "UNITS = 512 # 피드 포워드 신경망의 은닉층의 크기\n",
    "DROPOUT = 0.1 # 드롭아웃의 비율\n",
    "\n",
    "model = transformer(\n",
    "    vocab_size=VOCAB_SIZE,\n",
    "    num_layers=NUM_LAYERS,\n",
    "    units=UNITS,\n",
    "    d_model=D_MODEL,\n",
    "    num_heads=NUM_HEADS,\n",
    "    dropout=DROPOUT)\n",
    "\n",
    "\n",
    "model.summary()"
   ]
  },
  {
   "cell_type": "markdown",
   "id": "117d27ee",
   "metadata": {},
   "source": [
    "### loss 함수 커스텀 \n",
    "\n",
    "레이블인 시퀀스에 패딩이 있다 이에 맞는 loss 함수 필요 "
   ]
  },
  {
   "cell_type": "code",
   "execution_count": 79,
   "id": "b9d4ec6c",
   "metadata": {},
   "outputs": [
    {
     "name": "stdout",
     "output_type": "stream",
     "text": [
      "슝=3\n"
     ]
    }
   ],
   "source": [
    "def loss_function(y_true, y_pred):\n",
    "    y_true = tf.reshape(y_true, shape=(-1, MAX_LENGTH - 1))\n",
    "  \n",
    "    loss = tf.keras.losses.SparseCategoricalCrossentropy(\n",
    "        from_logits=True, reduction='none')(y_true, y_pred)\n",
    "    \n",
    "    mask = tf.cast(tf.not_equal(y_true, 0), tf.float32)\n",
    "    loss = tf.multiply(loss, mask)\n",
    "\n",
    "    return tf.reduce_mean(loss)\n",
    "\n",
    "print(\"슝=3\")"
   ]
  },
  {
   "cell_type": "code",
   "execution_count": 80,
   "id": "06f7ad96",
   "metadata": {},
   "outputs": [
    {
     "name": "stdout",
     "output_type": "stream",
     "text": [
      "슝=3\n"
     ]
    }
   ],
   "source": [
    "class CustomSchedule(tf.keras.optimizers.schedules.LearningRateSchedule):\n",
    "    \n",
    "    def __init__(self, d_model, warmup_steps=4000):\n",
    "        super(CustomSchedule, self).__init__()\n",
    "        self.d_model = d_model\n",
    "        self.d_model = tf.cast(self.d_model, tf.float32)\n",
    "\n",
    "        self.warmup_steps = warmup_steps\n",
    "\n",
    "    def __call__(self, step):\n",
    "        arg1 = tf.math.rsqrt(step)\n",
    "        arg2 = step * (self.warmup_steps**-1.5)\n",
    "        return tf.math.rsqrt(self.d_model) * tf.math.minimum(arg1, arg2)\n",
    "    \n",
    "    \n",
    "print(\"슝=3\")"
   ]
  },
  {
   "cell_type": "code",
   "execution_count": 81,
   "id": "3d08b494",
   "metadata": {},
   "outputs": [
    {
     "data": {
      "text/plain": [
       "Text(0.5, 0, 'Train Step')"
      ]
     },
     "execution_count": 81,
     "metadata": {},
     "output_type": "execute_result"
    },
    {
     "data": {
      "image/png": "[encoded data removed]",
      "text/plain": [
       "<Figure size 432x288 with 1 Axes>"
      ]
     },
     "metadata": {
      "needs_background": "light"
     },
     "output_type": "display_data"
    }
   ],
   "source": [
    "sample_learning_rate = CustomSchedule(d_model=128)\n",
    "\n",
    "plt.plot(sample_learning_rate(tf.range(200000, dtype=tf.float32)))\n",
    "plt.ylabel(\"Learning Rate\")\n",
    "plt.xlabel(\"Train Step\")"
   ]
  },
  {
   "cell_type": "code",
   "execution_count": 82,
   "id": "b78e7e2a",
   "metadata": {},
   "outputs": [
    {
     "name": "stdout",
     "output_type": "stream",
     "text": [
      "슝=3\n"
     ]
    }
   ],
   "source": [
    "# 컴파일 \n",
    "learning_rate = CustomSchedule(D_MODEL)\n",
    "\n",
    "optimizer = tf.keras.optimizers.Adam(\n",
    "    learning_rate, beta_1=0.9, beta_2=0.98, epsilon=1e-9)\n",
    "\n",
    "def accuracy(y_true, y_pred):\n",
    "    y_true = tf.reshape(y_true, shape=(-1, MAX_LENGTH - 1))\n",
    "    return tf.keras.metrics.sparse_categorical_accuracy(y_true, y_pred)\n",
    "\n",
    "model.compile(optimizer=optimizer, loss=loss_function, metrics=[accuracy])\n",
    "print(\"슝=3\")"
   ]
  },
  {
   "cell_type": "code",
   "execution_count": 83,
   "id": "edc8df75",
   "metadata": {},
   "outputs": [
    {
     "name": "stdout",
     "output_type": "stream",
     "text": [
      "Epoch 1/200\n",
      "185/185 [==============================] - 39s 122ms/step - loss: 1.4448 - accuracy: 0.0221\n",
      "Epoch 2/200\n",
      "185/185 [==============================] - 23s 124ms/step - loss: 1.1938 - accuracy: 0.0412\n",
      "Epoch 3/200\n",
      "185/185 [==============================] - 23s 124ms/step - loss: 1.0251 - accuracy: 0.0499\n",
      "Epoch 4/200\n",
      "185/185 [==============================] - 23s 125ms/step - loss: 0.9537 - accuracy: 0.0524\n",
      "Epoch 5/200\n",
      "185/185 [==============================] - 23s 125ms/step - loss: 0.9139 - accuracy: 0.0544\n",
      "Epoch 6/200\n",
      "185/185 [==============================] - 23s 125ms/step - loss: 0.8808 - accuracy: 0.0562\n",
      "Epoch 7/200\n",
      "185/185 [==============================] - 23s 126ms/step - loss: 0.8494 - accuracy: 0.0576\n",
      "Epoch 8/200\n",
      "185/185 [==============================] - 23s 125ms/step - loss: 0.8169 - accuracy: 0.0593\n",
      "Epoch 9/200\n",
      "185/185 [==============================] - 23s 125ms/step - loss: 0.7820 - accuracy: 0.0612\n",
      "Epoch 10/200\n",
      "185/185 [==============================] - 23s 126ms/step - loss: 0.7409 - accuracy: 0.0640\n",
      "Epoch 11/200\n",
      "185/185 [==============================] - 23s 125ms/step - loss: 0.6966 - accuracy: 0.0674\n",
      "Epoch 12/200\n",
      "185/185 [==============================] - 23s 125ms/step - loss: 0.6499 - accuracy: 0.0715\n",
      "Epoch 13/200\n",
      "185/185 [==============================] - 23s 125ms/step - loss: 0.6033 - accuracy: 0.0765\n",
      "Epoch 14/200\n",
      "185/185 [==============================] - 23s 125ms/step - loss: 0.5554 - accuracy: 0.0819\n",
      "Epoch 15/200\n",
      "185/185 [==============================] - 23s 125ms/step - loss: 0.5091 - accuracy: 0.0878\n",
      "Epoch 16/200\n",
      "185/185 [==============================] - 23s 125ms/step - loss: 0.4666 - accuracy: 0.0933\n",
      "Epoch 17/200\n",
      "185/185 [==============================] - 23s 125ms/step - loss: 0.4270 - accuracy: 0.0991\n",
      "Epoch 18/200\n",
      "185/185 [==============================] - 23s 125ms/step - loss: 0.3951 - accuracy: 0.1034\n",
      "Epoch 19/200\n",
      "185/185 [==============================] - 23s 126ms/step - loss: 0.3684 - accuracy: 0.1072\n",
      "Epoch 20/200\n",
      "185/185 [==============================] - 23s 125ms/step - loss: 0.3463 - accuracy: 0.1104\n",
      "Epoch 21/200\n",
      "185/185 [==============================] - 23s 125ms/step - loss: 0.3307 - accuracy: 0.1126\n",
      "Epoch 22/200\n",
      "185/185 [==============================] - 23s 125ms/step - loss: 0.3170 - accuracy: 0.1151\n",
      "Epoch 23/200\n",
      "185/185 [==============================] - 23s 125ms/step - loss: 0.3011 - accuracy: 0.1180\n",
      "Epoch 24/200\n",
      "185/185 [==============================] - 23s 125ms/step - loss: 0.2847 - accuracy: 0.1210\n",
      "Epoch 25/200\n",
      "185/185 [==============================] - 23s 125ms/step - loss: 0.2723 - accuracy: 0.1228\n",
      "Epoch 26/200\n",
      "185/185 [==============================] - 23s 125ms/step - loss: 0.2625 - accuracy: 0.1249\n",
      "Epoch 27/200\n",
      "185/185 [==============================] - 23s 125ms/step - loss: 0.2538 - accuracy: 0.1266\n",
      "Epoch 28/200\n",
      "185/185 [==============================] - 23s 125ms/step - loss: 0.2472 - accuracy: 0.1277\n",
      "Epoch 29/200\n",
      "185/185 [==============================] - 23s 125ms/step - loss: 0.2408 - accuracy: 0.1288\n",
      "Epoch 30/200\n",
      "185/185 [==============================] - 23s 125ms/step - loss: 0.2347 - accuracy: 0.1298\n",
      "Epoch 31/200\n",
      "185/185 [==============================] - 23s 125ms/step - loss: 0.2289 - accuracy: 0.1308\n",
      "Epoch 32/200\n",
      "185/185 [==============================] - 23s 126ms/step - loss: 0.2246 - accuracy: 0.1314\n",
      "Epoch 33/200\n",
      "185/185 [==============================] - 23s 125ms/step - loss: 0.2195 - accuracy: 0.1322\n",
      "Epoch 34/200\n",
      "185/185 [==============================] - 23s 125ms/step - loss: 0.2149 - accuracy: 0.1332\n",
      "Epoch 35/200\n",
      "185/185 [==============================] - 23s 125ms/step - loss: 0.2112 - accuracy: 0.1334\n",
      "Epoch 36/200\n",
      "185/185 [==============================] - 23s 125ms/step - loss: 0.2060 - accuracy: 0.1343\n",
      "Epoch 37/200\n",
      "185/185 [==============================] - 23s 125ms/step - loss: 0.2035 - accuracy: 0.1344\n",
      "Epoch 38/200\n",
      "185/185 [==============================] - 23s 125ms/step - loss: 0.1986 - accuracy: 0.1351\n",
      "Epoch 39/200\n",
      "185/185 [==============================] - 23s 125ms/step - loss: 0.1945 - accuracy: 0.1357\n",
      "Epoch 40/200\n",
      "185/185 [==============================] - 23s 125ms/step - loss: 0.1922 - accuracy: 0.1361\n",
      "Epoch 41/200\n",
      "185/185 [==============================] - 23s 125ms/step - loss: 0.1881 - accuracy: 0.1366\n",
      "Epoch 42/200\n",
      "185/185 [==============================] - 23s 124ms/step - loss: 0.1857 - accuracy: 0.1368\n",
      "Epoch 43/200\n",
      "185/185 [==============================] - 23s 125ms/step - loss: 0.1823 - accuracy: 0.1374\n",
      "Epoch 44/200\n",
      "185/185 [==============================] - 23s 125ms/step - loss: 0.1797 - accuracy: 0.1378\n",
      "Epoch 45/200\n",
      "185/185 [==============================] - 23s 125ms/step - loss: 0.1768 - accuracy: 0.1381\n",
      "Epoch 46/200\n",
      "185/185 [==============================] - 23s 126ms/step - loss: 0.1738 - accuracy: 0.1385\n",
      "Epoch 47/200\n",
      "185/185 [==============================] - 23s 124ms/step - loss: 0.1715 - accuracy: 0.1388\n",
      "Epoch 48/200\n",
      "185/185 [==============================] - 23s 125ms/step - loss: 0.1700 - accuracy: 0.1391\n",
      "Epoch 49/200\n",
      "185/185 [==============================] - 23s 125ms/step - loss: 0.1685 - accuracy: 0.1393\n",
      "Epoch 50/200\n",
      "185/185 [==============================] - 23s 125ms/step - loss: 0.1650 - accuracy: 0.1396\n",
      "Epoch 51/200\n",
      "185/185 [==============================] - 23s 125ms/step - loss: 0.1637 - accuracy: 0.1399\n",
      "Epoch 52/200\n",
      "185/185 [==============================] - 23s 125ms/step - loss: 0.1611 - accuracy: 0.1402\n",
      "Epoch 53/200\n",
      "185/185 [==============================] - 23s 125ms/step - loss: 0.1594 - accuracy: 0.1405\n",
      "Epoch 54/200\n",
      "185/185 [==============================] - 23s 125ms/step - loss: 0.1574 - accuracy: 0.1408\n",
      "Epoch 55/200\n",
      "185/185 [==============================] - 23s 125ms/step - loss: 0.1562 - accuracy: 0.1409\n",
      "Epoch 56/200\n",
      "185/185 [==============================] - 23s 124ms/step - loss: 0.1544 - accuracy: 0.1410\n",
      "Epoch 57/200\n",
      "185/185 [==============================] - 23s 125ms/step - loss: 0.1524 - accuracy: 0.1416\n",
      "Epoch 58/200\n",
      "185/185 [==============================] - 23s 125ms/step - loss: 0.1520 - accuracy: 0.1415\n",
      "Epoch 59/200\n",
      "185/185 [==============================] - 23s 126ms/step - loss: 0.1492 - accuracy: 0.1418\n",
      "Epoch 60/200\n",
      "185/185 [==============================] - 23s 125ms/step - loss: 0.1487 - accuracy: 0.1422\n",
      "Epoch 61/200\n",
      "185/185 [==============================] - 23s 125ms/step - loss: 0.1465 - accuracy: 0.1423\n",
      "Epoch 62/200\n",
      "185/185 [==============================] - 23s 125ms/step - loss: 0.1457 - accuracy: 0.1425\n",
      "Epoch 63/200\n",
      "185/185 [==============================] - 23s 124ms/step - loss: 0.1433 - accuracy: 0.1429\n",
      "Epoch 64/200\n",
      "185/185 [==============================] - 23s 125ms/step - loss: 0.1420 - accuracy: 0.1432\n",
      "Epoch 65/200\n",
      "185/185 [==============================] - 23s 125ms/step - loss: 0.1415 - accuracy: 0.1434\n",
      "Epoch 66/200\n",
      "185/185 [==============================] - 23s 125ms/step - loss: 0.1401 - accuracy: 0.1434\n",
      "Epoch 67/200\n",
      "185/185 [==============================] - 23s 125ms/step - loss: 0.1390 - accuracy: 0.1436\n",
      "Epoch 68/200\n",
      "185/185 [==============================] - 23s 125ms/step - loss: 0.1381 - accuracy: 0.1437\n",
      "Epoch 69/200\n",
      "185/185 [==============================] - 23s 125ms/step - loss: 0.1371 - accuracy: 0.1438\n",
      "Epoch 70/200\n",
      "185/185 [==============================] - 23s 125ms/step - loss: 0.1362 - accuracy: 0.1439\n",
      "Epoch 71/200\n",
      "185/185 [==============================] - 23s 125ms/step - loss: 0.1340 - accuracy: 0.1443\n",
      "Epoch 72/200\n",
      "185/185 [==============================] - 23s 124ms/step - loss: 0.1339 - accuracy: 0.1444\n",
      "Epoch 73/200\n",
      "185/185 [==============================] - 23s 126ms/step - loss: 0.1322 - accuracy: 0.1445\n",
      "Epoch 74/200\n",
      "185/185 [==============================] - 23s 125ms/step - loss: 0.1310 - accuracy: 0.1450\n",
      "Epoch 75/200\n",
      "185/185 [==============================] - 23s 125ms/step - loss: 0.1311 - accuracy: 0.1448\n",
      "Epoch 76/200\n",
      "185/185 [==============================] - 23s 125ms/step - loss: 0.1299 - accuracy: 0.1449\n",
      "Epoch 77/200\n",
      "185/185 [==============================] - 23s 124ms/step - loss: 0.1293 - accuracy: 0.1451\n",
      "Epoch 78/200\n",
      "185/185 [==============================] - 23s 125ms/step - loss: 0.1278 - accuracy: 0.1452\n",
      "Epoch 79/200\n",
      "185/185 [==============================] - 23s 125ms/step - loss: 0.1268 - accuracy: 0.1455\n",
      "Epoch 80/200\n",
      "185/185 [==============================] - 23s 125ms/step - loss: 0.1256 - accuracy: 0.1456\n",
      "Epoch 81/200\n",
      "185/185 [==============================] - 23s 125ms/step - loss: 0.1256 - accuracy: 0.1458\n",
      "Epoch 82/200\n",
      "185/185 [==============================] - 23s 125ms/step - loss: 0.1248 - accuracy: 0.1457\n",
      "Epoch 83/200\n",
      "185/185 [==============================] - 23s 125ms/step - loss: 0.1242 - accuracy: 0.1457\n",
      "Epoch 84/200\n",
      "185/185 [==============================] - 23s 124ms/step - loss: 0.1227 - accuracy: 0.1462\n",
      "Epoch 85/200\n",
      "185/185 [==============================] - 23s 125ms/step - loss: 0.1214 - accuracy: 0.1464\n",
      "Epoch 86/200\n",
      "185/185 [==============================] - 23s 125ms/step - loss: 0.1215 - accuracy: 0.1462\n",
      "Epoch 87/200\n",
      "185/185 [==============================] - 23s 125ms/step - loss: 0.1205 - accuracy: 0.1464\n",
      "Epoch 88/200\n",
      "185/185 [==============================] - 23s 125ms/step - loss: 0.1203 - accuracy: 0.1463\n",
      "Epoch 89/200\n",
      "185/185 [==============================] - 23s 125ms/step - loss: 0.1195 - accuracy: 0.1464\n",
      "Epoch 90/200\n",
      "185/185 [==============================] - 23s 125ms/step - loss: 0.1185 - accuracy: 0.1468\n",
      "Epoch 91/200\n",
      "185/185 [==============================] - 23s 124ms/step - loss: 0.1180 - accuracy: 0.1469\n",
      "Epoch 92/200\n",
      "185/185 [==============================] - 23s 125ms/step - loss: 0.1168 - accuracy: 0.1470\n",
      "Epoch 93/200\n",
      "185/185 [==============================] - 23s 125ms/step - loss: 0.1166 - accuracy: 0.1470\n",
      "Epoch 94/200\n",
      "185/185 [==============================] - 23s 124ms/step - loss: 0.1156 - accuracy: 0.1474\n",
      "Epoch 95/200\n",
      "185/185 [==============================] - 23s 124ms/step - loss: 0.1146 - accuracy: 0.1474\n",
      "Epoch 96/200\n",
      "185/185 [==============================] - 23s 124ms/step - loss: 0.1151 - accuracy: 0.1472\n",
      "Epoch 97/200\n",
      "185/185 [==============================] - 23s 125ms/step - loss: 0.1138 - accuracy: 0.1475\n",
      "Epoch 98/200\n",
      "185/185 [==============================] - 23s 124ms/step - loss: 0.1136 - accuracy: 0.1475\n",
      "Epoch 99/200\n",
      "185/185 [==============================] - 23s 124ms/step - loss: 0.1129 - accuracy: 0.1477\n",
      "Epoch 100/200\n",
      "185/185 [==============================] - 23s 125ms/step - loss: 0.1126 - accuracy: 0.1478\n",
      "Epoch 101/200\n",
      "185/185 [==============================] - 23s 125ms/step - loss: 0.1113 - accuracy: 0.1480\n",
      "Epoch 102/200\n",
      "185/185 [==============================] - 23s 125ms/step - loss: 0.1113 - accuracy: 0.1478\n",
      "Epoch 103/200\n",
      "185/185 [==============================] - 23s 125ms/step - loss: 0.1106 - accuracy: 0.1479\n",
      "Epoch 104/200\n",
      "185/185 [==============================] - 23s 125ms/step - loss: 0.1089 - accuracy: 0.1483\n",
      "Epoch 105/200\n",
      "185/185 [==============================] - 23s 125ms/step - loss: 0.1092 - accuracy: 0.1481\n",
      "Epoch 106/200\n",
      "185/185 [==============================] - 23s 125ms/step - loss: 0.1083 - accuracy: 0.1483\n",
      "Epoch 107/200\n",
      "185/185 [==============================] - 23s 125ms/step - loss: 0.1080 - accuracy: 0.1486\n",
      "Epoch 108/200\n",
      "185/185 [==============================] - 23s 124ms/step - loss: 0.1077 - accuracy: 0.1485\n",
      "Epoch 109/200\n",
      "185/185 [==============================] - 23s 124ms/step - loss: 0.1071 - accuracy: 0.1487\n",
      "Epoch 110/200\n",
      "185/185 [==============================] - 23s 124ms/step - loss: 0.1067 - accuracy: 0.1487\n",
      "Epoch 111/200\n",
      "185/185 [==============================] - 23s 125ms/step - loss: 0.1064 - accuracy: 0.1488\n",
      "Epoch 112/200\n",
      "185/185 [==============================] - 23s 124ms/step - loss: 0.1050 - accuracy: 0.1489\n",
      "Epoch 113/200\n",
      "185/185 [==============================] - 23s 126ms/step - loss: 0.1050 - accuracy: 0.1489\n",
      "Epoch 114/200\n",
      "185/185 [==============================] - 23s 125ms/step - loss: 0.1046 - accuracy: 0.1490\n",
      "Epoch 115/200\n",
      "185/185 [==============================] - 23s 124ms/step - loss: 0.1039 - accuracy: 0.1491\n",
      "Epoch 116/200\n",
      "185/185 [==============================] - 23s 125ms/step - loss: 0.1039 - accuracy: 0.1493\n",
      "Epoch 117/200\n",
      "185/185 [==============================] - 23s 124ms/step - loss: 0.1027 - accuracy: 0.1495\n",
      "Epoch 118/200\n",
      "185/185 [==============================] - 23s 125ms/step - loss: 0.1025 - accuracy: 0.1493\n",
      "Epoch 119/200\n",
      "185/185 [==============================] - 23s 124ms/step - loss: 0.1018 - accuracy: 0.1496\n",
      "Epoch 120/200\n",
      "185/185 [==============================] - 23s 124ms/step - loss: 0.1021 - accuracy: 0.1495\n",
      "Epoch 121/200\n",
      "185/185 [==============================] - 23s 125ms/step - loss: 0.1011 - accuracy: 0.1497\n",
      "Epoch 122/200\n",
      "185/185 [==============================] - 23s 124ms/step - loss: 0.1012 - accuracy: 0.1495\n",
      "Epoch 123/200\n",
      "185/185 [==============================] - 23s 124ms/step - loss: 0.1005 - accuracy: 0.1497\n",
      "Epoch 124/200\n",
      "185/185 [==============================] - 23s 124ms/step - loss: 0.0999 - accuracy: 0.1498\n",
      "Epoch 125/200\n",
      "185/185 [==============================] - 23s 125ms/step - loss: 0.0996 - accuracy: 0.1500\n",
      "Epoch 126/200\n",
      "185/185 [==============================] - 23s 125ms/step - loss: 0.0989 - accuracy: 0.1500\n",
      "Epoch 127/200\n",
      "185/185 [==============================] - 23s 125ms/step - loss: 0.0986 - accuracy: 0.1500\n",
      "Epoch 128/200\n",
      "185/185 [==============================] - 23s 124ms/step - loss: 0.0980 - accuracy: 0.1501\n",
      "Epoch 129/200\n",
      "185/185 [==============================] - 23s 124ms/step - loss: 0.0981 - accuracy: 0.1501\n",
      "Epoch 130/200\n",
      "185/185 [==============================] - 23s 124ms/step - loss: 0.0976 - accuracy: 0.1504\n",
      "Epoch 131/200\n",
      "185/185 [==============================] - 23s 124ms/step - loss: 0.0972 - accuracy: 0.1505\n",
      "Epoch 132/200\n",
      "185/185 [==============================] - 23s 124ms/step - loss: 0.0974 - accuracy: 0.1504\n",
      "Epoch 133/200\n",
      "185/185 [==============================] - 23s 124ms/step - loss: 0.0964 - accuracy: 0.1506\n",
      "Epoch 134/200\n",
      "185/185 [==============================] - 23s 125ms/step - loss: 0.0957 - accuracy: 0.1507\n",
      "Epoch 135/200\n",
      "185/185 [==============================] - 23s 125ms/step - loss: 0.0956 - accuracy: 0.1507\n",
      "Epoch 136/200\n",
      "185/185 [==============================] - 23s 125ms/step - loss: 0.0956 - accuracy: 0.1506\n",
      "Epoch 137/200\n",
      "185/185 [==============================] - 23s 124ms/step - loss: 0.0950 - accuracy: 0.1507\n",
      "Epoch 138/200\n",
      "185/185 [==============================] - 23s 126ms/step - loss: 0.0946 - accuracy: 0.1507\n",
      "Epoch 139/200\n",
      "185/185 [==============================] - 23s 125ms/step - loss: 0.0939 - accuracy: 0.1510\n",
      "Epoch 140/200\n",
      "185/185 [==============================] - 23s 124ms/step - loss: 0.0932 - accuracy: 0.1509\n",
      "Epoch 141/200\n",
      "185/185 [==============================] - 23s 124ms/step - loss: 0.0927 - accuracy: 0.1511\n",
      "Epoch 142/200\n",
      "185/185 [==============================] - 23s 125ms/step - loss: 0.0922 - accuracy: 0.1513\n",
      "Epoch 143/200\n",
      "185/185 [==============================] - 23s 124ms/step - loss: 0.0926 - accuracy: 0.1511\n",
      "Epoch 144/200\n",
      "185/185 [==============================] - 23s 124ms/step - loss: 0.0929 - accuracy: 0.1511\n",
      "Epoch 145/200\n",
      "185/185 [==============================] - 23s 124ms/step - loss: 0.0918 - accuracy: 0.1514\n",
      "Epoch 146/200\n",
      "185/185 [==============================] - 23s 124ms/step - loss: 0.0912 - accuracy: 0.1514\n",
      "Epoch 147/200\n",
      "185/185 [==============================] - 23s 124ms/step - loss: 0.0914 - accuracy: 0.1514\n",
      "Epoch 148/200\n",
      "185/185 [==============================] - 23s 124ms/step - loss: 0.0916 - accuracy: 0.1513\n",
      "Epoch 149/200\n",
      "185/185 [==============================] - 23s 124ms/step - loss: 0.0898 - accuracy: 0.1518\n",
      "Epoch 150/200\n",
      "185/185 [==============================] - 23s 124ms/step - loss: 0.0907 - accuracy: 0.1516\n",
      "Epoch 151/200\n",
      "185/185 [==============================] - 23s 124ms/step - loss: 0.0901 - accuracy: 0.1517\n",
      "Epoch 152/200\n",
      "185/185 [==============================] - 23s 124ms/step - loss: 0.0896 - accuracy: 0.1518\n",
      "Epoch 153/200\n",
      "185/185 [==============================] - 23s 125ms/step - loss: 0.0892 - accuracy: 0.1519\n",
      "Epoch 154/200\n",
      "185/185 [==============================] - 23s 124ms/step - loss: 0.0888 - accuracy: 0.1519\n",
      "Epoch 155/200\n",
      "185/185 [==============================] - 23s 125ms/step - loss: 0.0888 - accuracy: 0.1520\n",
      "Epoch 156/200\n",
      "185/185 [==============================] - 23s 124ms/step - loss: 0.0884 - accuracy: 0.1518\n",
      "Epoch 157/200\n",
      "185/185 [==============================] - 23s 124ms/step - loss: 0.0877 - accuracy: 0.1520\n",
      "Epoch 158/200\n",
      "185/185 [==============================] - 23s 124ms/step - loss: 0.0882 - accuracy: 0.1521\n",
      "Epoch 159/200\n",
      "185/185 [==============================] - 23s 124ms/step - loss: 0.0872 - accuracy: 0.1522\n",
      "Epoch 160/200\n",
      "185/185 [==============================] - 23s 124ms/step - loss: 0.0873 - accuracy: 0.1522\n",
      "Epoch 161/200\n",
      "185/185 [==============================] - 23s 124ms/step - loss: 0.0867 - accuracy: 0.1522\n",
      "Epoch 162/200\n",
      "185/185 [==============================] - 23s 124ms/step - loss: 0.0868 - accuracy: 0.1522\n",
      "Epoch 163/200\n",
      "185/185 [==============================] - 23s 124ms/step - loss: 0.0863 - accuracy: 0.1525\n",
      "Epoch 164/200\n",
      "185/185 [==============================] - 23s 124ms/step - loss: 0.0862 - accuracy: 0.1523\n",
      "Epoch 165/200\n",
      "185/185 [==============================] - 23s 125ms/step - loss: 0.0859 - accuracy: 0.1523\n",
      "Epoch 166/200\n",
      "185/185 [==============================] - 23s 125ms/step - loss: 0.0852 - accuracy: 0.1526\n",
      "Epoch 167/200\n",
      "185/185 [==============================] - 23s 124ms/step - loss: 0.0858 - accuracy: 0.1525\n",
      "Epoch 168/200\n",
      "185/185 [==============================] - 23s 124ms/step - loss: 0.0853 - accuracy: 0.1526\n",
      "Epoch 169/200\n",
      "185/185 [==============================] - 23s 124ms/step - loss: 0.0844 - accuracy: 0.1528\n",
      "Epoch 170/200\n",
      "185/185 [==============================] - 23s 125ms/step - loss: 0.0844 - accuracy: 0.1526\n",
      "Epoch 171/200\n",
      "185/185 [==============================] - 23s 124ms/step - loss: 0.0840 - accuracy: 0.1527\n",
      "Epoch 172/200\n",
      "185/185 [==============================] - 23s 125ms/step - loss: 0.0841 - accuracy: 0.1528\n",
      "Epoch 173/200\n",
      "185/185 [==============================] - 23s 125ms/step - loss: 0.0834 - accuracy: 0.1530\n",
      "Epoch 174/200\n",
      "185/185 [==============================] - 23s 124ms/step - loss: 0.0837 - accuracy: 0.1529\n",
      "Epoch 175/200\n",
      "185/185 [==============================] - 23s 124ms/step - loss: 0.0834 - accuracy: 0.1530\n",
      "Epoch 176/200\n",
      "185/185 [==============================] - 23s 124ms/step - loss: 0.0824 - accuracy: 0.1532\n",
      "Epoch 177/200\n",
      "185/185 [==============================] - 23s 124ms/step - loss: 0.0830 - accuracy: 0.1529\n",
      "Epoch 178/200\n",
      "185/185 [==============================] - 23s 124ms/step - loss: 0.0834 - accuracy: 0.1530\n",
      "Epoch 179/200\n",
      "185/185 [==============================] - 23s 124ms/step - loss: 0.0817 - accuracy: 0.1532\n",
      "Epoch 180/200\n",
      "185/185 [==============================] - 23s 125ms/step - loss: 0.0816 - accuracy: 0.1534\n",
      "Epoch 181/200\n",
      "185/185 [==============================] - 23s 124ms/step - loss: 0.0816 - accuracy: 0.1535\n",
      "Epoch 182/200\n",
      "185/185 [==============================] - 23s 124ms/step - loss: 0.0817 - accuracy: 0.1531\n",
      "Epoch 183/200\n",
      "185/185 [==============================] - 23s 124ms/step - loss: 0.0811 - accuracy: 0.1534\n",
      "Epoch 184/200\n",
      "185/185 [==============================] - 23s 124ms/step - loss: 0.0807 - accuracy: 0.1537\n",
      "Epoch 185/200\n",
      "185/185 [==============================] - 23s 124ms/step - loss: 0.0807 - accuracy: 0.1533\n",
      "Epoch 186/200\n",
      "185/185 [==============================] - 23s 124ms/step - loss: 0.0805 - accuracy: 0.1536\n",
      "Epoch 187/200\n",
      "185/185 [==============================] - 23s 124ms/step - loss: 0.0795 - accuracy: 0.1537\n",
      "Epoch 188/200\n",
      "185/185 [==============================] - 23s 124ms/step - loss: 0.0796 - accuracy: 0.1538\n",
      "Epoch 189/200\n",
      "185/185 [==============================] - 23s 124ms/step - loss: 0.0788 - accuracy: 0.1539\n",
      "Epoch 190/200\n",
      "185/185 [==============================] - 23s 124ms/step - loss: 0.0797 - accuracy: 0.1538\n",
      "Epoch 191/200\n",
      "185/185 [==============================] - 23s 124ms/step - loss: 0.0789 - accuracy: 0.1541\n",
      "Epoch 192/200\n",
      "185/185 [==============================] - 23s 124ms/step - loss: 0.0788 - accuracy: 0.1536\n",
      "Epoch 193/200\n",
      "185/185 [==============================] - 23s 125ms/step - loss: 0.0788 - accuracy: 0.1538\n",
      "Epoch 194/200\n",
      "185/185 [==============================] - 23s 125ms/step - loss: 0.0777 - accuracy: 0.1541\n",
      "Epoch 195/200\n",
      "185/185 [==============================] - 23s 124ms/step - loss: 0.0778 - accuracy: 0.1541\n",
      "Epoch 196/200\n",
      "185/185 [==============================] - 23s 124ms/step - loss: 0.0786 - accuracy: 0.1540\n",
      "Epoch 197/200\n",
      "185/185 [==============================] - 23s 124ms/step - loss: 0.0772 - accuracy: 0.1541\n",
      "Epoch 198/200\n",
      "185/185 [==============================] - 23s 124ms/step - loss: 0.0792 - accuracy: 0.1537\n",
      "Epoch 199/200\n",
      "185/185 [==============================] - 23s 124ms/step - loss: 0.0778 - accuracy: 0.1540\n",
      "Epoch 200/200\n",
      "185/185 [==============================] - 23s 124ms/step - loss: 0.0773 - accuracy: 0.1543\n"
     ]
    },
    {
     "data": {
      "text/plain": [
       "<keras.callbacks.History at 0x7ff7a5dd4550>"
      ]
     },
     "execution_count": 83,
     "metadata": {},
     "output_type": "execute_result"
    }
   ],
   "source": [
    "# 훈련 \n",
    "EPOCHS = 200\n",
    "model.fit(dataset, epochs=EPOCHS, verbose=1)"
   ]
  },
  {
   "cell_type": "markdown",
   "id": "dde841a1",
   "metadata": {},
   "source": [
    "## 모델 평가 하기 "
   ]
  },
  {
   "cell_type": "code",
   "execution_count": 84,
   "id": "4c17b803",
   "metadata": {},
   "outputs": [
    {
     "name": "stdout",
     "output_type": "stream",
     "text": [
      "슝=3\n"
     ]
    }
   ],
   "source": [
    "def decoder_inference(sentence):\n",
    "    sentence = preprocess_sentence(sentence)\n",
    "\n",
    "    # 입력된 문장을 정수 인코딩 후, 시작 토큰과 종료 토큰을 앞뒤로 추가.\n",
    "    # ex) Where have you been? → [[8331   86   30    5 1059    7 8332]]\n",
    "    sentence = tf.expand_dims(\n",
    "        START_TOKEN + tokenizer.encode(sentence) + END_TOKEN, axis=0)\n",
    "\n",
    "    # 디코더의 현재까지의 예측한 출력 시퀀스가 지속적으로 저장되는 변수.\n",
    "    # 처음에는 예측한 내용이 없음으로 시작 토큰만 별도 저장. ex) 8331\n",
    "    output_sequence = tf.expand_dims(START_TOKEN, 0)\n",
    "\n",
    "    #  디코더의 인퍼런스 단계\n",
    "    for i in range(MAX_LENGTH):\n",
    "        # 디코더는 최대 MAX_LENGTH의 길이만큼 다음 단어 예측을 반복합니다.\n",
    "        predictions = model(inputs=[sentence, output_sequence], training=False)\n",
    "        predictions = predictions[:, -1:, :]\n",
    "\n",
    "        # 현재 예측한 단어의 정수\n",
    "        predicted_id = tf.cast(tf.argmax(predictions, axis=-1), tf.int32)\n",
    "        # 만약 현재 예측한 단어가 종료 토큰이라면 for문을 종료\n",
    "        if tf.equal(predicted_id, END_TOKEN[0]):\n",
    "            break\n",
    "\n",
    "        # 예측한 단어들은 지속적으로 output_sequence에 추가됩니다.\n",
    "        # 이 output_sequence는 다시 디코더의 입력이 됩니다.\n",
    "        output_sequence = tf.concat([output_sequence, predicted_id], axis=-1)\n",
    "\n",
    "    return tf.squeeze(output_sequence, axis=0)\n",
    "print(\"슝=3\")"
   ]
  },
  {
   "cell_type": "code",
   "execution_count": 85,
   "id": "2bf8930e",
   "metadata": {},
   "outputs": [
    {
     "name": "stdout",
     "output_type": "stream",
     "text": [
      "슝=3\n"
     ]
    }
   ],
   "source": [
    "def sentence_generation(sentence):\n",
    "    # 입력 문장에 대해서 디코더를 동작 시켜 예측된 정수 시퀀스를 리턴받습니다.\n",
    "    prediction = decoder_inference(sentence)\n",
    "\n",
    "    # 정수 시퀀스를 다시 텍스트 시퀀스로 변환합니다.\n",
    "    predicted_sentence = tokenizer.decode(\n",
    "        [i for i in prediction if i < tokenizer.vocab_size])\n",
    "    print('입력 : {}'.format(sentence))\n",
    "    print('출력 : {}'.format(predicted_sentence))\n",
    "\n",
    "    return predicted_sentence\n",
    "print(\"슝=3\")"
   ]
  },
  {
   "cell_type": "code",
   "execution_count": 86,
   "id": "2d74f1fe",
   "metadata": {},
   "outputs": [],
   "source": [
    "input_list =[\n",
    "    \"안녕?\",\n",
    "    \"고민이있어\",\n",
    "    \"위로해줘\",\n",
    "    \"오늘 하루 즐거웠어\",\n",
    "    \"놀자\",\n",
    "    \"게임하고 싶다\",\n",
    "    \"쉬고 싶어\",\n",
    "    \"잠을 못자\",\n",
    "    \"잠을 요즘 너무 많이 자\",\n",
    "    \"짜증나\",\n",
    "    \"왜그래?\",\n",
    "    \"뭐 먹을래?\",\n",
    "    \"메뉴 추천해줘\",\n",
    "    \"안녕하세요 오늘 하루 정말 즐거웠어요 오늘 하루 어땠나요? 좋았나요? 저한테 말을 해주세요 \"\n",
    "    \n",
    "            ]"
   ]
  },
  {
   "cell_type": "code",
   "execution_count": 87,
   "id": "55eafb82",
   "metadata": {},
   "outputs": [
    {
     "name": "stdout",
     "output_type": "stream",
     "text": [
      "입력 : 안녕?\n",
      "출력 : 안녕하세요 .\n",
      "입력 : 고민이있어\n",
      "출력 : 더 많아도 괜찮아요 .\n",
      "입력 : 위로해줘\n",
      "출력 : 힘내세요 .\n",
      "입력 : 오늘 하루 즐거웠어\n",
      "출력 : 능력이라면 능력이겠죠 .\n",
      "입력 : 놀자\n",
      "출력 : 혼자 사는 것도 나쁘지 않아요 .\n",
      "입력 : 게임하고 싶다\n",
      "출력 : 게임하세요 !\n",
      "입력 : 쉬고 싶어\n",
      "출력 : 아무 생각 하지 말고 쉬세요 .\n",
      "입력 : 잠을 못자\n",
      "출력 : 잠이 최고의 보약이에요 . 노력해보세요 .\n",
      "입력 : 잠을 요즘 너무 많이 자\n",
      "출력 : 노력하겠습니다 .\n",
      "입력 : 짜증나\n",
      "출력 : 짜증날 때는 기분 푸는 음악 어때요 ?\n",
      "입력 : 왜그래?\n",
      "출력 : 어떻게 하느냐에 따라 달라질 거예요 .\n",
      "입력 : 뭐 먹을래?\n",
      "출력 : 듀엣곡 연습하고 가세요 .\n",
      "입력 : 메뉴 추천해줘\n",
      "출력 : 구두로 멋을 내보세요 .\n",
      "입력 : 안녕하세요 오늘 하루 정말 즐거웠어요 오늘 하루 어땠나요? 좋았나요? 저한테 말을 해주세요 \n",
      "출력 : 진심으로 마음을 전해보세요 .\n"
     ]
    }
   ],
   "source": [
    "for i in input_list:\n",
    "    \n",
    "    sentence_generation(i)"
   ]
  },
  {
   "cell_type": "markdown",
   "id": "389f5af6",
   "metadata": {},
   "source": [
    "# 회고 \n",
    "\n",
    "전반적인 코드를 보고 트랜스포머의 논문 내용을 이해해볼수있는 시간이었다. 챗봇 예제를 몇개 만들고 decode해본 결과 거의 만족할만한 결과가 나온것 같다  \n",
    "\n",
    "NUM_LAYERS = 6 # 인코더와 디코더의 층의 개수  \n",
    "D_MODEL = 256# 인코더와 디코더 내부의 입, 출력의 고정 차원  \n",
    "NUM_HEADS = 16 # 멀티 헤드 어텐션에서의 헤드 수   \n",
    "UNITS = 512 # 피드 포워드 신경망의 은닉층의 크기  \n",
    "DROPOUT = 0.1 # 드롭아웃의 비율  \n",
    "\n",
    "하이퍼 파라미터 설정은 위에 처럼 head를 16개로 해주고 layer수를 6개로 바꾸어주었다  \n",
    "문장의 길이가 40이상인 문장에 대해서는 인식이 잘 안되고 짧은 문장에 대해서는 어느정도 괜찮은 결과가 나온것 같다 \n",
    "\n",
    "평가 방식이 따로 찾지 못했는데 모델의 성능을 평가 못한게 아쉬웠다"
   ]
  },
  {
   "cell_type": "code",
   "execution_count": null,
   "id": "5d539eef",
   "metadata": {},
   "outputs": [],
   "source": []
  },
  {
   "cell_type": "code",
   "execution_count": null,
   "id": "a9a7be3b",
   "metadata": {},
   "outputs": [],
   "source": []
  }
 ],
 "metadata": {
  "kernelspec": {
   "display_name": "Python 3 (ipykernel)",
   "language": "python",
   "name": "python3"
  },
  "language_info": {
   "codemirror_mode": {
    "name": "ipython",
    "version": 3
   },
   "file_extension": ".py",
   "mimetype": "text/x-python",
   "name": "python",
   "nbconvert_exporter": "python",
   "pygments_lexer": "ipython3",
   "version": "3.9.7"
  }
 },
 "nbformat": 4,
 "nbformat_minor": 5
}
