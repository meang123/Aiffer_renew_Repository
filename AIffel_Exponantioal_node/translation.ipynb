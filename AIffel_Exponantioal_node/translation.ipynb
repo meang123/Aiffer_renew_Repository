{
 "cells": [
  {
   "cell_type": "markdown",
   "id": "8485ac35",
   "metadata": {},
   "source": [
    "# 번역기 익스 \n",
    "\n",
    "\n",
    "https://www.manythings.org/anki/ 에서 fra-eng.zip을 다운 받아서 사용한다 \n",
    "\n",
    "\n"
   ]
  },
  {
   "cell_type": "code",
   "execution_count": 294,
   "id": "ab5009e6",
   "metadata": {},
   "outputs": [],
   "source": [
    "import pandas as pd\n",
    "from tensorflow.keras.preprocessing.text import Tokenizer\n",
    "from tensorflow.keras.preprocessing.sequence import pad_sequences\n",
    "from tensorflow.keras.utils import to_categorical\n",
    "import numpy as np"
   ]
  },
  {
   "cell_type": "code",
   "execution_count": 295,
   "id": "6b01661a",
   "metadata": {
    "scrolled": true
   },
   "outputs": [
    {
     "name": "stdout",
     "output_type": "stream",
     "text": [
      "전체 샘플의 수 : 197463\n"
     ]
    },
    {
     "data": {
      "text/html": [
       "<div>\n",
       "<style scoped>\n",
       "    .dataframe tbody tr th:only-of-type {\n",
       "        vertical-align: middle;\n",
       "    }\n",
       "\n",
       "    .dataframe tbody tr th {\n",
       "        vertical-align: top;\n",
       "    }\n",
       "\n",
       "    .dataframe thead th {\n",
       "        text-align: right;\n",
       "    }\n",
       "</style>\n",
       "<table border=\"1\" class=\"dataframe\">\n",
       "  <thead>\n",
       "    <tr style=\"text-align: right;\">\n",
       "      <th></th>\n",
       "      <th>eng</th>\n",
       "      <th>fra</th>\n",
       "      <th>cc</th>\n",
       "    </tr>\n",
       "  </thead>\n",
       "  <tbody>\n",
       "    <tr>\n",
       "      <th>98198</th>\n",
       "      <td>The zoo is closed on Monday.</td>\n",
       "      <td>Le zoo est fermé le lundi.</td>\n",
       "      <td>CC-BY 2.0 (France) Attribution: tatoeba.org #3...</td>\n",
       "    </tr>\n",
       "    <tr>\n",
       "      <th>73564</th>\n",
       "      <td>Maybe that's a good idea.</td>\n",
       "      <td>Peut-être est-ce une bonne idée.</td>\n",
       "      <td>CC-BY 2.0 (France) Attribution: tatoeba.org #4...</td>\n",
       "    </tr>\n",
       "    <tr>\n",
       "      <th>74319</th>\n",
       "      <td>That isn't what it means.</td>\n",
       "      <td>Ce n'est pas ce que ça signifie.</td>\n",
       "      <td>CC-BY 2.0 (France) Attribution: tatoeba.org #1...</td>\n",
       "    </tr>\n",
       "    <tr>\n",
       "      <th>150948</th>\n",
       "      <td>I was a volunteer for two afternoons.</td>\n",
       "      <td>J'ai été bénévole pendant deux après-midis.</td>\n",
       "      <td>CC-BY 2.0 (France) Attribution: tatoeba.org #1...</td>\n",
       "    </tr>\n",
       "    <tr>\n",
       "      <th>181093</th>\n",
       "      <td>It took me a long time to get used to the noise.</td>\n",
       "      <td>M'accoutumer au bruit me prit un long moment.</td>\n",
       "      <td>CC-BY 2.0 (France) Attribution: tatoeba.org #2...</td>\n",
       "    </tr>\n",
       "  </tbody>\n",
       "</table>\n",
       "</div>"
      ],
      "text/plain": [
       "                                                     eng  \\\n",
       "98198                       The zoo is closed on Monday.   \n",
       "73564                          Maybe that's a good idea.   \n",
       "74319                          That isn't what it means.   \n",
       "150948             I was a volunteer for two afternoons.   \n",
       "181093  It took me a long time to get used to the noise.   \n",
       "\n",
       "                                                  fra  \\\n",
       "98198                      Le zoo est fermé le lundi.   \n",
       "73564                Peut-être est-ce une bonne idée.   \n",
       "74319                Ce n'est pas ce que ça signifie.   \n",
       "150948    J'ai été bénévole pendant deux après-midis.   \n",
       "181093  M'accoutumer au bruit me prit un long moment.   \n",
       "\n",
       "                                                       cc  \n",
       "98198   CC-BY 2.0 (France) Attribution: tatoeba.org #3...  \n",
       "73564   CC-BY 2.0 (France) Attribution: tatoeba.org #4...  \n",
       "74319   CC-BY 2.0 (France) Attribution: tatoeba.org #1...  \n",
       "150948  CC-BY 2.0 (France) Attribution: tatoeba.org #1...  \n",
       "181093  CC-BY 2.0 (France) Attribution: tatoeba.org #2...  "
      ]
     },
     "execution_count": 295,
     "metadata": {},
     "output_type": "execute_result"
    }
   ],
   "source": [
    "import os\n",
    "file_path = os.getenv('HOME')+'/aiffel/translator_seq2seq/data/fra.txt'\n",
    "lines = pd.read_csv(file_path, names=['eng', 'fra', 'cc'], sep='\\t')\n",
    "print('전체 샘플의 수 :',len(lines))\n",
    "lines.sample(5) #샘플 5개 출력"
   ]
  },
  {
   "cell_type": "code",
   "execution_count": 296,
   "id": "4a484e9a",
   "metadata": {
    "scrolled": true
   },
   "outputs": [
    {
     "data": {
      "text/plain": [
       "(50000, 2)"
      ]
     },
     "execution_count": 296,
     "metadata": {},
     "output_type": "execute_result"
    }
   ],
   "source": [
    "# 19만에서 5만으로 줄이기 \n",
    "lines = lines[['eng', 'fra']][:50000] # 5만개 샘플 사용\n",
    "lines.shape"
   ]
  },
  {
   "cell_type": "code",
   "execution_count": 297,
   "id": "d10cf82f",
   "metadata": {
    "scrolled": true
   },
   "outputs": [
    {
     "name": "stdout",
     "output_type": "stream",
     "text": [
      "전체 샘플의 수 : 50000\n"
     ]
    },
    {
     "data": {
      "text/html": [
       "<div>\n",
       "<style scoped>\n",
       "    .dataframe tbody tr th:only-of-type {\n",
       "        vertical-align: middle;\n",
       "    }\n",
       "\n",
       "    .dataframe tbody tr th {\n",
       "        vertical-align: top;\n",
       "    }\n",
       "\n",
       "    .dataframe thead th {\n",
       "        text-align: right;\n",
       "    }\n",
       "</style>\n",
       "<table border=\"1\" class=\"dataframe\">\n",
       "  <thead>\n",
       "    <tr style=\"text-align: right;\">\n",
       "      <th></th>\n",
       "      <th>eng</th>\n",
       "      <th>fra</th>\n",
       "    </tr>\n",
       "  </thead>\n",
       "  <tbody>\n",
       "    <tr>\n",
       "      <th>35029</th>\n",
       "      <td>Go easy on the wine.</td>\n",
       "      <td>\\t Vas-y doucement avec le vin. \\n</td>\n",
       "    </tr>\n",
       "    <tr>\n",
       "      <th>7021</th>\n",
       "      <td>He lied to me.</td>\n",
       "      <td>\\t Il me mentit. \\n</td>\n",
       "    </tr>\n",
       "    <tr>\n",
       "      <th>23894</th>\n",
       "      <td>I got off lightly.</td>\n",
       "      <td>\\t Je m'en suis tiré à bon compte. \\n</td>\n",
       "    </tr>\n",
       "    <tr>\n",
       "      <th>42661</th>\n",
       "      <td>I know Tom is chubby.</td>\n",
       "      <td>\\t Je sais que Tom est grassouillet. \\n</td>\n",
       "    </tr>\n",
       "    <tr>\n",
       "      <th>35395</th>\n",
       "      <td>He's about to leave.</td>\n",
       "      <td>\\t Il est sur le point de sortir. \\n</td>\n",
       "    </tr>\n",
       "  </tbody>\n",
       "</table>\n",
       "</div>"
      ],
      "text/plain": [
       "                         eng                                      fra\n",
       "35029   Go easy on the wine.       \\t Vas-y doucement avec le vin. \\n\n",
       "7021          He lied to me.                      \\t Il me mentit. \\n\n",
       "23894     I got off lightly.    \\t Je m'en suis tiré à bon compte. \\n\n",
       "42661  I know Tom is chubby.  \\t Je sais que Tom est grassouillet. \\n\n",
       "35395   He's about to leave.     \\t Il est sur le point de sortir. \\n"
      ]
     },
     "execution_count": 297,
     "metadata": {},
     "output_type": "execute_result"
    }
   ],
   "source": [
    "# 시작 토큰과 종료 토큰 추가\n",
    "\n",
    "sos_token = '\\t' # 시작 토큰 sos \n",
    "\n",
    "eos_token = '\\n' # 종료 토큰 eos \n",
    "\n",
    "lines.fra = lines.fra.apply(lambda x : '\\t '+ x + ' \\n')\n",
    "print('전체 샘플의 수 :',len(lines))\n",
    "lines.sample(5)"
   ]
  },
  {
   "attachments": {
    "natural_language_processing_in_tensorflow_02.png": {
     "image/png": "[encoded data removed]"
    }
   },
   "cell_type": "markdown",
   "id": "f620d96e",
   "metadata": {},
   "source": [
    "## Tokenizer \n",
    "\n",
    "공식 사이트\n",
    "\n",
    "\n",
    "https://www.tensorflow.org/api_docs/python/tf/keras/preprocessing/text/Tokenizer\n",
    "\n",
    "\n",
    "사전에 있는 단어의 순서에 맞게 단어를 turning하면서 벡터화 한다  \n",
    "text를 index로 대응시켜준다 tf idf 나 word count를 기반으로 계산한다 \n",
    "\n",
    "\n",
    "**num words**  : 단어 빈도 많은 순서로 num_words개의 단어를 보존한다   \n",
    "**filters** : 걸러낼 문자 리스트를 적어준다   \n",
    "**char_level** : True하면 모든 문자가 토큰화 된다   \n",
    "**lower** : 입력받은 문자열을 소문자로 변환할지를 T/F로 적어준다   \n",
    "**split** : 문자열을 적어줘야하고 단어 분리하는 기준   \n",
    "**oov_token** : 값이 지정된 경우 text to sequnecne호출과정에서 word_index에 추가되어 out of vocabulary words를 대체한다   \n",
    "\n",
    "\n",
    "<br>\n",
    "</br>\n",
    "<br>\n",
    "</br>\n",
    "### Tokeizer method \n",
    "\n",
    "1. fit_on_text : 문자 데이터 입력 받아서 리스트 형태로 변환한다   \n",
    "2. word_index :  단어와 숫자의 key value 쌍을 포함하는 딕셔너리를 반환한다 이때 반환시 자동으로 소문자 변환 되어 들어간다 그리고 느낌표나 구두점은 자동으로 제거 된다   \n",
    "3. text_to_sequences() : 텍스트안의 단어들을 숫자의 시퀀스의 형태로 변환 (딕셔너리로 변환했으니까 해당 단어들을 다시 정수인코딩하는것)  \n",
    "\n",
    "\n",
    "![natural_language_processing_in_tensorflow_02.png](attachment:natural_language_processing_in_tensorflow_02.png)  \n",
    "\n",
    "\n",
    "4. pad_sequences() : 같은 길이를 가지도록 padding하는것이다 가장 긴 길이를 기준으로 하는것 같음  물론 maxlen을 따로 주어도 된다 \n",
    "\n",
    "\n",
    "문장의 단어를 딕셔너리로 바꿔 토큰화 시킨다 key기준으로 text를 숫자로 이루어진 numpy array로 바꾼다 \n",
    "<br>\n",
    "</br>\n",
    "<br>\n",
    "</br>\n",
    "\n",
    "\n",
    "\n",
    "\n",
    "### oov_token\n",
    "\n",
    " 토큰화 되지 않은것들 처리 한다 OOV로 처리 대체 한다 out of token이라는 의미이다 \n",
    " \n",
    " \n"
   ]
  },
  {
   "cell_type": "code",
   "execution_count": 298,
   "id": "d533cef8",
   "metadata": {},
   "outputs": [
    {
     "data": {
      "text/plain": [
       "[[19, 3, 8], [19, 3, 8], [19, 3, 8]]"
      ]
     },
     "execution_count": 298,
     "metadata": {},
     "output_type": "execute_result"
    }
   ],
   "source": [
    "# 영단어 딕셔너리로 바꿔준다 \n",
    "eng_tokenizer = Tokenizer(char_level=True)   # 문자 단위로 Tokenizer를 생성합니다. \n",
    "eng_tokenizer.fit_on_texts(lines.eng)               # 50000개의 행을 가진 eng의 각 행에 토큰화를 수행\n",
    "input_text = eng_tokenizer.texts_to_sequences(lines.eng)    # 단어를 숫자값 인덱스로 변환하여 저장\n",
    "input_text[:3]"
   ]
  },
  {
   "cell_type": "code",
   "execution_count": 299,
   "id": "43c191d3",
   "metadata": {},
   "outputs": [
    {
     "data": {
      "text/plain": [
       "[[10, 1, 19, 5, 1, 31, 1, 11],\n",
       " [10, 1, 15, 5, 12, 16, 29, 2, 14, 1, 11],\n",
       " [10, 1, 2, 7, 1, 12, 9, 8, 4, 2, 1, 31, 1, 11]]"
      ]
     },
     "execution_count": 299,
     "metadata": {},
     "output_type": "execute_result"
    }
   ],
   "source": [
    "# 프랑스 단어 딕셔너리 바꾼 값 다시 정수로 \n",
    "fra_tokenizer = Tokenizer(char_level=True)   # 문자 단위로 Tokenizer를 생성합니다. \n",
    "fra_tokenizer.fit_on_texts(lines.fra)                 # 50000개의 행을 가진 fra의 각 행에 토큰화를 수행\n",
    "target_text = fra_tokenizer.texts_to_sequences(lines.fra)     # 단어를 숫자값 인덱스로 변환하여 저장\n",
    "target_text[:3]"
   ]
  },
  {
   "cell_type": "code",
   "execution_count": 300,
   "id": "6bc08d54",
   "metadata": {},
   "outputs": [
    {
     "name": "stdout",
     "output_type": "stream",
     "text": [
      "영어 단어장의 크기 : 53\n",
      "프랑스어 단어장의 크기 : 73\n"
     ]
    }
   ],
   "source": [
    "# 영어 프랑스 단어장 크기 \n",
    "eng_vocab_size = len(eng_tokenizer.word_index) + 1\n",
    "fra_vocab_size = len(fra_tokenizer.word_index) + 1\n",
    "print('영어 단어장의 크기 :', eng_vocab_size)\n",
    "print('프랑스어 단어장의 크기 :', fra_vocab_size)"
   ]
  },
  {
   "cell_type": "code",
   "execution_count": 301,
   "id": "0e5e9b4e",
   "metadata": {},
   "outputs": [
    {
     "name": "stdout",
     "output_type": "stream",
     "text": [
      "영어 시퀀스의 최대 길이 22\n",
      "프랑스어 시퀀스의 최대 길이 76\n"
     ]
    }
   ],
   "source": [
    "max_eng_seq_len = max([len(line) for line in input_text])\n",
    "max_fra_seq_len = max([len(line) for line in target_text])\n",
    "print('영어 시퀀스의 최대 길이', max_eng_seq_len)\n",
    "print('프랑스어 시퀀스의 최대 길이', max_fra_seq_len)"
   ]
  },
  {
   "cell_type": "code",
   "execution_count": 302,
   "id": "e53b603e",
   "metadata": {
    "scrolled": true
   },
   "outputs": [
    {
     "name": "stdout",
     "output_type": "stream",
     "text": [
      "전체 샘플의 수 : 50000\n",
      "영어 단어장의 크기 : 53\n",
      "프랑스어 단어장의 크기 : 73\n",
      "영어 시퀀스의 최대 길이 22\n",
      "프랑스어 시퀀스의 최대 길이 76\n"
     ]
    }
   ],
   "source": [
    "print('전체 샘플의 수 :',len(lines))\n",
    "print('영어 단어장의 크기 :', eng_vocab_size)\n",
    "print('프랑스어 단어장의 크기 :', fra_vocab_size)\n",
    "print('영어 시퀀스의 최대 길이', max_eng_seq_len)\n",
    "print('프랑스어 시퀀스의 최대 길이', max_fra_seq_len)"
   ]
  },
  {
   "cell_type": "markdown",
   "id": "70fca097",
   "metadata": {},
   "source": [
    " teaching forcing을 위해 디코더에는 두가지 입력이 필요하다\n",
    " \n",
    " 하나는 디코더 입력  ~~~ EOS  \n",
    " \n",
    " 또 하나는 디코더 출력 SOS ~~~~  "
   ]
  },
  {
   "cell_type": "code",
   "execution_count": 303,
   "id": "d7f85235",
   "metadata": {},
   "outputs": [],
   "source": [
    "encoder_input = input_text\n",
    "\n",
    "# 종료 토큰 제거\n",
    "decoder_input = [[ char for char in line if char != fra_tokenizer.word_index[eos_token] ] for line in target_text] \n",
    "\n",
    "\n",
    "# 시작 토큰 제거\n",
    "decoder_target = [[ char for char in line if char != fra_tokenizer.word_index[sos_token] ] for line in target_text]"
   ]
  },
  {
   "cell_type": "code",
   "execution_count": 304,
   "id": "cf33ba6e",
   "metadata": {
    "scrolled": true
   },
   "outputs": [
    {
     "name": "stdout",
     "output_type": "stream",
     "text": [
      "[[10, 1, 19, 5, 1, 31, 1], [10, 1, 15, 5, 12, 16, 29, 2, 14, 1], [10, 1, 2, 7, 1, 12, 9, 8, 4, 2, 1, 31, 1]]\n",
      "[[1, 19, 5, 1, 31, 1, 11], [1, 15, 5, 12, 16, 29, 2, 14, 1, 11], [1, 2, 7, 1, 12, 9, 8, 4, 2, 1, 31, 1, 11]]\n"
     ]
    }
   ],
   "source": [
    "print(decoder_input[:3])\n",
    "print(decoder_target[:3])"
   ]
  },
  {
   "cell_type": "code",
   "execution_count": 305,
   "id": "ea9b6cf1",
   "metadata": {},
   "outputs": [
    {
     "name": "stdout",
     "output_type": "stream",
     "text": [
      "영어 데이터의 크기(shape) : (50000, 22)\n",
      "프랑스어 입력데이터의 크기(shape) : (50000, 76)\n",
      "프랑스어 출력데이터의 크기(shape) : (50000, 76)\n"
     ]
    }
   ],
   "source": [
    "encoder_input = pad_sequences(encoder_input, maxlen = max_eng_seq_len, padding='post')\n",
    "decoder_input = pad_sequences(decoder_input, maxlen = max_fra_seq_len, padding='post')\n",
    "decoder_target = pad_sequences(decoder_target, maxlen = max_fra_seq_len, padding='post')\n",
    "print('영어 데이터의 크기(shape) :',np.shape(encoder_input))\n",
    "print('프랑스어 입력데이터의 크기(shape) :',np.shape(decoder_input))\n",
    "print('프랑스어 출력데이터의 크기(shape) :',np.shape(decoder_target))"
   ]
  },
  {
   "cell_type": "code",
   "execution_count": 306,
   "id": "2fc7b501",
   "metadata": {},
   "outputs": [
    {
     "name": "stdout",
     "output_type": "stream",
     "text": [
      "[19  3  8  0  0  0  0  0  0  0  0  0  0  0  0  0  0  0  0  0  0  0]\n"
     ]
    }
   ],
   "source": [
    "print(encoder_input[0])"
   ]
  },
  {
   "cell_type": "markdown",
   "id": "70b02a9c",
   "metadata": {},
   "source": [
    "### 각 정수에 대해서 one hot encoding 하기 \n",
    "\n",
    "(샘플의 수 * 샘플의 길이 * 단어장의 크기)"
   ]
  },
  {
   "cell_type": "code",
   "execution_count": 307,
   "id": "62e13328",
   "metadata": {},
   "outputs": [
    {
     "name": "stdout",
     "output_type": "stream",
     "text": [
      "영어 데이터의 크기(shape) : (50000, 22, 53)\n",
      "프랑스어 입력데이터의 크기(shape) : (50000, 76, 73)\n",
      "프랑스어 출력데이터의 크기(shape) : (50000, 76, 73)\n"
     ]
    }
   ],
   "source": [
    "encoder_input = to_categorical(encoder_input)\n",
    "decoder_input = to_categorical(decoder_input)\n",
    "decoder_target = to_categorical(decoder_target)\n",
    "print('영어 데이터의 크기(shape) :',np.shape(encoder_input))\n",
    "print('프랑스어 입력데이터의 크기(shape) :',np.shape(decoder_input))\n",
    "print('프랑스어 출력데이터의 크기(shape) :',np.shape(decoder_target))"
   ]
  },
  {
   "cell_type": "markdown",
   "id": "7a7ba2ec",
   "metadata": {},
   "source": [
    "### train , validation split "
   ]
  },
  {
   "cell_type": "code",
   "execution_count": 308,
   "id": "366323d5",
   "metadata": {},
   "outputs": [
    {
     "name": "stdout",
     "output_type": "stream",
     "text": [
      "영어 학습데이터의 크기(shape) : (50000, 22, 53)\n",
      "프랑스어 학습 입력데이터의 크기(shape) : (50000, 76, 73)\n",
      "프랑스어 학습 출력데이터의 크기(shape) : (50000, 76, 73)\n"
     ]
    }
   ],
   "source": [
    "n_of_val = 3000\n",
    "\n",
    "encoder_input_train = encoder_input[:-n_of_val]\n",
    "decoder_input_train = decoder_input[:-n_of_val]\n",
    "decoder_target_train = decoder_target[:-n_of_val]\n",
    "\n",
    "encoder_input_test = encoder_input[-n_of_val:]\n",
    "decoder_input_test = decoder_input[-n_of_val:]\n",
    "decoder_target_test = decoder_target[-n_of_val:]\n",
    "\n",
    "print('영어 학습데이터의 크기(shape) :',np.shape(encoder_input))\n",
    "print('프랑스어 학습 입력데이터의 크기(shape) :',np.shape(decoder_input))\n",
    "print('프랑스어 학습 출력데이터의 크기(shape) :',np.shape(decoder_target))"
   ]
  },
  {
   "cell_type": "markdown",
   "id": "0650f3aa",
   "metadata": {},
   "source": [
    "## 모델 훈련 하기 \n",
    "\n"
   ]
  },
  {
   "cell_type": "code",
   "execution_count": 309,
   "id": "336607c0",
   "metadata": {},
   "outputs": [],
   "source": [
    "from tensorflow.keras.layers import Input, LSTM, Embedding, Dense\n",
    "from tensorflow.keras.models import Model"
   ]
  },
  {
   "cell_type": "code",
   "execution_count": 310,
   "id": "ed19d2da",
   "metadata": {},
   "outputs": [],
   "source": [
    "# Encoder 설계하기 LSTM hidden, cell state 반환 \n",
    "\n",
    "# 입력 텐서 생성.\n",
    "encoder_inputs = Input(shape=(None, eng_vocab_size))\n",
    "\n",
    "# hidden size가 256인 인코더의 LSTM 셀 생성\n",
    "encoder_lstm = LSTM(units = 256, return_state = True)\n",
    "\n",
    "# 디코더로 전달할 hidden state, cell state를 리턴. encoder_outputs은 여기서는 불필요.\n",
    "encoder_outputs, state_h, state_c = encoder_lstm(encoder_inputs)\n",
    "\n",
    "# hidden state와 cell state를 다음 time step으로 전달하기 위해서 별도 저장.\n",
    "encoder_states = [state_h, state_c]"
   ]
  },
  {
   "cell_type": "code",
   "execution_count": 311,
   "id": "cfe7ae1f",
   "metadata": {},
   "outputs": [],
   "source": [
    "# decoder 설계 \n",
    "# 입력 텐서 생성.\n",
    "decoder_inputs = Input(shape=(None, fra_vocab_size))\n",
    "\n",
    "# hidden size가 256인 인코더의 LSTM 셀 생성\n",
    "decoder_lstm = LSTM(units = 256, return_sequences = True, return_state=True)\n",
    "\n",
    "# decoder_outputs는 모든 time step의 hidden state\n",
    "decoder_outputs, _, _= decoder_lstm(decoder_inputs, initial_state = encoder_states)"
   ]
  },
  {
   "cell_type": "code",
   "execution_count": 312,
   "id": "d0ed0df3",
   "metadata": {},
   "outputs": [],
   "source": [
    "# Decoder 출력 층 \n",
    "\n",
    "decoder_softmax_layer = Dense(fra_vocab_size, activation='softmax')\n",
    "decoder_outputs = decoder_softmax_layer(decoder_outputs)"
   ]
  },
  {
   "cell_type": "code",
   "execution_count": 313,
   "id": "a0e664d2",
   "metadata": {},
   "outputs": [
    {
     "name": "stdout",
     "output_type": "stream",
     "text": [
      "Model: \"model_26\"\n",
      "__________________________________________________________________________________________________\n",
      "Layer (type)                    Output Shape         Param #     Connected to                     \n",
      "==================================================================================================\n",
      "input_37 (InputLayer)           [(None, None, 53)]   0                                            \n",
      "__________________________________________________________________________________________________\n",
      "input_38 (InputLayer)           [(None, None, 73)]   0                                            \n",
      "__________________________________________________________________________________________________\n",
      "lstm_13 (LSTM)                  [(None, 256), (None, 317440      input_37[0][0]                   \n",
      "__________________________________________________________________________________________________\n",
      "lstm_14 (LSTM)                  [(None, None, 256),  337920      input_38[0][0]                   \n",
      "                                                                 lstm_13[0][1]                    \n",
      "                                                                 lstm_13[0][2]                    \n",
      "__________________________________________________________________________________________________\n",
      "dense_6 (Dense)                 (None, None, 73)     18761       lstm_14[0][0]                    \n",
      "==================================================================================================\n",
      "Total params: 674,121\n",
      "Trainable params: 674,121\n",
      "Non-trainable params: 0\n",
      "__________________________________________________________________________________________________\n"
     ]
    }
   ],
   "source": [
    "model = Model([encoder_inputs, decoder_inputs], decoder_outputs)\n",
    "model.compile(optimizer=\"rmsprop\", loss=\"categorical_crossentropy\")\n",
    "model.summary()"
   ]
  },
  {
   "cell_type": "code",
   "execution_count": 315,
   "id": "d893cddc",
   "metadata": {},
   "outputs": [
    {
     "name": "stdout",
     "output_type": "stream",
     "text": [
      "Epoch 1/30\n",
      "368/368 [==============================] - 7s 19ms/step - loss: 0.2214 - val_loss: 0.3580\n",
      "Epoch 2/30\n",
      "368/368 [==============================] - 7s 19ms/step - loss: 0.2164 - val_loss: 0.3593\n",
      "Epoch 3/30\n",
      "368/368 [==============================] - 7s 19ms/step - loss: 0.2120 - val_loss: 0.3546\n",
      "Epoch 4/30\n",
      "368/368 [==============================] - 7s 19ms/step - loss: 0.2078 - val_loss: 0.3591\n",
      "Epoch 5/30\n",
      "368/368 [==============================] - 7s 19ms/step - loss: 0.2039 - val_loss: 0.3544\n",
      "Epoch 6/30\n",
      "368/368 [==============================] - 7s 19ms/step - loss: 0.2001 - val_loss: 0.3565\n",
      "Epoch 7/30\n",
      "368/368 [==============================] - 7s 19ms/step - loss: 0.1967 - val_loss: 0.3589\n",
      "Epoch 8/30\n",
      "368/368 [==============================] - 7s 19ms/step - loss: 0.1932 - val_loss: 0.3594\n",
      "Epoch 9/30\n",
      "368/368 [==============================] - 7s 19ms/step - loss: 0.1901 - val_loss: 0.3606\n",
      "Epoch 10/30\n",
      "368/368 [==============================] - 7s 19ms/step - loss: 0.1870 - val_loss: 0.3607\n",
      "Epoch 11/30\n",
      "368/368 [==============================] - 7s 18ms/step - loss: 0.1841 - val_loss: 0.3608\n",
      "Epoch 12/30\n",
      "368/368 [==============================] - 7s 18ms/step - loss: 0.1812 - val_loss: 0.3604\n",
      "Epoch 13/30\n",
      "368/368 [==============================] - 7s 19ms/step - loss: 0.1784 - val_loss: 0.3657\n",
      "Epoch 14/30\n",
      "368/368 [==============================] - 7s 19ms/step - loss: 0.1758 - val_loss: 0.3665\n",
      "Epoch 15/30\n",
      "368/368 [==============================] - 7s 19ms/step - loss: 0.1734 - val_loss: 0.3677\n",
      "Epoch 16/30\n",
      "368/368 [==============================] - 7s 19ms/step - loss: 0.1709 - val_loss: 0.3686\n",
      "Epoch 17/30\n",
      "368/368 [==============================] - 7s 19ms/step - loss: 0.1686 - val_loss: 0.3728\n",
      "Epoch 18/30\n",
      "368/368 [==============================] - 7s 19ms/step - loss: 0.1662 - val_loss: 0.3737\n",
      "Epoch 19/30\n",
      "368/368 [==============================] - 7s 19ms/step - loss: 0.1641 - val_loss: 0.3741\n",
      "Epoch 20/30\n",
      "368/368 [==============================] - 7s 19ms/step - loss: 0.1618 - val_loss: 0.3798\n",
      "Epoch 21/30\n",
      "368/368 [==============================] - 7s 19ms/step - loss: 0.1598 - val_loss: 0.3811\n",
      "Epoch 22/30\n",
      "368/368 [==============================] - 7s 19ms/step - loss: 0.1578 - val_loss: 0.3861\n",
      "Epoch 23/30\n",
      "368/368 [==============================] - 7s 19ms/step - loss: 0.1559 - val_loss: 0.3868\n",
      "Epoch 24/30\n",
      "368/368 [==============================] - 7s 19ms/step - loss: 0.1539 - val_loss: 0.3850\n",
      "Epoch 25/30\n",
      "368/368 [==============================] - 7s 19ms/step - loss: 0.1521 - val_loss: 0.3899\n",
      "Epoch 26/30\n",
      "368/368 [==============================] - 7s 19ms/step - loss: 0.1503 - val_loss: 0.3924\n",
      "Epoch 27/30\n",
      "368/368 [==============================] - 7s 19ms/step - loss: 0.1486 - val_loss: 0.3934\n",
      "Epoch 28/30\n",
      "368/368 [==============================] - 7s 19ms/step - loss: 0.1468 - val_loss: 0.3986\n",
      "Epoch 29/30\n",
      "368/368 [==============================] - 7s 19ms/step - loss: 0.1451 - val_loss: 0.4004\n",
      "Epoch 30/30\n",
      "368/368 [==============================] - 7s 19ms/step - loss: 0.1435 - val_loss: 0.4034\n"
     ]
    },
    {
     "data": {
      "text/plain": [
       "<keras.callbacks.History at 0x7f31b42090d0>"
      ]
     },
     "execution_count": 315,
     "metadata": {},
     "output_type": "execute_result"
    }
   ],
   "source": [
    "model.fit(x=[encoder_input_train, decoder_input_train], y=decoder_target_train,\n",
    "          validation_data = ([encoder_input_test, decoder_input_test], decoder_target_test),\n",
    "          batch_size=128, epochs=30)"
   ]
  },
  {
   "cell_type": "markdown",
   "id": "7eb12cbd",
   "metadata": {},
   "source": [
    "## 모델 평가 \n",
    "\n",
    "테스트 단계와 훈련할때 다르니까 디코더 모델 설계 다시 해줄 필요 있다   \n",
    "\n",
    "왜??  \n",
    "train 사용할때는 학습해야할 타켓 문장을 디코더 모델의 입력 출력 시퀀스로 넣어주고 디코더 모델이 타켓  문장을 한꺼번에 출력하게 할수있다\n",
    "\n",
    "test에서는 그럴수가 없다 하나의 문장을 만들어 내기 위해 루프를 돌며 단어를 하나씩 차례차례 예측하면서 예측된 단어가 다음 입력으로 재사용되는 과정이 반복되기 때문이다 \n",
    "\n",
    "1. 인코더에 입력 문장을 넣어 마지막 time step의 hidden, cell state를 얻는다.\n",
    "2. sos 토큰인 '\\t'를 디코더에 입력한다.\n",
    "3. 이전 time step의 출력층의 예측 결과를 현재 time step의 입력으로 한다.\n",
    "4. 3을 반복하다가 eos 토큰인 '\\n'이 예측되면 이를 중단한다.\n",
    "\n",
    "<br>\n",
    "</br>\n",
    "\n",
    "이전 time step의 출력층의 예측 결과를 현재 time step의 입력으로 사용하는 단계를 추가해야 한다는 것입니다. 그렇기 때문에 루프를 돌며 디코더의 LSTM 셀을 수동 제어하는 느낌으로 설계해야 합니다. 코드가 좀 더 길어지게 되는데요."
   ]
  },
  {
   "cell_type": "code",
   "execution_count": 316,
   "id": "02bcc12d",
   "metadata": {},
   "outputs": [
    {
     "name": "stdout",
     "output_type": "stream",
     "text": [
      "Model: \"model_27\"\n",
      "_________________________________________________________________\n",
      "Layer (type)                 Output Shape              Param #   \n",
      "=================================================================\n",
      "input_37 (InputLayer)        [(None, None, 53)]        0         \n",
      "_________________________________________________________________\n",
      "lstm_13 (LSTM)               [(None, 256), (None, 256) 317440    \n",
      "=================================================================\n",
      "Total params: 317,440\n",
      "Trainable params: 317,440\n",
      "Non-trainable params: 0\n",
      "_________________________________________________________________\n"
     ]
    }
   ],
   "source": [
    "encoder_model = Model(inputs = encoder_inputs, outputs = encoder_states)\n",
    "encoder_model.summary()"
   ]
  },
  {
   "cell_type": "code",
   "execution_count": 317,
   "id": "5fe9726a",
   "metadata": {},
   "outputs": [],
   "source": [
    "# 이전 time step의 hidden state를 저장하는 텐서\n",
    "decoder_state_input_h = Input(shape=(256,))\n",
    "\n",
    "# 이전 time step의 cell state를 저장하는 텐서\n",
    "decoder_state_input_c = Input(shape=(256,))\n",
    "\n",
    "# 이전 time step의 hidden state와 cell state를 하나의 변수에 저장\n",
    "decoder_states_inputs = [decoder_state_input_h, decoder_state_input_c]\n",
    "\n",
    "# decoder_states_inputs를 현재 time step의 초기 상태로 사용.\n",
    "# 구체적인 동작 자체는 def decode_sequence()에 구현.\n",
    "decoder_outputs, state_h, state_c = decoder_lstm(decoder_inputs, initial_state = decoder_states_inputs)\n",
    "\n",
    "# 현재 time step의 hidden state와 cell state를 하나의 변수에 저장.\n",
    "decoder_states = [state_h, state_c]"
   ]
  },
  {
   "cell_type": "code",
   "execution_count": 318,
   "id": "3e12c84d",
   "metadata": {
    "scrolled": true
   },
   "outputs": [
    {
     "name": "stdout",
     "output_type": "stream",
     "text": [
      "Model: \"model_28\"\n",
      "__________________________________________________________________________________________________\n",
      "Layer (type)                    Output Shape         Param #     Connected to                     \n",
      "==================================================================================================\n",
      "input_38 (InputLayer)           [(None, None, 73)]   0                                            \n",
      "__________________________________________________________________________________________________\n",
      "input_39 (InputLayer)           [(None, 256)]        0                                            \n",
      "__________________________________________________________________________________________________\n",
      "input_40 (InputLayer)           [(None, 256)]        0                                            \n",
      "__________________________________________________________________________________________________\n",
      "lstm_14 (LSTM)                  [(None, None, 256),  337920      input_38[0][0]                   \n",
      "                                                                 input_39[0][0]                   \n",
      "                                                                 input_40[0][0]                   \n",
      "__________________________________________________________________________________________________\n",
      "dense_6 (Dense)                 (None, None, 73)     18761       lstm_14[1][0]                    \n",
      "==================================================================================================\n",
      "Total params: 356,681\n",
      "Trainable params: 356,681\n",
      "Non-trainable params: 0\n",
      "__________________________________________________________________________________________________\n"
     ]
    }
   ],
   "source": [
    "decoder_outputs = decoder_softmax_layer(decoder_outputs)\n",
    "decoder_model = Model(inputs=[decoder_inputs] + decoder_states_inputs, outputs=[decoder_outputs] + decoder_states)\n",
    "decoder_model.summary()"
   ]
  },
  {
   "cell_type": "code",
   "execution_count": 319,
   "id": "731ea566",
   "metadata": {},
   "outputs": [],
   "source": [
    "eng2idx = eng_tokenizer.word_index\n",
    "fra2idx = fra_tokenizer.word_index\n",
    "idx2eng = eng_tokenizer.index_word\n",
    "idx2fra = fra_tokenizer.index_word"
   ]
  },
  {
   "cell_type": "code",
   "execution_count": 320,
   "id": "b3d4e18a",
   "metadata": {},
   "outputs": [],
   "source": [
    "def decode_sequence(input_seq):\n",
    "    # 입력으로부터 인코더의 상태를 얻음\n",
    "    states_value = encoder_model.predict(input_seq)\n",
    "\n",
    "    # <SOS>에 해당하는 원-핫 벡터 생성\n",
    "    target_seq = np.zeros((1, 1, fra_vocab_size))\n",
    "    target_seq[0, 0, fra2idx['\\t']] = 1.\n",
    "\n",
    "    stop_condition = False\n",
    "    decoded_sentence = \"\"\n",
    "\n",
    "    # stop_condition이 True가 될 때까지 루프 반복\n",
    "    while not stop_condition:\n",
    "        # 이점 시점의 상태 states_value를 현 시점의 초기 상태로 사용\n",
    "        output_tokens, h, c = decoder_model.predict([target_seq] + states_value)\n",
    "\n",
    "        # 예측 결과를 문자로 변환\n",
    "        sampled_token_index = np.argmax(output_tokens[0, -1, :])\n",
    "        sampled_char = idx2fra[sampled_token_index]\n",
    "\n",
    "        # 현재 시점의 예측 문자를 예측 문장에 추가\n",
    "        decoded_sentence += sampled_char\n",
    "\n",
    "        # <eos>에 도달하거나 최대 길이를 넘으면 중단.\n",
    "        if (sampled_char == '\\n' or\n",
    "           len(decoded_sentence) > max_fra_seq_len):\n",
    "            stop_condition = True\n",
    "\n",
    "        # 현재 시점의 예측 결과를 다음 시점의 입력으로 사용하기 위해 저장\n",
    "        target_seq = np.zeros((1, 1, fra_vocab_size))\n",
    "        target_seq[0, 0, sampled_token_index] = 1.\n",
    "\n",
    "        # 현재 시점의 상태를 다음 시점의 상태로 사용하기 위해 저장\n",
    "        states_value = [h, c]\n",
    "\n",
    "    return decoded_sentence"
   ]
  },
  {
   "cell_type": "code",
   "execution_count": 321,
   "id": "62ce83c2",
   "metadata": {},
   "outputs": [
    {
     "name": "stdout",
     "output_type": "stream",
     "text": [
      "-----------------------------------\n",
      "입력 문장: Go.\n",
      "정답 문장:  Bouge ! \n",
      "번역기가 번역한 문장:  bouge ! \n",
      "-----------------------------------\n",
      "입력 문장: Hello!\n",
      "정답 문장:  Bonjour ! \n",
      "번역기가 번역한 문장:  à l'aute ! \n",
      "-----------------------------------\n",
      "입력 문장: Got it?\n",
      "정답 문장:  T'as capté ? \n",
      "번역기가 번역한 문장:  vite ? \n",
      "-----------------------------------\n",
      "입력 문장: Hang on.\n",
      "정답 문장:  Tiens bon ! \n",
      "번역기가 번역한 문장:  tiens bon ! \n",
      "-----------------------------------\n",
      "입력 문장: Here's $5.\n",
      "정답 문장:  Voilà cinq dollars. \n",
      "번역기가 번역한 문장:  nous voilons. \n"
     ]
    }
   ],
   "source": [
    "import numpy as np\n",
    "for seq_index in [3,50,100,300,1001]: # 입력 문장의 인덱스 (자유롭게 선택해 보세요)\n",
    "    input_seq = encoder_input[seq_index: seq_index + 1]\n",
    "    decoded_sentence = decode_sequence(input_seq)\n",
    "    print(35 * \"-\")\n",
    "    print('입력 문장:', lines.eng[seq_index])\n",
    "    print('정답 문장:', lines.fra[seq_index][1:len(lines.fra[seq_index])-1]) # '\\t'와 '\\n'을 빼고 출력\n",
    "    print('번역기가 번역한 문장:', decoded_sentence[:len(decoded_sentence)-1]) # '\\n'을 빼고 출력"
   ]
  },
  {
   "cell_type": "code",
   "execution_count": null,
   "id": "6d8fefa0",
   "metadata": {},
   "outputs": [],
   "source": []
  },
  {
   "cell_type": "code",
   "execution_count": null,
   "id": "3dc04406",
   "metadata": {},
   "outputs": [],
   "source": []
  },
  {
   "cell_type": "markdown",
   "id": "ee95468a",
   "metadata": {},
   "source": [
    "# 번역기 단어 레벨로 업그레이드 하기 \n",
    "\n",
    "\n",
    "- 익스 시작 "
   ]
  },
  {
   "cell_type": "code",
   "execution_count": 322,
   "id": "224a2112",
   "metadata": {},
   "outputs": [
    {
     "name": "stdout",
     "output_type": "stream",
     "text": [
      "2.6.0\n"
     ]
    }
   ],
   "source": [
    "import tensorflow\n",
    "\n",
    "print(tensorflow.__version__)"
   ]
  },
  {
   "cell_type": "markdown",
   "id": "f4e49ddf",
   "metadata": {},
   "source": [
    "<br>\n",
    "</br>  \n",
    "\n",
    "\n",
    "**step1+2** : 상위 3만 3천개 사용하고 train 3만 test 3천으로 하기 그리고 embedding layer 사용하기 \n",
    "\n",
    "<br>\n",
    "</br>\n",
    "\n",
    "1. 구두점을 단어와 분리 하는 전처리 하기\n",
    "2. 소문자로 바궈주기 \n",
    "3. 입력시퀀스와 레이블 시퀀스 구성하기  \n"
   ]
  },
  {
   "cell_type": "code",
   "execution_count": 323,
   "id": "0592f5e3",
   "metadata": {},
   "outputs": [],
   "source": [
    "\n",
    "import numpy as np\n",
    "import pandas as pd\n",
    "import tensorflow as tf\n",
    "import unicodedata\n",
    "import re \n",
    "import os\n",
    "from tensorflow.keras.layers import Embedding, GRU, Dense,LSTM,Input,Masking\n",
    "from tensorflow.keras.models import Model\n",
    "from tensorflow.keras.preprocessing.sequence import pad_sequences\n",
    "from tensorflow.keras.preprocessing.text import Tokenizer"
   ]
  },
  {
   "cell_type": "code",
   "execution_count": 324,
   "id": "6a09dc9e",
   "metadata": {},
   "outputs": [
    {
     "name": "stdout",
     "output_type": "stream",
     "text": [
      "전체 샘플의 수 : 197463\n"
     ]
    },
    {
     "data": {
      "text/html": [
       "<div>\n",
       "<style scoped>\n",
       "    .dataframe tbody tr th:only-of-type {\n",
       "        vertical-align: middle;\n",
       "    }\n",
       "\n",
       "    .dataframe tbody tr th {\n",
       "        vertical-align: top;\n",
       "    }\n",
       "\n",
       "    .dataframe thead th {\n",
       "        text-align: right;\n",
       "    }\n",
       "</style>\n",
       "<table border=\"1\" class=\"dataframe\">\n",
       "  <thead>\n",
       "    <tr style=\"text-align: right;\">\n",
       "      <th></th>\n",
       "      <th>eng</th>\n",
       "      <th>fra</th>\n",
       "      <th>cc</th>\n",
       "    </tr>\n",
       "  </thead>\n",
       "  <tbody>\n",
       "    <tr>\n",
       "      <th>53900</th>\n",
       "      <td>Where are you working?</td>\n",
       "      <td>Où travailles-tu ?</td>\n",
       "      <td>CC-BY 2.0 (France) Attribution: tatoeba.org #6...</td>\n",
       "    </tr>\n",
       "    <tr>\n",
       "      <th>23647</th>\n",
       "      <td>I arrived on time.</td>\n",
       "      <td>Je suis arrivé à l'heure.</td>\n",
       "      <td>CC-BY 2.0 (France) Attribution: tatoeba.org #5...</td>\n",
       "    </tr>\n",
       "    <tr>\n",
       "      <th>60509</th>\n",
       "      <td>Watch out for that man.</td>\n",
       "      <td>Gare à cet homme-là.</td>\n",
       "      <td>CC-BY 2.0 (France) Attribution: tatoeba.org #6...</td>\n",
       "    </tr>\n",
       "    <tr>\n",
       "      <th>66810</th>\n",
       "      <td>The key is on the table.</td>\n",
       "      <td>La clé est sur la table.</td>\n",
       "      <td>CC-BY 2.0 (France) Attribution: tatoeba.org #7...</td>\n",
       "    </tr>\n",
       "    <tr>\n",
       "      <th>23305</th>\n",
       "      <td>He has a headache.</td>\n",
       "      <td>Il a un mal de tête.</td>\n",
       "      <td>CC-BY 2.0 (France) Attribution: tatoeba.org #1...</td>\n",
       "    </tr>\n",
       "  </tbody>\n",
       "</table>\n",
       "</div>"
      ],
      "text/plain": [
       "                            eng                        fra  \\\n",
       "53900    Where are you working?         Où travailles-tu ?   \n",
       "23647        I arrived on time.  Je suis arrivé à l'heure.   \n",
       "60509   Watch out for that man.       Gare à cet homme-là.   \n",
       "66810  The key is on the table.   La clé est sur la table.   \n",
       "23305        He has a headache.       Il a un mal de tête.   \n",
       "\n",
       "                                                      cc  \n",
       "53900  CC-BY 2.0 (France) Attribution: tatoeba.org #6...  \n",
       "23647  CC-BY 2.0 (France) Attribution: tatoeba.org #5...  \n",
       "60509  CC-BY 2.0 (France) Attribution: tatoeba.org #6...  \n",
       "66810  CC-BY 2.0 (France) Attribution: tatoeba.org #7...  \n",
       "23305  CC-BY 2.0 (France) Attribution: tatoeba.org #1...  "
      ]
     },
     "execution_count": 324,
     "metadata": {},
     "output_type": "execute_result"
    }
   ],
   "source": [
    "# 데이터 불러오기 \n",
    "\n",
    "file_path = os.getenv('HOME')+'/aiffel/translator_seq2seq/data/fra.txt'\n",
    "lines = pd.read_csv(file_path, names=['eng', 'fra', 'cc'], sep='\\t')\n",
    "print('전체 샘플의 수 :',len(lines))\n",
    "lines.sample(5) #샘플 5개 출력\n"
   ]
  },
  {
   "cell_type": "code",
   "execution_count": 325,
   "id": "80c6888e",
   "metadata": {},
   "outputs": [
    {
     "data": {
      "text/plain": [
       "(33000, 2)"
      ]
     },
     "execution_count": 325,
     "metadata": {},
     "output_type": "execute_result"
    }
   ],
   "source": [
    "#33000 개 샘플로 사용 \n",
    "lines = lines[['eng', 'fra']][:33000]\n",
    "lines.shape"
   ]
  },
  {
   "cell_type": "code",
   "execution_count": null,
   "id": "7644f938",
   "metadata": {},
   "outputs": [],
   "source": []
  },
  {
   "cell_type": "code",
   "execution_count": 326,
   "id": "558a5b16",
   "metadata": {},
   "outputs": [],
   "source": [
    "# 유니코드를 아스키 코드로 변환 하는 함수 \n",
    "\n",
    "def to_ascii(string):\n",
    "    return \"\".join(asc for asc in unicodedata.normalize(\"NFD\",string)\n",
    "                         if unicodedata.category(asc)!=\"Mn\")\n",
    "\n"
   ]
  },
  {
   "cell_type": "code",
   "execution_count": 327,
   "id": "e6c7d917",
   "metadata": {},
   "outputs": [],
   "source": [
    "def preprocess_sentence(sent):\n",
    "    sent = to_ascii(sent.lower()) # 소문자 변환 후 공백 제거  \n",
    "    \n",
    "    \"\"\"\n",
    "   재참조 메타 문자인 \\1이다. \\1은 정규식의 그룹 중 첫 번째 그룹을 가리킨다.\n",
    "    \n",
    "    \"\"\"\n",
    "    \n",
    "    sent = re.sub(r\"([?.!,¿])\", r\" \\1\", sent) # 단어와 구두점 사이의 공백 추가 \n",
    "    \n",
    "    sent = re.sub(r\"[^a-zA-Z!.?]+\", r\" \", sent) # 유효한거 빼고 다 공백 \n",
    "    \n",
    "    sent = re.sub(r\"\\s+\", \" \", sent) # 다수의 공백을 하나의 공백으로 치환 한다 \n",
    "    return sent \n",
    "\n",
    "\n"
   ]
  },
  {
   "cell_type": "code",
   "execution_count": 328,
   "id": "577bb696",
   "metadata": {},
   "outputs": [
    {
     "name": "stdout",
     "output_type": "stream",
     "text": [
      "전처리 전 영어 문장 : I am fine$$%% thank you$$$$and$$$you?\n",
      "전처리 후 영어 문장 : i am fine thank you and you ?\n",
      "전처리 전 프랑스어 문장 : Je vais bien merci à vous et à vous.\n",
      "전처리 후 프랑스어 문장 : je vais bien merci a vous et a vous .\n"
     ]
    }
   ],
   "source": [
    "# 잘 출력되는지 확인해 보기 \n",
    "\n",
    "#유니 코드가 아스키로 변환해야하는거니까 유니코드 문장을 사용했다 \n",
    "english = u\"I am fine$$%% thank you$$$$and$$$you?\"\n",
    "frangs = u\"Je vais bien merci à vous et à vous.\"\n",
    "\n",
    "print('전처리 전 영어 문장 :', english)\n",
    "print('전처리 후 영어 문장 :',preprocess_sentence(english))\n",
    "print('전처리 전 프랑스어 문장 :', frangs)\n",
    "print('전처리 후 프랑스어 문장 :', preprocess_sentence(frangs))\n"
   ]
  },
  {
   "cell_type": "code",
   "execution_count": 329,
   "id": "b7a4cae7",
   "metadata": {},
   "outputs": [],
   "source": [
    "# SOS EOS 토큰 넣기 \n",
    "\n",
    "def load_sentence_data():\n",
    "    encoder_input,teaching_force,decoder_target = [],[],[]\n",
    "    \n",
    "    # 영어 데이터 전처리 적용하기 \n",
    "    for src in lines[\"eng\"]:\n",
    "        \n",
    "        src  = [w for w in preprocess_sentence(src).split()] # 공백기준으로 나누기\n",
    "        \n",
    "        # encoder input에 추가하기 \n",
    "        encoder_input.append(src)\n",
    "    \n",
    "    \n",
    "    \n",
    "    # 프랑스 데이터 전처리 적용하기\n",
    "    for tar in lines[\"fra\"]:\n",
    "        \n",
    "        tar = preprocess_sentence(tar) # france 전처리 하기 \n",
    "        \n",
    "        #전처리 한 프랑스어 토큰 붙히기 \n",
    "        tar_in = [w for w in (\"<SOS>\"+tar).split()]\n",
    "        tar_out = [w for w in (tar+\"<EOS>\").split()]\n",
    "        \n",
    "        teaching_force.append(tar_in)\n",
    "        decoder_target.append(tar_out)\n",
    "    \n",
    "        \n",
    "    return encoder_input,teaching_force,decoder_target\n",
    "\n",
    "\n",
    "        \n",
    "    \n",
    "        "
   ]
  },
  {
   "cell_type": "code",
   "execution_count": 330,
   "id": "aeb91d6a",
   "metadata": {},
   "outputs": [
    {
     "name": "stdout",
     "output_type": "stream",
     "text": [
      "인코더의 입력 : [['go', '.'], ['go', '.'], ['go', '.'], ['go', '.'], ['hi', '.']]\n",
      "디코더의 입력 : [['<SOS>va', '!'], ['<SOS>marche', '.'], ['<SOS>en', 'route', '!'], ['<SOS>bouge', '!'], ['<SOS>salut', '!']]\n",
      "디코더의 레이블 : [['va', '!<EOS>'], ['marche', '.<EOS>'], ['en', 'route', '!<EOS>'], ['bouge', '!<EOS>'], ['salut', '!<EOS>']]\n"
     ]
    }
   ],
   "source": [
    "# 잘 되는지 확인해보기 \n",
    "sents_en_in, sents_teaching_force, sents_fra_out = load_sentence_data()\n",
    "print('인코더의 입력 :',sents_en_in[:5])\n",
    "print('디코더의 입력 :',sents_teaching_force[:5])\n",
    "print('디코더의 레이블 :',sents_fra_out[:5])\n"
   ]
  },
  {
   "cell_type": "markdown",
   "id": "9aea7c66",
   "metadata": {},
   "source": [
    "Decoder encoder와 마찬가지로 여러개의 RNN으로 되어있다 설계시 인코딩에서 나온 context vector를 초기 은닉층으로 사용하고 처음 셀에서 단어를 예측한 결과를 다시 입력으로 사용하면서 진행하는데 디코더의 입력을 teaching force로 고정 시켜야 잘못 진행되는거을 예방 할수있다 \n"
   ]
  },
  {
   "cell_type": "code",
   "execution_count": null,
   "id": "5fec806d",
   "metadata": {},
   "outputs": [],
   "source": []
  },
  {
   "cell_type": "markdown",
   "id": "cb043944",
   "metadata": {},
   "source": [
    "# Tokenizer 하기 \n",
    "\n",
    "이미 전처리 했으니까 tokenizer에서 디폴트로 설정되어있는 filter를 \"\"로 설정하고 \n",
    "이미 소문자 바꿨으니까 lower도 False로 진행한다 \n",
    "\n"
   ]
  },
  {
   "cell_type": "code",
   "execution_count": 331,
   "id": "53bb8a3d",
   "metadata": {},
   "outputs": [],
   "source": [
    "# 영어 tokenizer\n",
    "tokenizer_en = Tokenizer(filters=\"\", lower=False)\n",
    "tokenizer_en.fit_on_texts(sents_en_in)\n",
    "encoder_input = tokenizer_en.texts_to_sequences(sents_en_in) # 정수 인코딩 결과 \n",
    "\n",
    "# 프랑스 tokenizer\n",
    "tokenizer_fra = Tokenizer(filters=\"\", lower=False)\n",
    "tokenizer_fra.fit_on_texts(sents_teaching_force)\n",
    "tokenizer_fra.fit_on_texts(sents_fra_out)\n",
    "\n",
    "decoder_input = tokenizer_fra.texts_to_sequences(sents_teaching_force)\n",
    "decoder_target = tokenizer_fra.texts_to_sequences(sents_fra_out)\n",
    "\n"
   ]
  },
  {
   "cell_type": "code",
   "execution_count": 332,
   "id": "9011ec0c",
   "metadata": {},
   "outputs": [
    {
     "name": "stdout",
     "output_type": "stream",
     "text": [
      "영어 단어 집합의 크기 : 4672, 프랑스어 단어 집합의 크기 : 9307\n"
     ]
    }
   ],
   "source": [
    "src_vocab_size = len(tokenizer_en.word_index) + 1\n",
    "tar_vocab_size = len(tokenizer_fra.word_index) + 1\n",
    "print(\"영어 단어 집합의 크기 : {:d}, 프랑스어 단어 집합의 크기 : {:d}\".format(src_vocab_size, tar_vocab_size))"
   ]
  },
  {
   "cell_type": "code",
   "execution_count": 333,
   "id": "fb3e9864",
   "metadata": {
    "scrolled": true
   },
   "outputs": [
    {
     "name": "stdout",
     "output_type": "stream",
     "text": [
      "영어 시퀀스의 최대 길이 8\n",
      "프랑스어 시퀀스의 최대 길이 15\n"
     ]
    }
   ],
   "source": [
    "# 최대 길이 구하기 \n",
    "\n",
    "max_eng_seq_len = max([len(line) for line in encoder_input])\n",
    "max_fra_seq_len = max([len(line) for line in decoder_target])\n",
    "print('영어 시퀀스의 최대 길이', max_eng_seq_len)\n",
    "print('프랑스어 시퀀스의 최대 길이', max_fra_seq_len)"
   ]
  },
  {
   "cell_type": "code",
   "execution_count": 334,
   "id": "19568e99",
   "metadata": {},
   "outputs": [
    {
     "name": "stdout",
     "output_type": "stream",
     "text": [
      "전체 샘플의 수 : 33000\n",
      "영어 시퀀스의 최대 길이 8\n",
      "프랑스어 시퀀스의 최대 길이 15\n"
     ]
    }
   ],
   "source": [
    "print('전체 샘플의 수 :',len(lines))\n",
    "print('영어 시퀀스의 최대 길이', max_eng_seq_len)\n",
    "print('프랑스어 시퀀스의 최대 길이', max_fra_seq_len)"
   ]
  },
  {
   "cell_type": "code",
   "execution_count": 335,
   "id": "a7ac1aad",
   "metadata": {},
   "outputs": [],
   "source": [
    "#Padding \n",
    "\n",
    "encoder_input = pad_sequences(encoder_input, maxlen=max_eng_seq_len,padding=\"pre\")\n",
    "decoder_input = pad_sequences(decoder_input,maxlen=max_fra_seq_len, padding=\"pre\")\n",
    "decoder_target = pad_sequences(decoder_target, maxlen=max_fra_seq_len,padding=\"pre\")"
   ]
  },
  {
   "cell_type": "code",
   "execution_count": 336,
   "id": "0e74181e",
   "metadata": {
    "scrolled": true
   },
   "outputs": [
    {
     "name": "stdout",
     "output_type": "stream",
     "text": [
      "인코더의 입력의 크기(shape) : (33000, 8)\n",
      "디코더의 입력의 크기(shape) : (33000, 15)\n",
      "디코더의 레이블의 크기(shape) : (33000, 15)\n"
     ]
    }
   ],
   "source": [
    "print('인코더의 입력의 크기(shape) :',encoder_input.shape)\n",
    "print('디코더의 입력의 크기(shape) :',decoder_input.shape)\n",
    "print('디코더의 레이블의 크기(shape) :',decoder_target.shape)"
   ]
  },
  {
   "cell_type": "code",
   "execution_count": null,
   "id": "2fa11d61",
   "metadata": {},
   "outputs": [],
   "source": []
  },
  {
   "cell_type": "markdown",
   "id": "e93ec622",
   "metadata": {},
   "source": [
    "# train , test 나누기 "
   ]
  },
  {
   "cell_type": "code",
   "execution_count": 337,
   "id": "c33facff",
   "metadata": {},
   "outputs": [],
   "source": [
    "encoder_input_train = encoder_input[:30000]\n",
    "decoder_input_train = decoder_input[:30000]\n",
    "decoder_target_train = decoder_target[:30000]\n",
    "\n",
    "encoder_input_test = encoder_input[30000:]\n",
    "decoder_input_test = decoder_input[30000:]\n",
    "decoder_target_test = decoder_target[30000:]\n"
   ]
  },
  {
   "cell_type": "code",
   "execution_count": 338,
   "id": "4cdf6ec6",
   "metadata": {},
   "outputs": [
    {
     "name": "stdout",
     "output_type": "stream",
     "text": [
      "훈련 source 데이터의 크기 : (30000, 8)\n",
      "훈련 target 데이터의 크기 : (30000, 15)\n",
      "훈련 target 레이블의 크기 : (30000, 15)\n",
      "테스트 source 데이터의 크기 : (3000, 8)\n",
      "테스트 target 데이터의 크기 : (3000, 15)\n",
      "테스트 target 레이블의 크기 : (3000, 15)\n"
     ]
    }
   ],
   "source": [
    "print('훈련 source 데이터의 크기 :',encoder_input_train.shape)\n",
    "print('훈련 target 데이터의 크기 :',decoder_input_train.shape)\n",
    "print('훈련 target 레이블의 크기 :',decoder_target_train.shape)\n",
    "print('테스트 source 데이터의 크기 :',encoder_input_test.shape)\n",
    "print('테스트 target 데이터의 크기 :',decoder_input_test.shape)\n",
    "print('테스트 target 레이블의 크기 :',decoder_target_test.shape)"
   ]
  },
  {
   "cell_type": "markdown",
   "id": "24e26cef",
   "metadata": {},
   "source": [
    "# 모델 만들기 \n"
   ]
  },
  {
   "cell_type": "code",
   "execution_count": 339,
   "id": "72c27b41",
   "metadata": {},
   "outputs": [],
   "source": [
    "embedding_dim = 128\n",
    "hidden_units = 128"
   ]
  },
  {
   "cell_type": "code",
   "execution_count": 340,
   "id": "a9cb1711",
   "metadata": {},
   "outputs": [],
   "source": [
    "# Encoder 만들기 \n",
    "\n",
    "encoder_inputs = Input(shape=(None,))\n",
    "enc_emb = Embedding(src_vocab_size, embedding_dim)(encoder_inputs)\n",
    "enc_masking = Masking(mask_value=0.0)(enc_emb) # 패딩 0은 연산에서 제외\n",
    "encoder_lstm = LSTM(hidden_units, return_state=True)\n",
    "encoder_outputs, state_h, state_c = encoder_lstm(enc_masking) \n",
    "encoder_states = [state_h, state_c] # context vector \n"
   ]
  },
  {
   "cell_type": "code",
   "execution_count": 341,
   "id": "be122adf",
   "metadata": {},
   "outputs": [],
   "source": [
    " # Decoder 초기 은닉 상태 ==인코더의 마지막 은닉 상태 \n",
    "\n",
    "decoder_inputs = Input(shape=(None,))\n",
    "dec_emb_layer = Embedding(tar_vocab_size, hidden_units) # 임베딩 층\n",
    "dec_emb = dec_emb_layer(decoder_inputs) # decoder의 입력 \n",
    "dec_masking = Masking(mask_value=0.0)(dec_emb) \n",
    "\n",
    "\n",
    "# return sequnces return state 모두 True이다 \n",
    "decoder_lstm = LSTM(hidden_units, return_sequences=True, return_state=True) \n",
    "\n",
    "# 인코더의 은닉 상태를 초기 은닉 상태(initial_state)로 사용\n",
    "decoder_outputs, _, _ = decoder_lstm(dec_masking,\n",
    "                                     initial_state=encoder_states)  #context vector입력 받음 \n",
    "\n",
    "\n",
    "# 모든 시점의 결과에 대해서 소프트맥스 함수를 사용한 출력층을 통해 단어 예측\n",
    "decoder_dense = Dense(tar_vocab_size, activation='softmax')\n",
    "decoder_outputs = decoder_dense(decoder_outputs)\n",
    " "
   ]
  },
  {
   "cell_type": "markdown",
   "id": "f89577ef",
   "metadata": {},
   "source": [
    "\n",
    "\n",
    "one hot encoding이 아니므로 catetgorical 쓰지 않고 sparse_categorical_CE를 사용한다 \n",
    "\n",
    "그리고 model fit 할때 validation_split을 0.2로 주어서 따로  validation을 사용했다 \n"
   ]
  },
  {
   "cell_type": "code",
   "execution_count": 342,
   "id": "12002b18",
   "metadata": {},
   "outputs": [],
   "source": [
    "# 모델의 입력과 출력을 정의.\n",
    "model = Model([encoder_inputs, decoder_inputs], decoder_outputs)\n",
    "\n",
    "model.compile(optimizer='adam', loss='sparse_categorical_crossentropy', metrics=['acc'])"
   ]
  },
  {
   "cell_type": "code",
   "execution_count": 343,
   "id": "345f54c5",
   "metadata": {},
   "outputs": [
    {
     "name": "stdout",
     "output_type": "stream",
     "text": [
      "Epoch 1/30\n",
      "188/188 [==============================] - 14s 42ms/step - loss: 3.2163 - acc: 0.6693 - val_loss: 2.6618 - val_acc: 0.6216\n",
      "Epoch 2/30\n",
      "188/188 [==============================] - 6s 31ms/step - loss: 1.8983 - acc: 0.6865 - val_loss: 1.9764 - val_acc: 0.6878\n",
      "Epoch 3/30\n",
      "188/188 [==============================] - 6s 31ms/step - loss: 1.4791 - acc: 0.7533 - val_loss: 1.6199 - val_acc: 0.7394\n",
      "Epoch 4/30\n",
      "188/188 [==============================] - 6s 31ms/step - loss: 1.1782 - acc: 0.8218 - val_loss: 1.3085 - val_acc: 0.8192\n",
      "Epoch 5/30\n",
      "188/188 [==============================] - 6s 32ms/step - loss: 0.9563 - acc: 0.8689 - val_loss: 1.1025 - val_acc: 0.8549\n",
      "Epoch 6/30\n",
      "188/188 [==============================] - 6s 31ms/step - loss: 0.8172 - acc: 0.8891 - val_loss: 0.9751 - val_acc: 0.8711\n",
      "Epoch 7/30\n",
      "188/188 [==============================] - 6s 31ms/step - loss: 0.7244 - acc: 0.9018 - val_loss: 0.8845 - val_acc: 0.8870\n",
      "Epoch 8/30\n",
      "188/188 [==============================] - 6s 31ms/step - loss: 0.6541 - acc: 0.9116 - val_loss: 0.8124 - val_acc: 0.8971\n",
      "Epoch 9/30\n",
      "188/188 [==============================] - 6s 31ms/step - loss: 0.5962 - acc: 0.9200 - val_loss: 0.7514 - val_acc: 0.9074\n",
      "Epoch 10/30\n",
      "188/188 [==============================] - 6s 31ms/step - loss: 0.5431 - acc: 0.9272 - val_loss: 0.6922 - val_acc: 0.9142\n",
      "Epoch 11/30\n",
      "188/188 [==============================] - 6s 31ms/step - loss: 0.4937 - acc: 0.9339 - val_loss: 0.6419 - val_acc: 0.9234\n",
      "Epoch 12/30\n",
      "188/188 [==============================] - 6s 31ms/step - loss: 0.4489 - acc: 0.9400 - val_loss: 0.5972 - val_acc: 0.9311\n",
      "Epoch 13/30\n",
      "188/188 [==============================] - 6s 31ms/step - loss: 0.4080 - acc: 0.9457 - val_loss: 0.5576 - val_acc: 0.9379\n",
      "Epoch 14/30\n",
      "188/188 [==============================] - 6s 31ms/step - loss: 0.3702 - acc: 0.9513 - val_loss: 0.5219 - val_acc: 0.9430\n",
      "Epoch 15/30\n",
      "188/188 [==============================] - 6s 31ms/step - loss: 0.3351 - acc: 0.9563 - val_loss: 0.4896 - val_acc: 0.9485\n",
      "Epoch 16/30\n",
      "188/188 [==============================] - 6s 31ms/step - loss: 0.3028 - acc: 0.9609 - val_loss: 0.4611 - val_acc: 0.9525\n",
      "Epoch 17/30\n",
      "188/188 [==============================] - 6s 31ms/step - loss: 0.2730 - acc: 0.9649 - val_loss: 0.4353 - val_acc: 0.9562\n",
      "Epoch 18/30\n",
      "188/188 [==============================] - 6s 31ms/step - loss: 0.2453 - acc: 0.9689 - val_loss: 0.4121 - val_acc: 0.9602\n",
      "Epoch 19/30\n",
      "188/188 [==============================] - 6s 31ms/step - loss: 0.2198 - acc: 0.9728 - val_loss: 0.3905 - val_acc: 0.9638\n",
      "Epoch 20/30\n",
      "188/188 [==============================] - 6s 31ms/step - loss: 0.1963 - acc: 0.9763 - val_loss: 0.3709 - val_acc: 0.9664\n",
      "Epoch 21/30\n",
      "188/188 [==============================] - 6s 31ms/step - loss: 0.1745 - acc: 0.9794 - val_loss: 0.3526 - val_acc: 0.9689\n",
      "Epoch 22/30\n",
      "188/188 [==============================] - 6s 31ms/step - loss: 0.1544 - acc: 0.9819 - val_loss: 0.3354 - val_acc: 0.9708\n",
      "Epoch 23/30\n",
      "188/188 [==============================] - 6s 31ms/step - loss: 0.1360 - acc: 0.9842 - val_loss: 0.3203 - val_acc: 0.9725\n",
      "Epoch 24/30\n",
      "188/188 [==============================] - 6s 31ms/step - loss: 0.1194 - acc: 0.9863 - val_loss: 0.3062 - val_acc: 0.9741\n",
      "Epoch 25/30\n",
      "188/188 [==============================] - 6s 31ms/step - loss: 0.1043 - acc: 0.9886 - val_loss: 0.2927 - val_acc: 0.9762\n",
      "Epoch 26/30\n",
      "188/188 [==============================] - 6s 31ms/step - loss: 0.0908 - acc: 0.9903 - val_loss: 0.2808 - val_acc: 0.9770\n",
      "Epoch 27/30\n",
      "188/188 [==============================] - 6s 31ms/step - loss: 0.0786 - acc: 0.9912 - val_loss: 0.2699 - val_acc: 0.9776\n",
      "Epoch 28/30\n",
      "188/188 [==============================] - 6s 31ms/step - loss: 0.0678 - acc: 0.9918 - val_loss: 0.2598 - val_acc: 0.9781\n",
      "Epoch 29/30\n",
      "188/188 [==============================] - 6s 31ms/step - loss: 0.0582 - acc: 0.9925 - val_loss: 0.2502 - val_acc: 0.9787\n",
      "Epoch 30/30\n",
      "188/188 [==============================] - 6s 31ms/step - loss: 0.0496 - acc: 0.9938 - val_loss: 0.2418 - val_acc: 0.9798\n"
     ]
    }
   ],
   "source": [
    "history = model.fit(x=[encoder_input_train, decoder_input_train], y=decoder_target_train,\n",
    "          validation_split =0.2,batch_size=128, epochs=30)\n"
   ]
  },
  {
   "cell_type": "code",
   "execution_count": 344,
   "id": "246bded4",
   "metadata": {},
   "outputs": [],
   "source": [
    "import matplotlib.pyplot as plt\n",
    "# 시각화 하기 \n",
    "def training_validate_loss_acc(history_dict):\n",
    "    acc = history_dict['acc']\n",
    "    val_acc = history_dict['val_acc']\n",
    "    loss = history_dict['loss']\n",
    "    val_loss = history_dict['val_loss']\n",
    "\n",
    "    epochs = range(1, len(acc) + 1)\n",
    "\n",
    "    # \"bo\"는 \"파란색 점\"입니다\n",
    "    plt.plot(epochs, loss, 'bo', label='Training loss')\n",
    "    # b는 \"파란 실선\"입니다\n",
    "    plt.plot(epochs, val_loss, 'b', label='Validation loss')\n",
    "    plt.title('Training and validation loss')\n",
    "    plt.xlabel('Epochs')\n",
    "    plt.ylabel('Loss')\n",
    "    plt.legend()\n",
    "\n",
    "    plt.show()\n",
    "    \n",
    "    plt.plot(epochs, acc, 'bo', label='Training acc')\n",
    "    plt.plot(epochs, val_acc, 'b', label='Validation acc')\n",
    "    plt.title('Training and validation accuracy')\n",
    "    plt.xlabel('Epochs')\n",
    "    plt.ylabel('Accuracy')\n",
    "    plt.legend()\n",
    "\n",
    "    plt.show()"
   ]
  },
  {
   "cell_type": "code",
   "execution_count": 345,
   "id": "d457c481",
   "metadata": {},
   "outputs": [],
   "source": [
    "history_dict = history.history\n"
   ]
  },
  {
   "cell_type": "code",
   "execution_count": 346,
   "id": "ffbdc1a5",
   "metadata": {
    "scrolled": false
   },
   "outputs": [
    {
     "data": {
      "image/png": "[encoded data removed]",
      "text/plain": [
       "<Figure size 432x288 with 1 Axes>"
      ]
     },
     "metadata": {
      "needs_background": "light"
     },
     "output_type": "display_data"
    },
    {
     "data": {
      "image/png": "[encoded data removed]",
      "text/plain": [
       "<Figure size 432x288 with 1 Axes>"
      ]
     },
     "metadata": {
      "needs_background": "light"
     },
     "output_type": "display_data"
    }
   ],
   "source": [
    "training_validate_loss_acc(history_dict)"
   ]
  },
  {
   "cell_type": "code",
   "execution_count": 347,
   "id": "2b78d090",
   "metadata": {},
   "outputs": [
    {
     "name": "stdout",
     "output_type": "stream",
     "text": [
      "94/94 - 1s - loss: 0.2705 - acc: 0.9779\n",
      "[0.27053484320640564, 0.9778888821601868]\n"
     ]
    }
   ],
   "source": [
    "# 모델 평가 하기 \n",
    "\n",
    "results = model.evaluate([encoder_input_test,decoder_input_test] ,decoder_target_test, verbose=2)\n",
    "\n",
    "print(results)"
   ]
  },
  {
   "cell_type": "markdown",
   "id": "82ca483b",
   "metadata": {},
   "source": [
    "# Seq2Seq 구조로 만들기\n",
    "\n",
    "teaching force를 해야 하기때문에 디코더를 수정해야한다 \n",
    "1. 번역하고자 하는 입력 문장이 인코더로 입력되어 인코더의 마지막 시점의 은닉 상태와 셀 상태를 얻습니다.  \n",
    "2. 인코더의 은닉 상태와 셀 상태, 그리고 토큰 sos를 디코더로 보냅니다.  \n",
    "3. 디코더가 토큰 eos가 나올 때까지 다음 단어를 예측하는 행동을 반복합니다. \n",
    "\n",
    "\n"
   ]
  },
  {
   "cell_type": "code",
   "execution_count": 348,
   "id": "d925278a",
   "metadata": {},
   "outputs": [],
   "source": [
    "# 인코더\n",
    "encoder_model = Model(encoder_inputs, encoder_states)\n",
    "\n",
    "# 디코더 이전시점의 상태 보관 \n",
    "decoder_state_input_h = Input(shape=(hidden_units,))\n",
    "decoder_state_input_c = Input(shape=(hidden_units,))\n",
    "decoder_states_inputs = [decoder_state_input_h, decoder_state_input_c]\n",
    "\n",
    "# 훈련 때 사용했던 임베딩 층을 재사용\n",
    "dec_emb2 = dec_emb_layer(decoder_inputs)\n",
    "\n",
    "# 다음 단어 예측을 위해 이전 시점의 상태를 현 시점의 초기 상태로 사용\n",
    "decoder_outputs2, state_h2, state_c2 = decoder_lstm(dec_emb2, initial_state=decoder_states_inputs)\n",
    "decoder_states2 = [state_h2, state_c2]\n",
    "\n",
    "# 모든 시점에 대해서 단어 예측\n",
    "decoder_outputs2 = decoder_dense(decoder_outputs2)\n",
    "\n",
    "# 수정된 디코더\n",
    "decoder_model = Model(\n",
    "    [decoder_inputs] + decoder_states_inputs,\n",
    "    [decoder_outputs2] + decoder_states2)\n"
   ]
  },
  {
   "cell_type": "code",
   "execution_count": null,
   "id": "4c490ddb",
   "metadata": {},
   "outputs": [],
   "source": []
  },
  {
   "cell_type": "code",
   "execution_count": 349,
   "id": "d071cfd3",
   "metadata": {},
   "outputs": [],
   "source": [
    "src_to_index = tokenizer_en.word_index\n",
    "index_to_src = tokenizer_en.index_word\n",
    "tar_to_index = tokenizer_fra.word_index\n",
    "index_to_tar = tokenizer_fra.index_word"
   ]
  },
  {
   "cell_type": "code",
   "execution_count": null,
   "id": "c31d4eb0",
   "metadata": {},
   "outputs": [],
   "source": []
  },
  {
   "cell_type": "code",
   "execution_count": 350,
   "id": "181c1263",
   "metadata": {},
   "outputs": [],
   "source": [
    "index_to_tar[0] = ' '"
   ]
  },
  {
   "cell_type": "code",
   "execution_count": 351,
   "id": "715fe5e9",
   "metadata": {},
   "outputs": [],
   "source": [
    "def decode_sequence(input_seq):\n",
    "    # 입력으로부터 인코더의 상태를 얻음\n",
    "    states_value = encoder_model.predict(input_seq)\n",
    "\n",
    "    # 에 해당하는 원-핫 벡터 생성\n",
    "    target_seq = np.zeros((1,1)) \n",
    "    target_seq[0, 0] = tar_to_index[\"<SOS>\"]\n",
    "    \n",
    "    stop_condition = False\n",
    "    decoded_sentence = \"\"\n",
    " \n",
    "    # stop_condition이 True가 될 때까지 루프 반복\n",
    "    while not stop_condition:\n",
    "        # 이점 시점의 상태 states_value를 현 시점의 초기 상태로 사용\n",
    "        output_tokens, h, c = decoder_model.predict([target_seq] + states_value)\n",
    "       \n",
    "        # 예측 결과를 문자로 변환\n",
    "        sampled_token_index = np.argmax(output_tokens[0, -1, :])\n",
    "     \n",
    "     \n",
    "        sampled_char = index_to_tar[sampled_token_index]\n",
    "        \n",
    "        \n",
    "        # 현재 시점의 예측 문자를 예측 문장에 추가\n",
    "        decoded_sentence += ' '+sampled_char\n",
    "\n",
    "        # 에 도달하거나 최대 길이를 넘으면 중단.\n",
    "        if (sampled_char == '<EOS>' or\n",
    "           len(decoded_sentence) > max_fra_seq_len):\n",
    "            stop_condition = True\n",
    "\n",
    "        # 현재 시점의 예측 결과를 다음 시점의 입력으로 사용하기 위해 저장     \n",
    "        target_seq = np.zeros((1, 1))\n",
    "        target_seq[0, 0] = sampled_token_index\n",
    "\n",
    "        # 현재 시점의 상태를 다음 시점의 상태로 사용하기 위해 저장\n",
    "        states_value = [h, c]\n",
    "    \n",
    "    return decoded_sentence"
   ]
  },
  {
   "cell_type": "code",
   "execution_count": 352,
   "id": "11d287c9",
   "metadata": {},
   "outputs": [],
   "source": [
    "# 원문의 정수 시퀀스를 텍스트 시퀀스로 변환\n",
    "def seq_to_src(input_seq):\n",
    "    sentence = ''\n",
    "    for encoded_word in input_seq:\n",
    "        if(encoded_word != 0):\n",
    "            sentence = sentence + index_to_src[encoded_word] + ' '\n",
    "    return sentence\n",
    "\n",
    "# 번역문의 정수 시퀀스를 텍스트 시퀀스로 변환\n",
    "def seq_to_tar(input_seq):\n",
    "    sentence = ''\n",
    "    for encoded_word in input_seq:\n",
    "        if(encoded_word != 0 and encoded_word != tar_to_index['<SOS>'] and encoded_word != tar_to_index['<EOS>']):\n",
    "            sentence = sentence + index_to_tar[encoded_word] + ' '\n",
    "    return sentence"
   ]
  },
  {
   "cell_type": "code",
   "execution_count": 353,
   "id": "93630c2e",
   "metadata": {},
   "outputs": [
    {
     "name": "stdout",
     "output_type": "stream",
     "text": [
      "입력문장 : go . \n",
      "정답문장 : <SOS>bouge ! \n",
      "번역문장 :           \n",
      "--------------------------------------------------\n",
      "입력문장 : hello ! \n",
      "정답문장 : <SOS>bonjour ! \n",
      "번역문장 :           \n",
      "--------------------------------------------------\n",
      "입력문장 : got it ? \n",
      "정답문장 : <SOS>t as capte ? \n",
      "번역문장 :           \n",
      "--------------------------------------------------\n",
      "입력문장 : hang on . \n",
      "정답문장 : <SOS>tiens bon ! \n",
      "번역문장 :           \n",
      "--------------------------------------------------\n",
      "입력문장 : here s . \n",
      "정답문장 : <SOS>voila cinq dollars . \n",
      "번역문장 :           \n",
      "--------------------------------------------------\n"
     ]
    }
   ],
   "source": [
    "import numpy as np\n",
    "for seq_index in [3,50,100,300,1001]: # 입력 문장의 인덱스 (자유롭게 선택해 보세요)\n",
    "    input_seq = encoder_input[seq_index: seq_index + 1]\n",
    "    decoded_sentence = decode_sequence(input_seq)\n",
    "    print(35 * \"-\")\n",
    "    print('입력 문장:', lines.eng[seq_index])\n",
    "    print('정답 문장:', lines.fra[seq_index][1:len(lines.fra[seq_index])-1]) # '\\t'와 '\\n'을 빼고 출력\n",
    "    print('번역기가 번역한 문장:', decoded_sentence[:len(decoded_sentence)-1]) # '\\n'을 빼고 출력"
   ]
  },
  {
   "cell_type": "code",
   "execution_count": null,
   "id": "82de21a8",
   "metadata": {},
   "outputs": [],
   "source": []
  },
  {
   "cell_type": "markdown",
   "id": "fdb48212",
   "metadata": {},
   "source": [
    "# 회고 \n",
    "\n",
    "\n",
    "\n",
    "디코더의 원래 구조에서 teaching force로 seq2seq에서는 바뀌는데 아직 어떤 부분에서 teaching force가 적용되는지 명확히는 모르겠다 \n",
    "\n",
    "그리고 디코더 설계도 아직 잘 모르겠다 거의 참고 한 코드로 작성이 되었고 이해해보려 했지만 한계를 느꼈다 \n",
    "\n",
    "그리고 번역결과가 잘 안된것 같은데 Attention을 할때는 조금더 개선 되었으면 좋겠다 \n",
    "\n",
    "\n",
    "\n",
    "\n",
    "\n",
    "\n",
    "참고  https://wikidocs.net/86900\n"
   ]
  },
  {
   "cell_type": "code",
   "execution_count": null,
   "id": "1da8c120",
   "metadata": {},
   "outputs": [],
   "source": []
  },
  {
   "cell_type": "code",
   "execution_count": null,
   "id": "698d756a",
   "metadata": {},
   "outputs": [],
   "source": []
  }
 ],
 "metadata": {
  "kernelspec": {
   "display_name": "Python 3 (ipykernel)",
   "language": "python",
   "name": "python3"
  },
  "language_info": {
   "codemirror_mode": {
    "name": "ipython",
    "version": 3
   },
   "file_extension": ".py",
   "mimetype": "text/x-python",
   "name": "python",
   "nbconvert_exporter": "python",
   "pygments_lexer": "ipython3",
   "version": "3.9.7"
  }
 },
 "nbformat": 4,
 "nbformat_minor": 5
}
