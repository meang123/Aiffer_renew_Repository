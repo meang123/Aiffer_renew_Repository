{
 "cells": [
  {
   "cell_type": "markdown",
   "id": "01abd8cb",
   "metadata": {},
   "source": [
    "https://joecho.tistory.com/entry/kaggle-bike-sharing-demand-data-analysis\n",
    "\n",
    "https://mjs1995.tistory.com/65\n",
    "\n",
    "\n",
    "\n",
    "https://www.kaggle.com/code/dogdriip/bike-sharing-demand/notebook#%EB%AA%A8%EB%8D%B8-%EC%84%A0%EC%A0%95  \n",
    "\n",
    "\n",
    "https://www.kaggle.com/code/johnnytay/acada-team-6-bikeshare"
   ]
  }
 ],
 "metadata": {
  "kernelspec": {
   "display_name": "Python 3 (ipykernel)",
   "language": "python",
   "name": "python3"
  },
  "language_info": {
   "codemirror_mode": {
    "name": "ipython",
    "version": 3
   },
   "file_extension": ".py",
   "mimetype": "text/x-python",
   "name": "python",
   "nbconvert_exporter": "python",
   "pygments_lexer": "ipython3",
   "version": "3.9.7"
  }
 },
 "nbformat": 4,
 "nbformat_minor": 5
}
