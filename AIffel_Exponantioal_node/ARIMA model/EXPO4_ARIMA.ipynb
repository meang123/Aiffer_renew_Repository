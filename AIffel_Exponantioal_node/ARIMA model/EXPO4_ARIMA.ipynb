{
 "cells": [
  {
   "cell_type": "markdown",
   "id": "9fb0eff4",
   "metadata": {},
   "source": [
    "## ARIMA model Exponantioal 4\n",
    "\n",
    "삼성 주가 예측 하기 \n",
    "\n",
    "\n",
    "<br>\n",
    "</br>\n",
    "\n",
    "칼럼 종류: Date, Open, High, Low, Close, Adj Close, Volume  \n",
    "\n",
    "날짜별로 시작가(Open), 최고가(High), 최저가(Low), 종가(Close), 수정종가(Adj Close), 거래량(Volume)이 저장되어 있는 것을 확인할 수 있습니다.  \n",
    "\n",
    "\n",
    "종가 : (주식 시장은 정해진 시간 동안만 거래가 가능합니다. 종가란 하루의 장이 마감하였을 때의 가격입니다.)\n",
    "\n"
   ]
  },
  {
   "cell_type": "code",
   "execution_count": 103,
   "id": "677a29be",
   "metadata": {},
   "outputs": [
    {
     "name": "stdout",
     "output_type": "stream",
     "text": [
      "Requirement already satisfied: pandas_datareader in c:\\users\\maeng\\anaconda3\\lib\\site-packages (0.10.0)\n",
      "Requirement already satisfied: lxml in c:\\users\\maeng\\anaconda3\\lib\\site-packages (from pandas_datareader) (4.6.3)\n",
      "Requirement already satisfied: requests>=2.19.0 in c:\\users\\maeng\\anaconda3\\lib\\site-packages (from pandas_datareader) (2.26.0)\n",
      "Requirement already satisfied: pandas>=0.23 in c:\\users\\maeng\\anaconda3\\lib\\site-packages (from pandas_datareader) (1.3.4)\n",
      "Requirement already satisfied: numpy>=1.17.3 in c:\\users\\maeng\\anaconda3\\lib\\site-packages (from pandas>=0.23->pandas_datareader) (1.22.4)\n",
      "Requirement already satisfied: python-dateutil>=2.7.3 in c:\\users\\maeng\\anaconda3\\lib\\site-packages (from pandas>=0.23->pandas_datareader) (2.8.2)\n",
      "Requirement already satisfied: pytz>=2017.3 in c:\\users\\maeng\\anaconda3\\lib\\site-packages (from pandas>=0.23->pandas_datareader) (2021.3)\n",
      "Requirement already satisfied: six>=1.5 in c:\\users\\maeng\\anaconda3\\lib\\site-packages (from python-dateutil>=2.7.3->pandas>=0.23->pandas_datareader) (1.16.0)\n",
      "Requirement already satisfied: charset-normalizer~=2.0.0 in c:\\users\\maeng\\anaconda3\\lib\\site-packages (from requests>=2.19.0->pandas_datareader) (2.0.4)\n",
      "Requirement already satisfied: urllib3<1.27,>=1.21.1 in c:\\users\\maeng\\anaconda3\\lib\\site-packages (from requests>=2.19.0->pandas_datareader) (1.26.7)\n",
      "Requirement already satisfied: idna<4,>=2.5 in c:\\users\\maeng\\anaconda3\\lib\\site-packages (from requests>=2.19.0->pandas_datareader) (3.2)\n",
      "Requirement already satisfied: certifi>=2017.4.17 in c:\\users\\maeng\\anaconda3\\lib\\site-packages (from requests>=2.19.0->pandas_datareader) (2021.10.8)\n"
     ]
    }
   ],
   "source": [
    "!pip install pandas_datareader"
   ]
  },
  {
   "cell_type": "code",
   "execution_count": 104,
   "id": "f5725e70",
   "metadata": {},
   "outputs": [
    {
     "name": "stdout",
     "output_type": "stream",
     "text": [
      "Requirement already satisfied: pmdarima in c:\\users\\maeng\\anaconda3\\lib\\site-packages (2.0.1)\n",
      "Requirement already satisfied: Cython!=0.29.18,!=0.29.31,>=0.29 in c:\\users\\maeng\\anaconda3\\lib\\site-packages (from pmdarima) (0.29.24)\n",
      "Requirement already satisfied: numpy>=1.21 in c:\\users\\maeng\\anaconda3\\lib\\site-packages (from pmdarima) (1.22.4)\n",
      "Requirement already satisfied: pandas>=0.19 in c:\\users\\maeng\\anaconda3\\lib\\site-packages (from pmdarima) (1.3.4)\n",
      "Requirement already satisfied: scikit-learn>=0.22 in c:\\users\\maeng\\anaconda3\\lib\\site-packages (from pmdarima) (0.24.2)\n",
      "Requirement already satisfied: joblib>=0.11 in c:\\users\\maeng\\anaconda3\\lib\\site-packages (from pmdarima) (1.1.0)\n",
      "Requirement already satisfied: scipy>=1.3.2 in c:\\users\\maeng\\anaconda3\\lib\\site-packages (from pmdarima) (1.7.1)\n",
      "Requirement already satisfied: urllib3 in c:\\users\\maeng\\anaconda3\\lib\\site-packages (from pmdarima) (1.26.7)\n",
      "Requirement already satisfied: statsmodels>=0.13.2 in c:\\users\\maeng\\anaconda3\\lib\\site-packages (from pmdarima) (0.13.5)\n",
      "Requirement already satisfied: setuptools!=50.0.0,>=38.6.0 in c:\\users\\maeng\\anaconda3\\lib\\site-packages (from pmdarima) (58.0.4)\n",
      "Requirement already satisfied: pytz>=2017.3 in c:\\users\\maeng\\anaconda3\\lib\\site-packages (from pandas>=0.19->pmdarima) (2021.3)\n",
      "Requirement already satisfied: python-dateutil>=2.7.3 in c:\\users\\maeng\\anaconda3\\lib\\site-packages (from pandas>=0.19->pmdarima) (2.8.2)\n",
      "Requirement already satisfied: six>=1.5 in c:\\users\\maeng\\anaconda3\\lib\\site-packages (from python-dateutil>=2.7.3->pandas>=0.19->pmdarima) (1.16.0)\n",
      "Requirement already satisfied: threadpoolctl>=2.0.0 in c:\\users\\maeng\\anaconda3\\lib\\site-packages (from scikit-learn>=0.22->pmdarima) (2.2.0)\n",
      "Requirement already satisfied: patsy>=0.5.2 in c:\\users\\maeng\\anaconda3\\lib\\site-packages (from statsmodels>=0.13.2->pmdarima) (0.5.2)\n",
      "Requirement already satisfied: packaging>=21.3 in c:\\users\\maeng\\anaconda3\\lib\\site-packages (from statsmodels>=0.13.2->pmdarima) (21.3)\n",
      "Requirement already satisfied: pyparsing!=3.0.5,>=2.0.2 in c:\\users\\maeng\\anaconda3\\lib\\site-packages (from packaging>=21.3->statsmodels>=0.13.2->pmdarima) (3.0.4)\n"
     ]
    }
   ],
   "source": [
    "!pip install pmdarima"
   ]
  },
  {
   "cell_type": "code",
   "execution_count": 105,
   "id": "5156268f",
   "metadata": {},
   "outputs": [],
   "source": [
    "import os \n",
    "import pandas as pd \n",
    "import pandas_datareader.data as pdr\n",
    "\n",
    "from sklearn.model_selection import train_test_split\n",
    "from sklearn.metrics import r2_score\n",
    "\n",
    "import matplotlib.pyplot as plt\n",
    "import matplotlib\n",
    "\n",
    "import statsmodels.api as sm\n",
    "from statsmodels.graphics.tsaplots import plot_acf,plot_pacf\n",
    "from statsmodels.tsa.arima_model import ARIMA\n",
    "from statsmodels.tsa.statespace.sarimax import SARIMAX\n",
    "from pmdarima.arima import ndiffs\n",
    "from pmdarima.arima import auto_arima\n",
    "\n",
    "import numpy as np\n",
    "import seaborn as sns"
   ]
  },
  {
   "cell_type": "code",
   "execution_count": 106,
   "id": "0a259fed",
   "metadata": {},
   "outputs": [],
   "source": [
    "%matplotlib inline\n",
    "import itertools"
   ]
  },
  {
   "cell_type": "code",
   "execution_count": 107,
   "id": "f4833cc2",
   "metadata": {},
   "outputs": [],
   "source": [
    "data = pd.read_csv(\"./ARIMA_data/005930.KS.csv\")\n",
    "data = data[\"Close\"]  # close 데이터만 다루겠다 \n"
   ]
  },
  {
   "cell_type": "code",
   "execution_count": 108,
   "id": "0be0c7a4",
   "metadata": {},
   "outputs": [],
   "source": [
    "data = np.log(data) # 분산 안정화 시킨다 "
   ]
  },
  {
   "cell_type": "code",
   "execution_count": 109,
   "id": "ac21aef8",
   "metadata": {},
   "outputs": [],
   "source": [
    " #80퍼로 train size 나누겠다 \n",
    "    \n",
    "\n",
    "y_train = data[:int(len(data)*0.8)]\n",
    "y_test = data[int(len(data)*0.8):]\n",
    "\n"
   ]
  },
  {
   "cell_type": "code",
   "execution_count": 110,
   "id": "32faa635",
   "metadata": {},
   "outputs": [
    {
     "data": {
      "image/png": "[encoded data removed]",
      "text/plain": [
       "<Figure size 432x288 with 1 Axes>"
      ]
     },
     "metadata": {
      "needs_background": "light"
     },
     "output_type": "display_data"
    }
   ],
   "source": [
    "# 시각화 하기 \n",
    "y_train.plot(c=\"r\")\n",
    "y_test.plot(c=\"b\")\n",
    "plt.show()"
   ]
  },
  {
   "cell_type": "markdown",
   "id": "559507cc",
   "metadata": {},
   "source": [
    "non stationary인것을 알수있다  \n",
    "하향 하는 trend 있지만 최근에는 늘어났다 계절성이나 주기는 확인 되지 않는다 "
   ]
  },
  {
   "cell_type": "code",
   "execution_count": 111,
   "id": "de095cce",
   "metadata": {},
   "outputs": [
    {
     "name": "stdout",
     "output_type": "stream",
     "text": [
      "추정된 차수 d 1 \n"
     ]
    }
   ],
   "source": [
    "# 몇 차분이 필요한지 알아보기 \n",
    "\n",
    "kpass_diff = ndiffs(y_train,alpha=0.05,test=\"kpss\",max_d=6)\n",
    "\n",
    "adf_diffs = ndiffs(y_train,alpha=0.05,test=\"adf\",max_d=6)\n",
    "n_diffs = max(adf_diffs,kpass_diff)\n",
    "\n",
    "print(\"추정된 차수 d {} \".format(n_diffs)) # 1로 차분 하자 \n"
   ]
  },
  {
   "cell_type": "markdown",
   "id": "d11f1ff1",
   "metadata": {},
   "source": [
    "###  ARIMA 모델 분석 하기 "
   ]
  },
  {
   "cell_type": "code",
   "execution_count": 112,
   "id": "5209f7d3",
   "metadata": {},
   "outputs": [
    {
     "data": {
      "image/png": "[encoded data removed]",
      "text/plain": [
       "<Figure size 720x720 with 4 Axes>"
      ]
     },
     "metadata": {
      "needs_background": "light"
     },
     "output_type": "display_data"
    }
   ],
   "source": [
    "decomposition = sm.tsa.seasonal_decompose(data,model =\"additive\",period=1)\n",
    "\n",
    "fig = decomposition.plot()\n",
    "fig.set_size_inches(10,10)\n",
    "plt.show()\n"
   ]
  },
  {
   "cell_type": "code",
   "execution_count": 113,
   "id": "45899423",
   "metadata": {},
   "outputs": [
    {
     "name": "stderr",
     "output_type": "stream",
     "text": [
      "C:\\Users\\maeng\\anaconda3\\lib\\site-packages\\statsmodels\\graphics\\tsaplots.py:348: FutureWarning:\n",
      "\n",
      "The default method 'yw' can produce PACF values outside of the [-1,1] interval. After 0.13, the default will change tounadjusted Yule-Walker ('ywm'). You can use this method now by setting method='ywm'.\n",
      "\n"
     ]
    },
    {
     "data": {
      "image/png": "[encoded data removed]",
      "text/plain": [
       "<Figure size 720x360 with 2 Axes>"
      ]
     },
     "execution_count": 113,
     "metadata": {},
     "output_type": "execute_result"
    },
    {
     "data": {
      "image/png": "[encoded data removed]",
      "text/plain": [
       "<Figure size 720x360 with 2 Axes>"
      ]
     },
     "metadata": {
      "needs_background": "light"
     },
     "output_type": "display_data"
    }
   ],
   "source": [
    "# ACF , PACF 그리기 \n",
    "fig,ax = plt.subplots(1,2,figsize=(10,5))\n",
    "\n",
    "fig.suptitle(\"Raw data\")\n",
    "plot_acf(y_train.values.squeeze(),lags=30,ax=ax[0])\n",
    "plot_pacf(y_train.values.squeeze(),lags=30,ax=ax[1])"
   ]
  },
  {
   "cell_type": "markdown",
   "id": "0e8a909c",
   "metadata": {},
   "source": [
    "ACF가 천천히 줄어드는 것을 확인할수있듯이 non stationary하다 추정한 차분 계수 1로 차분 진행하고 결과 비교를 해본다 \n"
   ]
  },
  {
   "cell_type": "code",
   "execution_count": 114,
   "id": "923418f7",
   "metadata": {},
   "outputs": [
    {
     "name": "stdout",
     "output_type": "stream",
     "text": [
      "######## TRAIN DATA ##################\n",
      "0      11.223909\n",
      "1      11.229235\n",
      "2      11.222573\n",
      "3      11.207758\n",
      "4      11.188579\n",
      "         ...    \n",
      "191    10.975071\n",
      "192    10.959540\n",
      "193    10.952559\n",
      "194    10.952559\n",
      "195    10.933107\n",
      "Name: Close, Length: 196, dtype: float64\n",
      "############### 1 DIFFERENCING #########################\n",
      "1      0.005326\n",
      "2     -0.006662\n",
      "3     -0.014815\n",
      "4     -0.019179\n",
      "5      0.000000\n",
      "         ...   \n",
      "191   -0.022016\n",
      "192   -0.015531\n",
      "193   -0.006981\n",
      "194    0.000000\n",
      "195   -0.019452\n",
      "Name: Close, Length: 195, dtype: float64\n"
     ]
    }
   ],
   "source": [
    "differencing_data = y_train.copy()\n",
    "differencing_data = differencing_data.diff()\n",
    "\n",
    "# 결측치 제거 \n",
    "differencing_data = differencing_data.dropna()\n",
    "\n",
    "print(\"######## TRAIN DATA ##################\")\n",
    "print(y_train)\n",
    "\n",
    "print(\"############### 1 DIFFERENCING #########################\")\n",
    "print(differencing_data)"
   ]
  },
  {
   "cell_type": "code",
   "execution_count": 115,
   "id": "a5246a9b",
   "metadata": {},
   "outputs": [
    {
     "data": {
      "image/png": "[encoded data removed]",
      "text/plain": [
       "<Figure size 864x576 with 2 Axes>"
      ]
     },
     "metadata": {
      "needs_background": "light"
     },
     "output_type": "display_data"
    }
   ],
   "source": [
    "# differencing plot \n",
    "plt.figure(figsize=(12,8))\n",
    "plt.subplot(211)\n",
    "y_train.plot()\n",
    "\n",
    "\n",
    "plt.subplot(212)\n",
    "differencing_data.plot(color=\"orange\")\n",
    "plt.show()"
   ]
  },
  {
   "cell_type": "code",
   "execution_count": 116,
   "id": "a96ffaf2",
   "metadata": {},
   "outputs": [
    {
     "name": "stderr",
     "output_type": "stream",
     "text": [
      "C:\\Users\\maeng\\anaconda3\\lib\\site-packages\\statsmodels\\graphics\\tsaplots.py:348: FutureWarning:\n",
      "\n",
      "The default method 'yw' can produce PACF values outside of the [-1,1] interval. After 0.13, the default will change tounadjusted Yule-Walker ('ywm'). You can use this method now by setting method='ywm'.\n",
      "\n"
     ]
    },
    {
     "data": {
      "image/png": "[encoded data removed]",
      "text/plain": [
       "<Figure size 720x360 with 2 Axes>"
      ]
     },
     "execution_count": 116,
     "metadata": {},
     "output_type": "execute_result"
    },
    {
     "data": {
      "image/png": "[encoded data removed]",
      "text/plain": [
       "<Figure size 720x360 with 2 Axes>"
      ]
     },
     "metadata": {
      "needs_background": "light"
     },
     "output_type": "display_data"
    }
   ],
   "source": [
    "# 차분한 결과 acf pacf 보기 \n",
    "fig,ax = plt.subplots(1,2,figsize=(10,5))\n",
    "\n",
    "fig.suptitle(\"Raw data\")\n",
    "# acf, pacf plt 그리기 \n",
    "\n",
    "plot_acf(differencing_data.values.squeeze(),lags=50,ax=ax[0])\n",
    "plot_pacf(differencing_data.values.squeeze(),lags=50,ax=ax[1])"
   ]
  },
  {
   "cell_type": "markdown",
   "id": "5dd6d983",
   "metadata": {},
   "source": [
    "## ARIMA 파라미터 정해보기 \n"
   ]
  },
  {
   "cell_type": "code",
   "execution_count": 117,
   "id": "623d7f6d",
   "metadata": {},
   "outputs": [
    {
     "name": "stdout",
     "output_type": "stream",
     "text": [
      "\n",
      "    시간 너무 오래 걸리는데 \n",
      "    \n",
      "    [((5, 1, 6), -1116.01)] 찾은 결과가 이러 하니까 auto arima로 이 주변을 다시 찾아 보겠다\n",
      "    다시 찾은 결과 0 1 0 배열이 더 좋은 aic 결과값이 나왔다 \n",
      "\n"
     ]
    }
   ],
   "source": [
    "# p = range(5,28)\n",
    "# d=range(1,2)\n",
    "# q = range(5,28)\n",
    "\n",
    "# pdq = list(itertools.product(p,d,q))\n",
    "\n",
    "# aic=[]\n",
    "\n",
    "# for i in pdq:\n",
    "#     model = sm.tsa.arima.ARIMA(y_train.values,order=(i))\n",
    "#     model_fit = model.fit()\n",
    "#     print(\"ARIMA {} >> AIC {}\".format(i,round(model_fit.aic,2)))\n",
    "#     aic.append(round(model_fit.aic,2))\n",
    "    \n",
    "print(\"\"\"\n",
    "    시간 너무 오래 걸리는데 \n",
    "    \n",
    "    [((5, 1, 6), -1116.01)] 찾은 결과가 이러 하니까 auto arima로 이 주변을 다시 찾아 보겠다\n",
    "    다시 찾은 결과 0 1 0 배열이 더 좋은 aic 결과값이 나왔다 \n",
    "\"\"\")"
   ]
  },
  {
   "cell_type": "code",
   "execution_count": 118,
   "id": "da542064",
   "metadata": {},
   "outputs": [
    {
     "name": "stdout",
     "output_type": "stream",
     "text": [
      " ARIMA(0,1,0)(0,0,0)[0] intercept   : AIC=-1126.266, Time=0.03 sec\n",
      " ARIMA(0,1,1)(0,0,0)[0] intercept   : AIC=-1124.273, Time=0.03 sec\n",
      " ARIMA(0,1,2)(0,0,0)[0] intercept   : AIC=-1123.632, Time=0.06 sec\n",
      " ARIMA(0,1,3)(0,0,0)[0] intercept   : AIC=-1121.792, Time=0.13 sec\n",
      " ARIMA(0,1,4)(0,0,0)[0] intercept   : AIC=-1119.794, Time=0.20 sec\n",
      " ARIMA(0,1,5)(0,0,0)[0] intercept   : AIC=-1119.572, Time=0.23 sec\n",
      " ARIMA(1,1,0)(0,0,0)[0] intercept   : AIC=-1124.272, Time=0.05 sec\n",
      " ARIMA(1,1,1)(0,0,0)[0] intercept   : AIC=-1122.300, Time=0.09 sec\n",
      " ARIMA(1,1,2)(0,0,0)[0] intercept   : AIC=-1121.534, Time=0.24 sec\n",
      " ARIMA(1,1,3)(0,0,0)[0] intercept   : AIC=-1122.148, Time=0.31 sec\n",
      " ARIMA(1,1,4)(0,0,0)[0] intercept   : AIC=-1117.909, Time=0.18 sec\n",
      " ARIMA(2,1,0)(0,0,0)[0] intercept   : AIC=-1123.603, Time=0.07 sec\n",
      " ARIMA(2,1,1)(0,0,0)[0] intercept   : AIC=-1121.717, Time=0.07 sec\n",
      " ARIMA(2,1,2)(0,0,0)[0] intercept   : AIC=-1119.655, Time=0.22 sec\n",
      " ARIMA(2,1,3)(0,0,0)[0] intercept   : AIC=-1117.743, Time=0.24 sec\n",
      " ARIMA(3,1,0)(0,0,0)[0] intercept   : AIC=-1121.649, Time=0.06 sec\n",
      " ARIMA(3,1,1)(0,0,0)[0] intercept   : AIC=-1119.649, Time=0.11 sec\n",
      " ARIMA(3,1,2)(0,0,0)[0] intercept   : AIC=-1117.710, Time=0.31 sec\n",
      " ARIMA(4,1,0)(0,0,0)[0] intercept   : AIC=-1119.863, Time=0.12 sec\n",
      " ARIMA(4,1,1)(0,0,0)[0] intercept   : AIC=-1117.849, Time=0.08 sec\n",
      " ARIMA(5,1,0)(0,0,0)[0] intercept   : AIC=-1119.122, Time=0.14 sec\n",
      "\n",
      "Best model:  ARIMA(0,1,0)(0,0,0)[0] intercept\n",
      "Total fit time: 2.976 seconds\n"
     ]
    },
    {
     "data": {
      "text/plain": [
       "ARIMA(order=(0, 1, 0), scoring_args={}, suppress_warnings=True)"
      ]
     },
     "execution_count": 118,
     "metadata": {},
     "output_type": "execute_result"
    }
   ],
   "source": [
    "# auto arima 적용 하기 \n",
    "model_arima= auto_arima(y_train,trace=True,d=1,error_action='ignore', start_p=0,start_q=0,max_p=5,max_q=5,\n",
    "                        suppress_warnings=True,\n",
    "                        stepwise=False,seasonal=False)\n",
    "\n",
    "model_arima.fit(y_train)\n"
   ]
  },
  {
   "cell_type": "code",
   "execution_count": 119,
   "id": "254a6f06",
   "metadata": {},
   "outputs": [
    {
     "name": "stdout",
     "output_type": "stream",
     "text": [
      "                               SARIMAX Results                                \n",
      "==============================================================================\n",
      "Dep. Variable:                      y   No. Observations:                  196\n",
      "Model:               SARIMAX(0, 1, 0)   Log Likelihood                 565.133\n",
      "Date:                Tue, 22 Nov 2022   AIC                          -1126.266\n",
      "Time:                        01:20:12   BIC                          -1119.720\n",
      "Sample:                             0   HQIC                         -1123.615\n",
      "                                - 196                                         \n",
      "Covariance Type:                  opg                                         \n",
      "==============================================================================\n",
      "                 coef    std err          z      P>|z|      [0.025      0.975]\n",
      "------------------------------------------------------------------------------\n",
      "intercept     -0.0015      0.001     -1.516      0.129      -0.003       0.000\n",
      "sigma2         0.0002   1.45e-05     12.252      0.000       0.000       0.000\n",
      "===================================================================================\n",
      "Ljung-Box (L1) (Q):                   0.01   Jarque-Bera (JB):                19.07\n",
      "Prob(Q):                              0.93   Prob(JB):                         0.00\n",
      "Heteroskedasticity (H):               1.11   Skew:                             0.43\n",
      "Prob(H) (two-sided):                  0.68   Kurtosis:                         4.27\n",
      "===================================================================================\n",
      "\n",
      "Warnings:\n",
      "[1] Covariance matrix calculated using the outer product of gradients (complex-step).\n"
     ]
    }
   ],
   "source": [
    " #자동으로 맞춰저있다 \n",
    "print(model_arima.summary())"
   ]
  },
  {
   "cell_type": "markdown",
   "id": "071cceda",
   "metadata": {},
   "source": [
    "AIC 점수는 -1126.266   \n",
    "Prob(Q)는 0.93이므로 귀무가설을 기각 하지 못하므로 residual은 백색소음 시계열을 따른다 \n",
    "Prob(JB): 0.00이니까 귀무가설을 기각 할수있다 잔차가 정규성을 만족한다는 귀무가설이 기각 되었으므로 잔차가 정규성을 따르지 않다라고 결론을 낼수있다 \n"
   ]
  },
  {
   "cell_type": "code",
   "execution_count": 120,
   "id": "dddf281e",
   "metadata": {},
   "outputs": [
    {
     "data": {
      "image/png": "[encoded data removed]",
      "text/plain": [
       "<Figure size 1152x576 with 4 Axes>"
      ]
     },
     "metadata": {
      "needs_background": "light"
     },
     "output_type": "display_data"
    }
   ],
   "source": [
    "model_arima.plot_diagnostics(figsize=(16,8))\n",
    "plt.show()"
   ]
  },
  {
   "cell_type": "markdown",
   "id": "d32cb201",
   "metadata": {},
   "source": [
    "Correlgram을 보면 잔차에 대한 ACF가 범위내에 있음을 확인할수있다 \n"
   ]
  },
  {
   "cell_type": "code",
   "execution_count": 121,
   "id": "3bfce68f",
   "metadata": {},
   "outputs": [],
   "source": [
    "prediction = model_arima.predict(n_periods=len(y_test))\n",
    "\n",
    "\n",
    "prediction = pd.DataFrame(prediction,index=y_test.index,columns=[\"Prediction\"])\n",
    "\n"
   ]
  },
  {
   "cell_type": "code",
   "execution_count": 122,
   "id": "3d4aed7f",
   "metadata": {
    "scrolled": false
   },
   "outputs": [
    {
     "data": {
      "image/png": "[encoded data removed]",
      "text/plain": [
       "<Figure size 864x288 with 1 Axes>"
      ]
     },
     "metadata": {
      "needs_background": "light"
     },
     "output_type": "display_data"
    }
   ],
   "source": [
    "fig,ax = plt.subplots(1,1,figsize=(12,4))\n",
    "plt.plot(y_train,label=\"Train\")\n",
    "plt.plot(y_test,label=\"Test\")\n",
    "plt.plot(prediction,label=\"Prediction\")\n",
    "plt.legend()\n",
    "plt.show()"
   ]
  },
  {
   "cell_type": "code",
   "execution_count": 123,
   "id": "28d9b0ac",
   "metadata": {},
   "outputs": [],
   "source": [
    "def forecast_one_step():\n",
    "    fc,conf_int = model_arima.predict(n_periods=1,return_conf_int=True)\n",
    "    return (\n",
    "        fc.tolist()[0],\n",
    "        np.asarray(conf_int).tolist()[0]\n",
    "    )\n"
   ]
  },
  {
   "cell_type": "markdown",
   "id": "66106254",
   "metadata": {},
   "source": [
    "한스텝식 예측하고 테스트 데이터를 관측할때마다 모형을 업데이트 해주는 refresh전략 \n",
    "위에 n_period=1들어간 이유가 위와 같다 \n",
    "\n",
    "-> 예측치들은 결국 가장 마지막 관측치가 되기 때문이다 \n",
    "결과적으로 데이터에서 어떠한 구조를 보기 어렵기 때문에 가장 마지막 관측치가 가장 좋은 예측치다라고 말하는거이다 \n",
    "\n"
   ]
  },
  {
   "cell_type": "code",
   "execution_count": null,
   "id": "629bb277",
   "metadata": {},
   "outputs": [],
   "source": []
  },
  {
   "cell_type": "code",
   "execution_count": 124,
   "id": "0d884989",
   "metadata": {},
   "outputs": [],
   "source": [
    "forecasts=[]\n",
    "y_pred=[]\n",
    "pred_upper=[]\n",
    "pred_lower=[]\n",
    "\n",
    "for new_ob in y_test:\n",
    "    fc,conf =forecast_one_step()\n",
    "    y_pred.append(fc)\n",
    "    pred_upper.append(conf[0])\n",
    "    pred_lower.append(conf[1])\n",
    "    \n",
    "    model_arima.update(new_ob)\n",
    "    \n",
    "    "
   ]
  },
  {
   "cell_type": "code",
   "execution_count": 125,
   "id": "ff0f4323",
   "metadata": {
    "scrolled": true
   },
   "outputs": [
    {
     "data": {
      "text/html": [
       "<div>\n",
       "<style scoped>\n",
       "    .dataframe tbody tr th:only-of-type {\n",
       "        vertical-align: middle;\n",
       "    }\n",
       "\n",
       "    .dataframe tbody tr th {\n",
       "        vertical-align: top;\n",
       "    }\n",
       "\n",
       "    .dataframe thead th {\n",
       "        text-align: right;\n",
       "    }\n",
       "</style>\n",
       "<table border=\"1\" class=\"dataframe\">\n",
       "  <thead>\n",
       "    <tr style=\"text-align: right;\">\n",
       "      <th></th>\n",
       "      <th>test</th>\n",
       "      <th>pred</th>\n",
       "    </tr>\n",
       "  </thead>\n",
       "  <tbody>\n",
       "    <tr>\n",
       "      <th>196</th>\n",
       "      <td>10.925938</td>\n",
       "      <td>10.931616</td>\n",
       "    </tr>\n",
       "    <tr>\n",
       "      <th>197</th>\n",
       "      <td>10.969921</td>\n",
       "      <td>10.924413</td>\n",
       "    </tr>\n",
       "    <tr>\n",
       "      <th>198</th>\n",
       "      <td>10.947292</td>\n",
       "      <td>10.968627</td>\n",
       "    </tr>\n",
       "    <tr>\n",
       "      <th>199</th>\n",
       "      <td>10.933107</td>\n",
       "      <td>10.945895</td>\n",
       "    </tr>\n",
       "    <tr>\n",
       "      <th>200</th>\n",
       "      <td>10.936672</td>\n",
       "      <td>10.931639</td>\n",
       "    </tr>\n",
       "    <tr>\n",
       "      <th>201</th>\n",
       "      <td>10.940224</td>\n",
       "      <td>10.935231</td>\n",
       "    </tr>\n",
       "    <tr>\n",
       "      <th>202</th>\n",
       "      <td>10.929529</td>\n",
       "      <td>10.938808</td>\n",
       "    </tr>\n",
       "    <tr>\n",
       "      <th>203</th>\n",
       "      <td>10.920528</td>\n",
       "      <td>10.928067</td>\n",
       "    </tr>\n",
       "    <tr>\n",
       "      <th>204</th>\n",
       "      <td>10.904119</td>\n",
       "      <td>10.919029</td>\n",
       "    </tr>\n",
       "    <tr>\n",
       "      <th>205</th>\n",
       "      <td>10.905956</td>\n",
       "      <td>10.902548</td>\n",
       "    </tr>\n",
       "    <tr>\n",
       "      <th>206</th>\n",
       "      <td>10.894886</td>\n",
       "      <td>10.904400</td>\n",
       "    </tr>\n",
       "    <tr>\n",
       "      <th>207</th>\n",
       "      <td>10.900436</td>\n",
       "      <td>10.893284</td>\n",
       "    </tr>\n",
       "    <tr>\n",
       "      <th>208</th>\n",
       "      <td>10.876159</td>\n",
       "      <td>10.898869</td>\n",
       "    </tr>\n",
       "    <tr>\n",
       "      <th>209</th>\n",
       "      <td>10.870471</td>\n",
       "      <td>10.874488</td>\n",
       "    </tr>\n",
       "    <tr>\n",
       "      <th>210</th>\n",
       "      <td>10.879932</td>\n",
       "      <td>10.868778</td>\n",
       "    </tr>\n",
       "    <tr>\n",
       "      <th>211</th>\n",
       "      <td>10.918718</td>\n",
       "      <td>10.878292</td>\n",
       "    </tr>\n",
       "    <tr>\n",
       "      <th>212</th>\n",
       "      <td>10.933107</td>\n",
       "      <td>10.917267</td>\n",
       "    </tr>\n",
       "    <tr>\n",
       "      <th>213</th>\n",
       "      <td>10.938450</td>\n",
       "      <td>10.931730</td>\n",
       "    </tr>\n",
       "    <tr>\n",
       "      <th>214</th>\n",
       "      <td>10.936672</td>\n",
       "      <td>10.937105</td>\n",
       "    </tr>\n",
       "    <tr>\n",
       "      <th>215</th>\n",
       "      <td>10.922335</td>\n",
       "      <td>10.935326</td>\n",
       "    </tr>\n",
       "    <tr>\n",
       "      <th>216</th>\n",
       "      <td>10.929529</td>\n",
       "      <td>10.920926</td>\n",
       "    </tr>\n",
       "    <tr>\n",
       "      <th>217</th>\n",
       "      <td>10.918718</td>\n",
       "      <td>10.928161</td>\n",
       "    </tr>\n",
       "    <tr>\n",
       "      <th>218</th>\n",
       "      <td>10.938450</td>\n",
       "      <td>10.917307</td>\n",
       "    </tr>\n",
       "    <tr>\n",
       "      <th>219</th>\n",
       "      <td>10.943764</td>\n",
       "      <td>10.937135</td>\n",
       "    </tr>\n",
       "    <tr>\n",
       "      <th>220</th>\n",
       "      <td>10.941996</td>\n",
       "      <td>10.942480</td>\n",
       "    </tr>\n",
       "    <tr>\n",
       "      <th>221</th>\n",
       "      <td>10.929529</td>\n",
       "      <td>10.940710</td>\n",
       "    </tr>\n",
       "    <tr>\n",
       "      <th>222</th>\n",
       "      <td>10.924138</td>\n",
       "      <td>10.928190</td>\n",
       "    </tr>\n",
       "    <tr>\n",
       "      <th>223</th>\n",
       "      <td>10.931320</td>\n",
       "      <td>10.922790</td>\n",
       "    </tr>\n",
       "    <tr>\n",
       "      <th>224</th>\n",
       "      <td>10.959540</td>\n",
       "      <td>10.930003</td>\n",
       "    </tr>\n",
       "    <tr>\n",
       "      <th>225</th>\n",
       "      <td>10.963012</td>\n",
       "      <td>10.958355</td>\n",
       "    </tr>\n",
       "    <tr>\n",
       "      <th>226</th>\n",
       "      <td>10.992050</td>\n",
       "      <td>10.961848</td>\n",
       "    </tr>\n",
       "    <tr>\n",
       "      <th>227</th>\n",
       "      <td>10.993732</td>\n",
       "      <td>10.991019</td>\n",
       "    </tr>\n",
       "    <tr>\n",
       "      <th>228</th>\n",
       "      <td>10.956056</td>\n",
       "      <td>10.992713</td>\n",
       "    </tr>\n",
       "    <tr>\n",
       "      <th>229</th>\n",
       "      <td>10.992050</td>\n",
       "      <td>10.954876</td>\n",
       "    </tr>\n",
       "    <tr>\n",
       "      <th>230</th>\n",
       "      <td>11.002100</td>\n",
       "      <td>10.991032</td>\n",
       "    </tr>\n",
       "    <tr>\n",
       "      <th>231</th>\n",
       "      <td>10.995411</td>\n",
       "      <td>11.001132</td>\n",
       "    </tr>\n",
       "    <tr>\n",
       "      <th>232</th>\n",
       "      <td>10.988677</td>\n",
       "      <td>10.994417</td>\n",
       "    </tr>\n",
       "    <tr>\n",
       "      <th>233</th>\n",
       "      <td>10.992050</td>\n",
       "      <td>10.987658</td>\n",
       "    </tr>\n",
       "    <tr>\n",
       "      <th>234</th>\n",
       "      <td>11.005428</td>\n",
       "      <td>10.991049</td>\n",
       "    </tr>\n",
       "    <tr>\n",
       "      <th>235</th>\n",
       "      <td>11.031659</td>\n",
       "      <td>11.004492</td>\n",
       "    </tr>\n",
       "    <tr>\n",
       "      <th>236</th>\n",
       "      <td>11.034890</td>\n",
       "      <td>11.030836</td>\n",
       "    </tr>\n",
       "    <tr>\n",
       "      <th>237</th>\n",
       "      <td>11.008744</td>\n",
       "      <td>11.034084</td>\n",
       "    </tr>\n",
       "    <tr>\n",
       "      <th>238</th>\n",
       "      <td>11.049301</td>\n",
       "      <td>11.007838</td>\n",
       "    </tr>\n",
       "    <tr>\n",
       "      <th>239</th>\n",
       "      <td>11.033275</td>\n",
       "      <td>11.048563</td>\n",
       "    </tr>\n",
       "    <tr>\n",
       "      <th>240</th>\n",
       "      <td>11.041321</td>\n",
       "      <td>11.032474</td>\n",
       "    </tr>\n",
       "    <tr>\n",
       "      <th>241</th>\n",
       "      <td>11.046117</td>\n",
       "      <td>11.040555</td>\n",
       "    </tr>\n",
       "    <tr>\n",
       "      <th>242</th>\n",
       "      <td>11.025165</td>\n",
       "      <td>11.045374</td>\n",
       "    </tr>\n",
       "    <tr>\n",
       "      <th>243</th>\n",
       "      <td>11.031659</td>\n",
       "      <td>11.024339</td>\n",
       "    </tr>\n",
       "    <tr>\n",
       "      <th>244</th>\n",
       "      <td>11.025165</td>\n",
       "      <td>11.030862</td>\n",
       "    </tr>\n",
       "  </tbody>\n",
       "</table>\n",
       "</div>"
      ],
      "text/plain": [
       "          test       pred\n",
       "196  10.925938  10.931616\n",
       "197  10.969921  10.924413\n",
       "198  10.947292  10.968627\n",
       "199  10.933107  10.945895\n",
       "200  10.936672  10.931639\n",
       "201  10.940224  10.935231\n",
       "202  10.929529  10.938808\n",
       "203  10.920528  10.928067\n",
       "204  10.904119  10.919029\n",
       "205  10.905956  10.902548\n",
       "206  10.894886  10.904400\n",
       "207  10.900436  10.893284\n",
       "208  10.876159  10.898869\n",
       "209  10.870471  10.874488\n",
       "210  10.879932  10.868778\n",
       "211  10.918718  10.878292\n",
       "212  10.933107  10.917267\n",
       "213  10.938450  10.931730\n",
       "214  10.936672  10.937105\n",
       "215  10.922335  10.935326\n",
       "216  10.929529  10.920926\n",
       "217  10.918718  10.928161\n",
       "218  10.938450  10.917307\n",
       "219  10.943764  10.937135\n",
       "220  10.941996  10.942480\n",
       "221  10.929529  10.940710\n",
       "222  10.924138  10.928190\n",
       "223  10.931320  10.922790\n",
       "224  10.959540  10.930003\n",
       "225  10.963012  10.958355\n",
       "226  10.992050  10.961848\n",
       "227  10.993732  10.991019\n",
       "228  10.956056  10.992713\n",
       "229  10.992050  10.954876\n",
       "230  11.002100  10.991032\n",
       "231  10.995411  11.001132\n",
       "232  10.988677  10.994417\n",
       "233  10.992050  10.987658\n",
       "234  11.005428  10.991049\n",
       "235  11.031659  11.004492\n",
       "236  11.034890  11.030836\n",
       "237  11.008744  11.034084\n",
       "238  11.049301  11.007838\n",
       "239  11.033275  11.048563\n",
       "240  11.041321  11.032474\n",
       "241  11.046117  11.040555\n",
       "242  11.025165  11.045374\n",
       "243  11.031659  11.024339\n",
       "244  11.025165  11.030862"
      ]
     },
     "execution_count": 125,
     "metadata": {},
     "output_type": "execute_result"
    }
   ],
   "source": [
    "pd.DataFrame({\"test\":y_test,\"pred\":y_pred})"
   ]
  },
  {
   "cell_type": "code",
   "execution_count": 126,
   "id": "32e23079",
   "metadata": {},
   "outputs": [
    {
     "name": "stdout",
     "output_type": "stream",
     "text": [
      "                               SARIMAX Results                                \n",
      "==============================================================================\n",
      "Dep. Variable:                      y   No. Observations:                  245\n",
      "Model:               SARIMAX(0, 1, 0)   Log Likelihood                 688.831\n",
      "Date:                Tue, 22 Nov 2022   AIC                          -1373.662\n",
      "Time:                        01:20:15   BIC                          -1366.668\n",
      "Sample:                             0   HQIC                         -1370.845\n",
      "                                - 245                                         \n",
      "Covariance Type:                  opg                                         \n",
      "==============================================================================\n",
      "                 coef    std err          z      P>|z|      [0.025      0.975]\n",
      "------------------------------------------------------------------------------\n",
      "intercept     -0.0008      0.001     -0.849      0.396      -0.003       0.001\n",
      "sigma2         0.0002   1.57e-05     13.132      0.000       0.000       0.000\n",
      "===================================================================================\n",
      "Ljung-Box (L1) (Q):                   0.37   Jarque-Bera (JB):                23.17\n",
      "Prob(Q):                              0.54   Prob(JB):                         0.00\n",
      "Heteroskedasticity (H):               1.39   Skew:                             0.52\n",
      "Prob(H) (two-sided):                  0.14   Kurtosis:                         4.09\n",
      "===================================================================================\n",
      "\n",
      "Warnings:\n",
      "[1] Covariance matrix calculated using the outer product of gradients (complex-step).\n"
     ]
    }
   ],
   "source": [
    "print(model_arima.summary())"
   ]
  },
  {
   "cell_type": "code",
   "execution_count": 127,
   "id": "80d93a71",
   "metadata": {},
   "outputs": [
    {
     "data": {
      "application/vnd.plotly.v1+json": {
       "config": {
        "plotlyServerURL": "https://plot.ly"
       },
       "data": [
        {
         "line": {
          "color": "royalblue"
         },
         "mode": "lines",
         "name": "Train",
         "type": "scatter",
         "x": [
          0,
          1,
          2,
          3,
          4,
          5,
          6,
          7,
          8,
          9,
          10,
          11,
          12,
          13,
          14,
          15,
          16,
          17,
          18,
          19,
          20,
          21,
          22,
          23,
          24,
          25,
          26,
          27,
          28,
          29,
          30,
          31,
          32,
          33,
          34,
          35,
          36,
          37,
          38,
          39,
          40,
          41,
          42,
          43,
          44,
          45,
          46,
          47,
          48,
          49,
          50,
          51,
          52,
          53,
          54,
          55,
          56,
          57,
          58,
          59,
          60,
          61,
          62,
          63,
          64,
          65,
          66,
          67,
          68,
          69,
          70,
          71,
          72,
          73,
          74,
          75,
          76,
          77,
          78,
          79,
          80,
          81,
          82,
          83,
          84,
          85,
          86,
          87,
          88,
          89,
          90,
          91,
          92,
          93,
          94,
          95,
          96,
          97,
          98,
          99,
          100,
          101,
          102,
          103,
          104,
          105,
          106,
          107,
          108,
          109,
          110,
          111,
          112,
          113,
          114,
          115,
          116,
          117,
          118,
          119,
          120,
          121,
          122,
          123,
          124,
          125,
          126,
          127,
          128,
          129,
          130,
          131,
          132,
          133,
          134,
          135,
          136,
          137,
          138,
          139,
          140,
          141,
          142,
          143,
          144,
          145,
          146,
          147,
          148,
          149,
          150,
          151,
          152,
          153,
          154,
          155,
          156,
          157,
          158,
          159,
          160,
          161,
          162,
          163,
          164,
          165,
          166,
          167,
          168,
          169,
          170,
          171,
          172,
          173,
          174,
          175,
          176,
          177,
          178,
          179,
          180,
          181,
          182,
          183,
          184,
          185,
          186,
          187,
          188,
          189,
          190,
          191,
          192,
          193,
          194,
          195
         ],
         "y": [
          11.22390916950531,
          11.229235413787984,
          11.222573163962569,
          11.207758078177427,
          11.188579408146856,
          11.188579408146856,
          11.174651606402387,
          11.217211220821182,
          11.235853571630463,
          11.233211562167625,
          11.242428217272549,
          11.25674205957782,
          11.25674205957782,
          11.267024926533402,
          11.250261155493735,
          11.248959919135764,
          11.251560700835821,
          11.25932270617131,
          11.261896710166482,
          11.26446410567173,
          11.25285855955142,
          11.265745335827777,
          11.282253647235228,
          11.288531131754366,
          11.296012463406655,
          11.292278793854607,
          11.293524899934853,
          11.27466827584597,
          11.268302881978894,
          11.273398434405495,
          11.25674205957782,
          11.250261155493735,
          11.268302881978894,
          11.26446410567173,
          11.275936506833965,
          11.275936506833965,
          11.26318123185884,
          11.255449234575513,
          11.258033215341438,
          11.251560700835821,
          11.242428217272549,
          11.245046019814627,
          11.233211562167625,
          11.226575837752225,
          11.211820372186306,
          11.211820372186306,
          11.174651606402387,
          11.202315887874743,
          11.202315887874743,
          11.211820372186306,
          11.198214720130528,
          11.198214720130528,
          11.198214720130528,
          11.230562553996048,
          11.22390916950531,
          11.207758078177427,
          11.207758078177427,
          11.222573163962569,
          11.225243392518447,
          11.215866230705851,
          11.215866230705851,
          11.215866230705851,
          11.215866230705851,
          11.177452728682098,
          11.183031543709138,
          11.183031543709138,
          11.180246026587712,
          11.19684391799675,
          11.19684391799675,
          11.157678073022682,
          11.149082031552883,
          11.149082031552883,
          11.156250521031495,
          11.159103590013903,
          11.159103590013903,
          11.161948542146133,
          11.161948542146133,
          11.166200851884664,
          11.154820928221902,
          11.160527077798756,
          11.16336798880036,
          11.153389288750464,
          11.153389288750464,
          11.151955596748616,
          11.159103590013903,
          11.154820928221902,
          11.150519846322512,
          11.143310009755762,
          11.146200185177994,
          11.144756141605761,
          11.134589024250317,
          11.127262984158243,
          11.124317473928487,
          11.125791313546788,
          11.112447898373103,
          11.13750447821044,
          11.119882876860622,
          11.106459856528481,
          11.107960231903714,
          11.116915515632819,
          11.118400296900399,
          11.122841458900366,
          11.112447898373103,
          11.101945176173954,
          11.098924025839777,
          11.082142548877775,
          11.079060882340366,
          11.118400296900399,
          11.116915515632819,
          11.119882876860622,
          11.125791313546788,
          11.104957226643945,
          11.092854204472703,
          11.092854204472703,
          11.080602902692181,
          11.104957226643945,
          11.101945176173954,
          11.121363262031055,
          11.128732492137603,
          11.119882876860622,
          11.127262984158243,
          11.125791313546788,
          11.104957226643945,
          11.103452335464524,
          11.095893720490599,
          11.104957226643945,
          11.122841458900366,
          11.118400296900399,
          11.107960231903714,
          11.109458359524737,
          11.089805421623343,
          11.086747315264523,
          11.085214747914744,
          11.06350846933288,
          11.03650126792157,
          11.033275458672687,
          11.01369897704759,
          11.016988453697989,
          10.998760939938723,
          10.980195005816189,
          10.976782033219948,
          10.961277846683982,
          10.957799582307658,
          10.975071168816319,
          10.981897133886719,
          10.992049505350737,
          10.968198289528557,
          10.950806546816688,
          10.936672035881783,
          10.952559395644101,
          10.95430917736789,
          10.940224437486151,
          10.97164063371953,
          10.980195005816189,
          10.981897133886719,
          10.969920942840002,
          10.968198289528557,
          10.959540226785442,
          11.002099841204238,
          11.033275458672687,
          11.016988453697989,
          11.010398644018933,
          11.031658643445782,
          11.023535121924303,
          11.020267145159687,
          11.030039209893479,
          11.031658643445782,
          11.033275458672687,
          11.025165114135234,
          11.023535121924303,
          11.030039209893479,
          11.023535121924303,
          11.02679245379461,
          11.02679245379461,
          11.015345067954259,
          11.002099841204238,
          10.98698620339419,
          11.00043178410354,
          11.005427631296913,
          11.018629143155449,
          11.008744383922906,
          11.02679245379461,
          11.016988453697989,
          11.002099841204238,
          10.98698620339419,
          10.985292722887856,
          10.997087299380693,
          11.002099841204238,
          10.978489975565104,
          10.981897133886719,
          10.997087299380693,
          10.975071168816319,
          10.959540226785442,
          10.952559395644101,
          10.952559395644101,
          10.933106969717286
         ]
        },
        {
         "line": {
          "color": "rgba(0,0,30,0.5)"
         },
         "mode": "lines",
         "name": "Test",
         "type": "scatter",
         "x": [
          196,
          197,
          198,
          199,
          200,
          201,
          202,
          203,
          204,
          205,
          206,
          207,
          208,
          209,
          210,
          211,
          212,
          213,
          214,
          215,
          216,
          217,
          218,
          219,
          220,
          221,
          222,
          223,
          224,
          225,
          226,
          227,
          228,
          229,
          230,
          231,
          232,
          233,
          234,
          235,
          236,
          237,
          238,
          239,
          240,
          241,
          242,
          243,
          244
         ],
         "y": [
          10.925938480238674,
          10.969920942840002,
          10.947291604709243,
          10.933106969717286,
          10.936672035881783,
          10.940224437486151,
          10.929529148369403,
          10.920528187510426,
          10.904119432844034,
          10.905955980651335,
          10.89488575689709,
          10.900436187427738,
          10.876158617846391,
          10.870471398725801,
          10.87993220723003,
          10.918718232265187,
          10.933106969717286,
          10.938449814127782,
          10.936672035881783,
          10.922334872735375,
          10.929529148369403,
          10.918718232265187,
          10.938449814127782,
          10.943764264191275,
          10.941995917134532,
          10.929529148369403,
          10.924138299734526,
          10.93131965914319,
          10.959540226785442,
          10.96301245249619,
          10.992049505350737,
          10.993731591533722,
          10.95605590270283,
          10.992049505350737,
          11.002099841204238,
          10.995410853053441,
          10.988676820872097,
          10.992049505350737,
          11.005427631296913,
          11.031658643445782,
          11.03488966402723,
          11.008744383922906,
          11.049301442688533,
          11.033275458672687,
          11.041320554357519,
          11.046116726621012,
          11.025165114135234,
          11.031658643445782,
          11.025165114135234
         ]
        },
        {
         "line": {
          "color": "red",
          "dash": "dot"
         },
         "mode": "lines",
         "name": "Prediction",
         "type": "scatter",
         "x": [
          196,
          197,
          198,
          199,
          200,
          201,
          202,
          203,
          204,
          205,
          206,
          207,
          208,
          209,
          210,
          211,
          212,
          213,
          214,
          215,
          216,
          217,
          218,
          219,
          220,
          221,
          222,
          223,
          224,
          225,
          226,
          227,
          228,
          229,
          230,
          231,
          232,
          233,
          234,
          235,
          236,
          237,
          238,
          239,
          240,
          241,
          242,
          243,
          244
         ],
         "y": [
          10.931615543011086,
          10.924413222689537,
          10.968626661639432,
          10.945895273729487,
          10.931639166439266,
          10.935230850165981,
          10.938808070932982,
          10.928066821289447,
          10.919028703446951,
          10.902548322118134,
          10.904399989329592,
          10.893283556517636,
          10.898868516358037,
          10.874488014155123,
          10.868778095090548,
          10.878291736988299,
          10.91726682972687,
          10.931730418476553,
          10.937104627419822,
          10.935325883646522,
          10.920925584233117,
          10.92816127274788,
          10.917306824612218,
          10.937135367211328,
          10.942480061279326,
          10.940710040815368,
          10.928190152708611,
          10.922789673882475,
          10.93000259386379,
          10.958355008270908,
          10.961847905963943,
          10.991018575691298,
          10.992712592603676,
          10.954876107706221,
          10.991032015520396,
          11.001132404716001,
          10.994417086308038,
          10.98765789008688,
          10.991049393470895,
          11.004492390014603,
          11.030835554919129,
          11.034083730272496,
          11.007838198815604,
          11.048562796782798,
          11.03247440710403,
          11.040554757189142,
          11.045373998656919,
          11.024338792472056,
          11.030862488979192
         ]
        },
        {
         "fill": "toself",
         "fillcolor": "rgba(0,0,30,0.1)",
         "hoverinfo": "skip",
         "line": {
          "color": "rgba(0,0,0,0)"
         },
         "showlegend": false,
         "type": "scatter",
         "x": [
          196,
          197,
          198,
          199,
          200,
          201,
          202,
          203,
          204,
          205,
          206,
          207,
          208,
          209,
          210,
          211,
          212,
          213,
          214,
          215,
          216,
          217,
          218,
          219,
          220,
          221,
          222,
          223,
          224,
          225,
          226,
          227,
          228,
          229,
          230,
          231,
          232,
          233,
          234,
          235,
          236,
          237,
          238,
          239,
          240,
          241,
          242,
          243,
          244,
          244,
          243,
          242,
          241,
          240,
          239,
          238,
          237,
          236,
          235,
          234,
          233,
          232,
          231,
          230,
          229,
          228,
          227,
          226,
          225,
          224,
          223,
          222,
          221,
          220,
          219,
          218,
          217,
          216,
          215,
          214,
          213,
          212,
          211,
          210,
          209,
          208,
          207,
          206,
          205,
          204,
          203,
          202,
          201,
          200,
          199,
          198,
          197,
          196
         ],
         "y": [
          10.905471898246999,
          10.898333584595097,
          10.941852679027503,
          10.919018684815013,
          10.90477125247949,
          10.908427902113678,
          10.912063059985694,
          10.901357580563666,
          10.892365277344116,
          10.875862209028883,
          10.877784881669285,
          10.866701516813157,
          10.872333030554259,
          10.847832163310818,
          10.842187398544134,
          10.851714457091406,
          10.890206401088234,
          10.904641068865695,
          10.910073230688887,
          10.908347380131088,
          10.893958815283046,
          10.901238307450974,
          10.89041679221805,
          10.910161436695846,
          10.915553583400712,
          10.913844684425989,
          10.901340689899898,
          10.895995058989936,
          10.903249964079189,
          10.931384806184347,
          10.934930848408522,
          10.963875581218286,
          10.965627131971871,
          10.92743637911411,
          10.963234235464046,
          10.973354519531629,
          10.966693311595105,
          10.959984432593753,
          10.963429624559824,
          10.976867752672367,
          11.00305564499708,
          11.006357945519769,
          10.979978964872604,
          11.020274956000296,
          11.004172618060908,
          11.012296973814976,
          11.017166240583727,
          10.996074946271722,
          11.002641924413684,
          11.0590830535447,
          11.05260263867239,
          11.07358175673011,
          11.068812540563307,
          11.06077619614715,
          11.0768506375653,
          11.035697432758603,
          11.061809515025223,
          11.058615464841179,
          11.032117027356838,
          11.018669162381967,
          11.015331347580005,
          11.022140861020972,
          11.028910289900374,
          11.018829795576746,
          10.982315836298334,
          11.01979805323548,
          11.01816157016431,
          10.988764963519364,
          10.98532521035747,
          10.956755223648392,
          10.949584288775014,
          10.955039615517324,
          10.967575397204747,
          10.96940653915794,
          10.964109297726809,
          10.944196857006387,
          10.955084238044787,
          10.947892353183189,
          10.962304387161955,
          10.964136024150758,
          10.95881976808741,
          10.944327258365506,
          10.904869016885192,
          10.895368791636962,
          10.901143864999428,
          10.925404002161816,
          10.919865596222115,
          10.9310150969899,
          10.929234435207386,
          10.945692129549787,
          10.954776062015227,
          10.96555308188027,
          10.962033798218284,
          10.958507080399043,
          10.972771862643961,
          10.99540064425136,
          10.950492860783978,
          10.957759187775173
         ]
        }
       ],
       "layout": {
        "height": 400,
        "template": {
         "data": {
          "bar": [
           {
            "error_x": {
             "color": "#2a3f5f"
            },
            "error_y": {
             "color": "#2a3f5f"
            },
            "marker": {
             "line": {
              "color": "#E5ECF6",
              "width": 0.5
             },
             "pattern": {
              "fillmode": "overlay",
              "size": 10,
              "solidity": 0.2
             }
            },
            "type": "bar"
           }
          ],
          "barpolar": [
           {
            "marker": {
             "line": {
              "color": "#E5ECF6",
              "width": 0.5
             },
             "pattern": {
              "fillmode": "overlay",
              "size": 10,
              "solidity": 0.2
             }
            },
            "type": "barpolar"
           }
          ],
          "carpet": [
           {
            "aaxis": {
             "endlinecolor": "#2a3f5f",
             "gridcolor": "white",
             "linecolor": "white",
             "minorgridcolor": "white",
             "startlinecolor": "#2a3f5f"
            },
            "baxis": {
             "endlinecolor": "#2a3f5f",
             "gridcolor": "white",
             "linecolor": "white",
             "minorgridcolor": "white",
             "startlinecolor": "#2a3f5f"
            },
            "type": "carpet"
           }
          ],
          "choropleth": [
           {
            "colorbar": {
             "outlinewidth": 0,
             "ticks": ""
            },
            "type": "choropleth"
           }
          ],
          "contour": [
           {
            "colorbar": {
             "outlinewidth": 0,
             "ticks": ""
            },
            "colorscale": [
             [
              0,
              "#0d0887"
             ],
             [
              0.1111111111111111,
              "#46039f"
             ],
             [
              0.2222222222222222,
              "#7201a8"
             ],
             [
              0.3333333333333333,
              "#9c179e"
             ],
             [
              0.4444444444444444,
              "#bd3786"
             ],
             [
              0.5555555555555556,
              "#d8576b"
             ],
             [
              0.6666666666666666,
              "#ed7953"
             ],
             [
              0.7777777777777778,
              "#fb9f3a"
             ],
             [
              0.8888888888888888,
              "#fdca26"
             ],
             [
              1,
              "#f0f921"
             ]
            ],
            "type": "contour"
           }
          ],
          "contourcarpet": [
           {
            "colorbar": {
             "outlinewidth": 0,
             "ticks": ""
            },
            "type": "contourcarpet"
           }
          ],
          "heatmap": [
           {
            "colorbar": {
             "outlinewidth": 0,
             "ticks": ""
            },
            "colorscale": [
             [
              0,
              "#0d0887"
             ],
             [
              0.1111111111111111,
              "#46039f"
             ],
             [
              0.2222222222222222,
              "#7201a8"
             ],
             [
              0.3333333333333333,
              "#9c179e"
             ],
             [
              0.4444444444444444,
              "#bd3786"
             ],
             [
              0.5555555555555556,
              "#d8576b"
             ],
             [
              0.6666666666666666,
              "#ed7953"
             ],
             [
              0.7777777777777778,
              "#fb9f3a"
             ],
             [
              0.8888888888888888,
              "#fdca26"
             ],
             [
              1,
              "#f0f921"
             ]
            ],
            "type": "heatmap"
           }
          ],
          "heatmapgl": [
           {
            "colorbar": {
             "outlinewidth": 0,
             "ticks": ""
            },
            "colorscale": [
             [
              0,
              "#0d0887"
             ],
             [
              0.1111111111111111,
              "#46039f"
             ],
             [
              0.2222222222222222,
              "#7201a8"
             ],
             [
              0.3333333333333333,
              "#9c179e"
             ],
             [
              0.4444444444444444,
              "#bd3786"
             ],
             [
              0.5555555555555556,
              "#d8576b"
             ],
             [
              0.6666666666666666,
              "#ed7953"
             ],
             [
              0.7777777777777778,
              "#fb9f3a"
             ],
             [
              0.8888888888888888,
              "#fdca26"
             ],
             [
              1,
              "#f0f921"
             ]
            ],
            "type": "heatmapgl"
           }
          ],
          "histogram": [
           {
            "marker": {
             "pattern": {
              "fillmode": "overlay",
              "size": 10,
              "solidity": 0.2
             }
            },
            "type": "histogram"
           }
          ],
          "histogram2d": [
           {
            "colorbar": {
             "outlinewidth": 0,
             "ticks": ""
            },
            "colorscale": [
             [
              0,
              "#0d0887"
             ],
             [
              0.1111111111111111,
              "#46039f"
             ],
             [
              0.2222222222222222,
              "#7201a8"
             ],
             [
              0.3333333333333333,
              "#9c179e"
             ],
             [
              0.4444444444444444,
              "#bd3786"
             ],
             [
              0.5555555555555556,
              "#d8576b"
             ],
             [
              0.6666666666666666,
              "#ed7953"
             ],
             [
              0.7777777777777778,
              "#fb9f3a"
             ],
             [
              0.8888888888888888,
              "#fdca26"
             ],
             [
              1,
              "#f0f921"
             ]
            ],
            "type": "histogram2d"
           }
          ],
          "histogram2dcontour": [
           {
            "colorbar": {
             "outlinewidth": 0,
             "ticks": ""
            },
            "colorscale": [
             [
              0,
              "#0d0887"
             ],
             [
              0.1111111111111111,
              "#46039f"
             ],
             [
              0.2222222222222222,
              "#7201a8"
             ],
             [
              0.3333333333333333,
              "#9c179e"
             ],
             [
              0.4444444444444444,
              "#bd3786"
             ],
             [
              0.5555555555555556,
              "#d8576b"
             ],
             [
              0.6666666666666666,
              "#ed7953"
             ],
             [
              0.7777777777777778,
              "#fb9f3a"
             ],
             [
              0.8888888888888888,
              "#fdca26"
             ],
             [
              1,
              "#f0f921"
             ]
            ],
            "type": "histogram2dcontour"
           }
          ],
          "mesh3d": [
           {
            "colorbar": {
             "outlinewidth": 0,
             "ticks": ""
            },
            "type": "mesh3d"
           }
          ],
          "parcoords": [
           {
            "line": {
             "colorbar": {
              "outlinewidth": 0,
              "ticks": ""
             }
            },
            "type": "parcoords"
           }
          ],
          "pie": [
           {
            "automargin": true,
            "type": "pie"
           }
          ],
          "scatter": [
           {
            "fillpattern": {
             "fillmode": "overlay",
             "size": 10,
             "solidity": 0.2
            },
            "type": "scatter"
           }
          ],
          "scatter3d": [
           {
            "line": {
             "colorbar": {
              "outlinewidth": 0,
              "ticks": ""
             }
            },
            "marker": {
             "colorbar": {
              "outlinewidth": 0,
              "ticks": ""
             }
            },
            "type": "scatter3d"
           }
          ],
          "scattercarpet": [
           {
            "marker": {
             "colorbar": {
              "outlinewidth": 0,
              "ticks": ""
             }
            },
            "type": "scattercarpet"
           }
          ],
          "scattergeo": [
           {
            "marker": {
             "colorbar": {
              "outlinewidth": 0,
              "ticks": ""
             }
            },
            "type": "scattergeo"
           }
          ],
          "scattergl": [
           {
            "marker": {
             "colorbar": {
              "outlinewidth": 0,
              "ticks": ""
             }
            },
            "type": "scattergl"
           }
          ],
          "scattermapbox": [
           {
            "marker": {
             "colorbar": {
              "outlinewidth": 0,
              "ticks": ""
             }
            },
            "type": "scattermapbox"
           }
          ],
          "scatterpolar": [
           {
            "marker": {
             "colorbar": {
              "outlinewidth": 0,
              "ticks": ""
             }
            },
            "type": "scatterpolar"
           }
          ],
          "scatterpolargl": [
           {
            "marker": {
             "colorbar": {
              "outlinewidth": 0,
              "ticks": ""
             }
            },
            "type": "scatterpolargl"
           }
          ],
          "scatterternary": [
           {
            "marker": {
             "colorbar": {
              "outlinewidth": 0,
              "ticks": ""
             }
            },
            "type": "scatterternary"
           }
          ],
          "surface": [
           {
            "colorbar": {
             "outlinewidth": 0,
             "ticks": ""
            },
            "colorscale": [
             [
              0,
              "#0d0887"
             ],
             [
              0.1111111111111111,
              "#46039f"
             ],
             [
              0.2222222222222222,
              "#7201a8"
             ],
             [
              0.3333333333333333,
              "#9c179e"
             ],
             [
              0.4444444444444444,
              "#bd3786"
             ],
             [
              0.5555555555555556,
              "#d8576b"
             ],
             [
              0.6666666666666666,
              "#ed7953"
             ],
             [
              0.7777777777777778,
              "#fb9f3a"
             ],
             [
              0.8888888888888888,
              "#fdca26"
             ],
             [
              1,
              "#f0f921"
             ]
            ],
            "type": "surface"
           }
          ],
          "table": [
           {
            "cells": {
             "fill": {
              "color": "#EBF0F8"
             },
             "line": {
              "color": "white"
             }
            },
            "header": {
             "fill": {
              "color": "#C8D4E3"
             },
             "line": {
              "color": "white"
             }
            },
            "type": "table"
           }
          ]
         },
         "layout": {
          "annotationdefaults": {
           "arrowcolor": "#2a3f5f",
           "arrowhead": 0,
           "arrowwidth": 1
          },
          "autotypenumbers": "strict",
          "coloraxis": {
           "colorbar": {
            "outlinewidth": 0,
            "ticks": ""
           }
          },
          "colorscale": {
           "diverging": [
            [
             0,
             "#8e0152"
            ],
            [
             0.1,
             "#c51b7d"
            ],
            [
             0.2,
             "#de77ae"
            ],
            [
             0.3,
             "#f1b6da"
            ],
            [
             0.4,
             "#fde0ef"
            ],
            [
             0.5,
             "#f7f7f7"
            ],
            [
             0.6,
             "#e6f5d0"
            ],
            [
             0.7,
             "#b8e186"
            ],
            [
             0.8,
             "#7fbc41"
            ],
            [
             0.9,
             "#4d9221"
            ],
            [
             1,
             "#276419"
            ]
           ],
           "sequential": [
            [
             0,
             "#0d0887"
            ],
            [
             0.1111111111111111,
             "#46039f"
            ],
            [
             0.2222222222222222,
             "#7201a8"
            ],
            [
             0.3333333333333333,
             "#9c179e"
            ],
            [
             0.4444444444444444,
             "#bd3786"
            ],
            [
             0.5555555555555556,
             "#d8576b"
            ],
            [
             0.6666666666666666,
             "#ed7953"
            ],
            [
             0.7777777777777778,
             "#fb9f3a"
            ],
            [
             0.8888888888888888,
             "#fdca26"
            ],
            [
             1,
             "#f0f921"
            ]
           ],
           "sequentialminus": [
            [
             0,
             "#0d0887"
            ],
            [
             0.1111111111111111,
             "#46039f"
            ],
            [
             0.2222222222222222,
             "#7201a8"
            ],
            [
             0.3333333333333333,
             "#9c179e"
            ],
            [
             0.4444444444444444,
             "#bd3786"
            ],
            [
             0.5555555555555556,
             "#d8576b"
            ],
            [
             0.6666666666666666,
             "#ed7953"
            ],
            [
             0.7777777777777778,
             "#fb9f3a"
            ],
            [
             0.8888888888888888,
             "#fdca26"
            ],
            [
             1,
             "#f0f921"
            ]
           ]
          },
          "colorway": [
           "#636efa",
           "#EF553B",
           "#00cc96",
           "#ab63fa",
           "#FFA15A",
           "#19d3f3",
           "#FF6692",
           "#B6E880",
           "#FF97FF",
           "#FECB52"
          ],
          "font": {
           "color": "#2a3f5f"
          },
          "geo": {
           "bgcolor": "white",
           "lakecolor": "white",
           "landcolor": "#E5ECF6",
           "showlakes": true,
           "showland": true,
           "subunitcolor": "white"
          },
          "hoverlabel": {
           "align": "left"
          },
          "hovermode": "closest",
          "mapbox": {
           "style": "light"
          },
          "paper_bgcolor": "white",
          "plot_bgcolor": "#E5ECF6",
          "polar": {
           "angularaxis": {
            "gridcolor": "white",
            "linecolor": "white",
            "ticks": ""
           },
           "bgcolor": "#E5ECF6",
           "radialaxis": {
            "gridcolor": "white",
            "linecolor": "white",
            "ticks": ""
           }
          },
          "scene": {
           "xaxis": {
            "backgroundcolor": "#E5ECF6",
            "gridcolor": "white",
            "gridwidth": 2,
            "linecolor": "white",
            "showbackground": true,
            "ticks": "",
            "zerolinecolor": "white"
           },
           "yaxis": {
            "backgroundcolor": "#E5ECF6",
            "gridcolor": "white",
            "gridwidth": 2,
            "linecolor": "white",
            "showbackground": true,
            "ticks": "",
            "zerolinecolor": "white"
           },
           "zaxis": {
            "backgroundcolor": "#E5ECF6",
            "gridcolor": "white",
            "gridwidth": 2,
            "linecolor": "white",
            "showbackground": true,
            "ticks": "",
            "zerolinecolor": "white"
           }
          },
          "shapedefaults": {
           "line": {
            "color": "#2a3f5f"
           }
          },
          "ternary": {
           "aaxis": {
            "gridcolor": "white",
            "linecolor": "white",
            "ticks": ""
           },
           "baxis": {
            "gridcolor": "white",
            "linecolor": "white",
            "ticks": ""
           },
           "bgcolor": "#E5ECF6",
           "caxis": {
            "gridcolor": "white",
            "linecolor": "white",
            "ticks": ""
           }
          },
          "title": {
           "x": 0.05
          },
          "xaxis": {
           "automargin": true,
           "gridcolor": "white",
           "linecolor": "white",
           "ticks": "",
           "title": {
            "standoff": 15
           },
           "zerolinecolor": "white",
           "zerolinewidth": 2
          },
          "yaxis": {
           "automargin": true,
           "gridcolor": "white",
           "linecolor": "white",
           "ticks": "",
           "title": {
            "standoff": 15
           },
           "zerolinecolor": "white",
           "zerolinewidth": 2
          }
         }
        },
        "width": 1000
       }
      },
      "text/html": [
       "<div>                            <div id=\"c4d0c696-09d2-4d55-ae65-ea791e3840ee\" class=\"plotly-graph-div\" style=\"height:400px; width:1000px;\"></div>            <script type=\"text/javascript\">                require([\"plotly\"], function(Plotly) {                    window.PLOTLYENV=window.PLOTLYENV || {};                                    if (document.getElementById(\"c4d0c696-09d2-4d55-ae65-ea791e3840ee\")) {                    Plotly.newPlot(                        \"c4d0c696-09d2-4d55-ae65-ea791e3840ee\",                        [{\"line\":{\"color\":\"royalblue\"},\"mode\":\"lines\",\"name\":\"Train\",\"x\":[0,1,2,3,4,5,6,7,8,9,10,11,12,13,14,15,16,17,18,19,20,21,22,23,24,25,26,27,28,29,30,31,32,33,34,35,36,37,38,39,40,41,42,43,44,45,46,47,48,49,50,51,52,53,54,55,56,57,58,59,60,61,62,63,64,65,66,67,68,69,70,71,72,73,74,75,76,77,78,79,80,81,82,83,84,85,86,87,88,89,90,91,92,93,94,95,96,97,98,99,100,101,102,103,104,105,106,107,108,109,110,111,112,113,114,115,116,117,118,119,120,121,122,123,124,125,126,127,128,129,130,131,132,133,134,135,136,137,138,139,140,141,142,143,144,145,146,147,148,149,150,151,152,153,154,155,156,157,158,159,160,161,162,163,164,165,166,167,168,169,170,171,172,173,174,175,176,177,178,179,180,181,182,183,184,185,186,187,188,189,190,191,192,193,194,195],\"y\":[11.22390916950531,11.229235413787984,11.222573163962569,11.207758078177427,11.188579408146856,11.188579408146856,11.174651606402387,11.217211220821182,11.235853571630463,11.233211562167625,11.242428217272549,11.25674205957782,11.25674205957782,11.267024926533402,11.250261155493735,11.248959919135764,11.251560700835821,11.25932270617131,11.261896710166482,11.26446410567173,11.25285855955142,11.265745335827777,11.282253647235228,11.288531131754366,11.296012463406655,11.292278793854607,11.293524899934853,11.27466827584597,11.268302881978894,11.273398434405495,11.25674205957782,11.250261155493735,11.268302881978894,11.26446410567173,11.275936506833965,11.275936506833965,11.26318123185884,11.255449234575513,11.258033215341438,11.251560700835821,11.242428217272549,11.245046019814627,11.233211562167625,11.226575837752225,11.211820372186306,11.211820372186306,11.174651606402387,11.202315887874743,11.202315887874743,11.211820372186306,11.198214720130528,11.198214720130528,11.198214720130528,11.230562553996048,11.22390916950531,11.207758078177427,11.207758078177427,11.222573163962569,11.225243392518447,11.215866230705851,11.215866230705851,11.215866230705851,11.215866230705851,11.177452728682098,11.183031543709138,11.183031543709138,11.180246026587712,11.19684391799675,11.19684391799675,11.157678073022682,11.149082031552883,11.149082031552883,11.156250521031495,11.159103590013903,11.159103590013903,11.161948542146133,11.161948542146133,11.166200851884664,11.154820928221902,11.160527077798756,11.16336798880036,11.153389288750464,11.153389288750464,11.151955596748616,11.159103590013903,11.154820928221902,11.150519846322512,11.143310009755762,11.146200185177994,11.144756141605761,11.134589024250317,11.127262984158243,11.124317473928487,11.125791313546788,11.112447898373103,11.13750447821044,11.119882876860622,11.106459856528481,11.107960231903714,11.116915515632819,11.118400296900399,11.122841458900366,11.112447898373103,11.101945176173954,11.098924025839777,11.082142548877775,11.079060882340366,11.118400296900399,11.116915515632819,11.119882876860622,11.125791313546788,11.104957226643945,11.092854204472703,11.092854204472703,11.080602902692181,11.104957226643945,11.101945176173954,11.121363262031055,11.128732492137603,11.119882876860622,11.127262984158243,11.125791313546788,11.104957226643945,11.103452335464524,11.095893720490599,11.104957226643945,11.122841458900366,11.118400296900399,11.107960231903714,11.109458359524737,11.089805421623343,11.086747315264523,11.085214747914744,11.06350846933288,11.03650126792157,11.033275458672687,11.01369897704759,11.016988453697989,10.998760939938723,10.980195005816189,10.976782033219948,10.961277846683982,10.957799582307658,10.975071168816319,10.981897133886719,10.992049505350737,10.968198289528557,10.950806546816688,10.936672035881783,10.952559395644101,10.95430917736789,10.940224437486151,10.97164063371953,10.980195005816189,10.981897133886719,10.969920942840002,10.968198289528557,10.959540226785442,11.002099841204238,11.033275458672687,11.016988453697989,11.010398644018933,11.031658643445782,11.023535121924303,11.020267145159687,11.030039209893479,11.031658643445782,11.033275458672687,11.025165114135234,11.023535121924303,11.030039209893479,11.023535121924303,11.02679245379461,11.02679245379461,11.015345067954259,11.002099841204238,10.98698620339419,11.00043178410354,11.005427631296913,11.018629143155449,11.008744383922906,11.02679245379461,11.016988453697989,11.002099841204238,10.98698620339419,10.985292722887856,10.997087299380693,11.002099841204238,10.978489975565104,10.981897133886719,10.997087299380693,10.975071168816319,10.959540226785442,10.952559395644101,10.952559395644101,10.933106969717286],\"type\":\"scatter\"},{\"line\":{\"color\":\"rgba(0,0,30,0.5)\"},\"mode\":\"lines\",\"name\":\"Test\",\"x\":[196,197,198,199,200,201,202,203,204,205,206,207,208,209,210,211,212,213,214,215,216,217,218,219,220,221,222,223,224,225,226,227,228,229,230,231,232,233,234,235,236,237,238,239,240,241,242,243,244],\"y\":[10.925938480238674,10.969920942840002,10.947291604709243,10.933106969717286,10.936672035881783,10.940224437486151,10.929529148369403,10.920528187510426,10.904119432844034,10.905955980651335,10.89488575689709,10.900436187427738,10.876158617846391,10.870471398725801,10.87993220723003,10.918718232265187,10.933106969717286,10.938449814127782,10.936672035881783,10.922334872735375,10.929529148369403,10.918718232265187,10.938449814127782,10.943764264191275,10.941995917134532,10.929529148369403,10.924138299734526,10.93131965914319,10.959540226785442,10.96301245249619,10.992049505350737,10.993731591533722,10.95605590270283,10.992049505350737,11.002099841204238,10.995410853053441,10.988676820872097,10.992049505350737,11.005427631296913,11.031658643445782,11.03488966402723,11.008744383922906,11.049301442688533,11.033275458672687,11.041320554357519,11.046116726621012,11.025165114135234,11.031658643445782,11.025165114135234],\"type\":\"scatter\"},{\"line\":{\"color\":\"red\",\"dash\":\"dot\"},\"mode\":\"lines\",\"name\":\"Prediction\",\"x\":[196,197,198,199,200,201,202,203,204,205,206,207,208,209,210,211,212,213,214,215,216,217,218,219,220,221,222,223,224,225,226,227,228,229,230,231,232,233,234,235,236,237,238,239,240,241,242,243,244],\"y\":[10.931615543011086,10.924413222689537,10.968626661639432,10.945895273729487,10.931639166439266,10.935230850165981,10.938808070932982,10.928066821289447,10.919028703446951,10.902548322118134,10.904399989329592,10.893283556517636,10.898868516358037,10.874488014155123,10.868778095090548,10.878291736988299,10.91726682972687,10.931730418476553,10.937104627419822,10.935325883646522,10.920925584233117,10.92816127274788,10.917306824612218,10.937135367211328,10.942480061279326,10.940710040815368,10.928190152708611,10.922789673882475,10.93000259386379,10.958355008270908,10.961847905963943,10.991018575691298,10.992712592603676,10.954876107706221,10.991032015520396,11.001132404716001,10.994417086308038,10.98765789008688,10.991049393470895,11.004492390014603,11.030835554919129,11.034083730272496,11.007838198815604,11.048562796782798,11.03247440710403,11.040554757189142,11.045373998656919,11.024338792472056,11.030862488979192],\"type\":\"scatter\"},{\"fill\":\"toself\",\"fillcolor\":\"rgba(0,0,30,0.1)\",\"hoverinfo\":\"skip\",\"line\":{\"color\":\"rgba(0,0,0,0)\"},\"showlegend\":false,\"x\":[196,197,198,199,200,201,202,203,204,205,206,207,208,209,210,211,212,213,214,215,216,217,218,219,220,221,222,223,224,225,226,227,228,229,230,231,232,233,234,235,236,237,238,239,240,241,242,243,244,244,243,242,241,240,239,238,237,236,235,234,233,232,231,230,229,228,227,226,225,224,223,222,221,220,219,218,217,216,215,214,213,212,211,210,209,208,207,206,205,204,203,202,201,200,199,198,197,196],\"y\":[10.905471898246999,10.898333584595097,10.941852679027503,10.919018684815013,10.90477125247949,10.908427902113678,10.912063059985694,10.901357580563666,10.892365277344116,10.875862209028883,10.877784881669285,10.866701516813157,10.872333030554259,10.847832163310818,10.842187398544134,10.851714457091406,10.890206401088234,10.904641068865695,10.910073230688887,10.908347380131088,10.893958815283046,10.901238307450974,10.89041679221805,10.910161436695846,10.915553583400712,10.913844684425989,10.901340689899898,10.895995058989936,10.903249964079189,10.931384806184347,10.934930848408522,10.963875581218286,10.965627131971871,10.92743637911411,10.963234235464046,10.973354519531629,10.966693311595105,10.959984432593753,10.963429624559824,10.976867752672367,11.00305564499708,11.006357945519769,10.979978964872604,11.020274956000296,11.004172618060908,11.012296973814976,11.017166240583727,10.996074946271722,11.002641924413684,11.0590830535447,11.05260263867239,11.07358175673011,11.068812540563307,11.06077619614715,11.0768506375653,11.035697432758603,11.061809515025223,11.058615464841179,11.032117027356838,11.018669162381967,11.015331347580005,11.022140861020972,11.028910289900374,11.018829795576746,10.982315836298334,11.01979805323548,11.01816157016431,10.988764963519364,10.98532521035747,10.956755223648392,10.949584288775014,10.955039615517324,10.967575397204747,10.96940653915794,10.964109297726809,10.944196857006387,10.955084238044787,10.947892353183189,10.962304387161955,10.964136024150758,10.95881976808741,10.944327258365506,10.904869016885192,10.895368791636962,10.901143864999428,10.925404002161816,10.919865596222115,10.9310150969899,10.929234435207386,10.945692129549787,10.954776062015227,10.96555308188027,10.962033798218284,10.958507080399043,10.972771862643961,10.99540064425136,10.950492860783978,10.957759187775173],\"type\":\"scatter\"}],                        {\"template\":{\"data\":{\"histogram2dcontour\":[{\"type\":\"histogram2dcontour\",\"colorbar\":{\"outlinewidth\":0,\"ticks\":\"\"},\"colorscale\":[[0.0,\"#0d0887\"],[0.1111111111111111,\"#46039f\"],[0.2222222222222222,\"#7201a8\"],[0.3333333333333333,\"#9c179e\"],[0.4444444444444444,\"#bd3786\"],[0.5555555555555556,\"#d8576b\"],[0.6666666666666666,\"#ed7953\"],[0.7777777777777778,\"#fb9f3a\"],[0.8888888888888888,\"#fdca26\"],[1.0,\"#f0f921\"]]}],\"choropleth\":[{\"type\":\"choropleth\",\"colorbar\":{\"outlinewidth\":0,\"ticks\":\"\"}}],\"histogram2d\":[{\"type\":\"histogram2d\",\"colorbar\":{\"outlinewidth\":0,\"ticks\":\"\"},\"colorscale\":[[0.0,\"#0d0887\"],[0.1111111111111111,\"#46039f\"],[0.2222222222222222,\"#7201a8\"],[0.3333333333333333,\"#9c179e\"],[0.4444444444444444,\"#bd3786\"],[0.5555555555555556,\"#d8576b\"],[0.6666666666666666,\"#ed7953\"],[0.7777777777777778,\"#fb9f3a\"],[0.8888888888888888,\"#fdca26\"],[1.0,\"#f0f921\"]]}],\"heatmap\":[{\"type\":\"heatmap\",\"colorbar\":{\"outlinewidth\":0,\"ticks\":\"\"},\"colorscale\":[[0.0,\"#0d0887\"],[0.1111111111111111,\"#46039f\"],[0.2222222222222222,\"#7201a8\"],[0.3333333333333333,\"#9c179e\"],[0.4444444444444444,\"#bd3786\"],[0.5555555555555556,\"#d8576b\"],[0.6666666666666666,\"#ed7953\"],[0.7777777777777778,\"#fb9f3a\"],[0.8888888888888888,\"#fdca26\"],[1.0,\"#f0f921\"]]}],\"heatmapgl\":[{\"type\":\"heatmapgl\",\"colorbar\":{\"outlinewidth\":0,\"ticks\":\"\"},\"colorscale\":[[0.0,\"#0d0887\"],[0.1111111111111111,\"#46039f\"],[0.2222222222222222,\"#7201a8\"],[0.3333333333333333,\"#9c179e\"],[0.4444444444444444,\"#bd3786\"],[0.5555555555555556,\"#d8576b\"],[0.6666666666666666,\"#ed7953\"],[0.7777777777777778,\"#fb9f3a\"],[0.8888888888888888,\"#fdca26\"],[1.0,\"#f0f921\"]]}],\"contourcarpet\":[{\"type\":\"contourcarpet\",\"colorbar\":{\"outlinewidth\":0,\"ticks\":\"\"}}],\"contour\":[{\"type\":\"contour\",\"colorbar\":{\"outlinewidth\":0,\"ticks\":\"\"},\"colorscale\":[[0.0,\"#0d0887\"],[0.1111111111111111,\"#46039f\"],[0.2222222222222222,\"#7201a8\"],[0.3333333333333333,\"#9c179e\"],[0.4444444444444444,\"#bd3786\"],[0.5555555555555556,\"#d8576b\"],[0.6666666666666666,\"#ed7953\"],[0.7777777777777778,\"#fb9f3a\"],[0.8888888888888888,\"#fdca26\"],[1.0,\"#f0f921\"]]}],\"surface\":[{\"type\":\"surface\",\"colorbar\":{\"outlinewidth\":0,\"ticks\":\"\"},\"colorscale\":[[0.0,\"#0d0887\"],[0.1111111111111111,\"#46039f\"],[0.2222222222222222,\"#7201a8\"],[0.3333333333333333,\"#9c179e\"],[0.4444444444444444,\"#bd3786\"],[0.5555555555555556,\"#d8576b\"],[0.6666666666666666,\"#ed7953\"],[0.7777777777777778,\"#fb9f3a\"],[0.8888888888888888,\"#fdca26\"],[1.0,\"#f0f921\"]]}],\"mesh3d\":[{\"type\":\"mesh3d\",\"colorbar\":{\"outlinewidth\":0,\"ticks\":\"\"}}],\"scatter\":[{\"fillpattern\":{\"fillmode\":\"overlay\",\"size\":10,\"solidity\":0.2},\"type\":\"scatter\"}],\"parcoords\":[{\"type\":\"parcoords\",\"line\":{\"colorbar\":{\"outlinewidth\":0,\"ticks\":\"\"}}}],\"scatterpolargl\":[{\"type\":\"scatterpolargl\",\"marker\":{\"colorbar\":{\"outlinewidth\":0,\"ticks\":\"\"}}}],\"bar\":[{\"error_x\":{\"color\":\"#2a3f5f\"},\"error_y\":{\"color\":\"#2a3f5f\"},\"marker\":{\"line\":{\"color\":\"#E5ECF6\",\"width\":0.5},\"pattern\":{\"fillmode\":\"overlay\",\"size\":10,\"solidity\":0.2}},\"type\":\"bar\"}],\"scattergeo\":[{\"type\":\"scattergeo\",\"marker\":{\"colorbar\":{\"outlinewidth\":0,\"ticks\":\"\"}}}],\"scatterpolar\":[{\"type\":\"scatterpolar\",\"marker\":{\"colorbar\":{\"outlinewidth\":0,\"ticks\":\"\"}}}],\"histogram\":[{\"marker\":{\"pattern\":{\"fillmode\":\"overlay\",\"size\":10,\"solidity\":0.2}},\"type\":\"histogram\"}],\"scattergl\":[{\"type\":\"scattergl\",\"marker\":{\"colorbar\":{\"outlinewidth\":0,\"ticks\":\"\"}}}],\"scatter3d\":[{\"type\":\"scatter3d\",\"line\":{\"colorbar\":{\"outlinewidth\":0,\"ticks\":\"\"}},\"marker\":{\"colorbar\":{\"outlinewidth\":0,\"ticks\":\"\"}}}],\"scattermapbox\":[{\"type\":\"scattermapbox\",\"marker\":{\"colorbar\":{\"outlinewidth\":0,\"ticks\":\"\"}}}],\"scatterternary\":[{\"type\":\"scatterternary\",\"marker\":{\"colorbar\":{\"outlinewidth\":0,\"ticks\":\"\"}}}],\"scattercarpet\":[{\"type\":\"scattercarpet\",\"marker\":{\"colorbar\":{\"outlinewidth\":0,\"ticks\":\"\"}}}],\"carpet\":[{\"aaxis\":{\"endlinecolor\":\"#2a3f5f\",\"gridcolor\":\"white\",\"linecolor\":\"white\",\"minorgridcolor\":\"white\",\"startlinecolor\":\"#2a3f5f\"},\"baxis\":{\"endlinecolor\":\"#2a3f5f\",\"gridcolor\":\"white\",\"linecolor\":\"white\",\"minorgridcolor\":\"white\",\"startlinecolor\":\"#2a3f5f\"},\"type\":\"carpet\"}],\"table\":[{\"cells\":{\"fill\":{\"color\":\"#EBF0F8\"},\"line\":{\"color\":\"white\"}},\"header\":{\"fill\":{\"color\":\"#C8D4E3\"},\"line\":{\"color\":\"white\"}},\"type\":\"table\"}],\"barpolar\":[{\"marker\":{\"line\":{\"color\":\"#E5ECF6\",\"width\":0.5},\"pattern\":{\"fillmode\":\"overlay\",\"size\":10,\"solidity\":0.2}},\"type\":\"barpolar\"}],\"pie\":[{\"automargin\":true,\"type\":\"pie\"}]},\"layout\":{\"autotypenumbers\":\"strict\",\"colorway\":[\"#636efa\",\"#EF553B\",\"#00cc96\",\"#ab63fa\",\"#FFA15A\",\"#19d3f3\",\"#FF6692\",\"#B6E880\",\"#FF97FF\",\"#FECB52\"],\"font\":{\"color\":\"#2a3f5f\"},\"hovermode\":\"closest\",\"hoverlabel\":{\"align\":\"left\"},\"paper_bgcolor\":\"white\",\"plot_bgcolor\":\"#E5ECF6\",\"polar\":{\"bgcolor\":\"#E5ECF6\",\"angularaxis\":{\"gridcolor\":\"white\",\"linecolor\":\"white\",\"ticks\":\"\"},\"radialaxis\":{\"gridcolor\":\"white\",\"linecolor\":\"white\",\"ticks\":\"\"}},\"ternary\":{\"bgcolor\":\"#E5ECF6\",\"aaxis\":{\"gridcolor\":\"white\",\"linecolor\":\"white\",\"ticks\":\"\"},\"baxis\":{\"gridcolor\":\"white\",\"linecolor\":\"white\",\"ticks\":\"\"},\"caxis\":{\"gridcolor\":\"white\",\"linecolor\":\"white\",\"ticks\":\"\"}},\"coloraxis\":{\"colorbar\":{\"outlinewidth\":0,\"ticks\":\"\"}},\"colorscale\":{\"sequential\":[[0.0,\"#0d0887\"],[0.1111111111111111,\"#46039f\"],[0.2222222222222222,\"#7201a8\"],[0.3333333333333333,\"#9c179e\"],[0.4444444444444444,\"#bd3786\"],[0.5555555555555556,\"#d8576b\"],[0.6666666666666666,\"#ed7953\"],[0.7777777777777778,\"#fb9f3a\"],[0.8888888888888888,\"#fdca26\"],[1.0,\"#f0f921\"]],\"sequentialminus\":[[0.0,\"#0d0887\"],[0.1111111111111111,\"#46039f\"],[0.2222222222222222,\"#7201a8\"],[0.3333333333333333,\"#9c179e\"],[0.4444444444444444,\"#bd3786\"],[0.5555555555555556,\"#d8576b\"],[0.6666666666666666,\"#ed7953\"],[0.7777777777777778,\"#fb9f3a\"],[0.8888888888888888,\"#fdca26\"],[1.0,\"#f0f921\"]],\"diverging\":[[0,\"#8e0152\"],[0.1,\"#c51b7d\"],[0.2,\"#de77ae\"],[0.3,\"#f1b6da\"],[0.4,\"#fde0ef\"],[0.5,\"#f7f7f7\"],[0.6,\"#e6f5d0\"],[0.7,\"#b8e186\"],[0.8,\"#7fbc41\"],[0.9,\"#4d9221\"],[1,\"#276419\"]]},\"xaxis\":{\"gridcolor\":\"white\",\"linecolor\":\"white\",\"ticks\":\"\",\"title\":{\"standoff\":15},\"zerolinecolor\":\"white\",\"automargin\":true,\"zerolinewidth\":2},\"yaxis\":{\"gridcolor\":\"white\",\"linecolor\":\"white\",\"ticks\":\"\",\"title\":{\"standoff\":15},\"zerolinecolor\":\"white\",\"automargin\":true,\"zerolinewidth\":2},\"scene\":{\"xaxis\":{\"backgroundcolor\":\"#E5ECF6\",\"gridcolor\":\"white\",\"linecolor\":\"white\",\"showbackground\":true,\"ticks\":\"\",\"zerolinecolor\":\"white\",\"gridwidth\":2},\"yaxis\":{\"backgroundcolor\":\"#E5ECF6\",\"gridcolor\":\"white\",\"linecolor\":\"white\",\"showbackground\":true,\"ticks\":\"\",\"zerolinecolor\":\"white\",\"gridwidth\":2},\"zaxis\":{\"backgroundcolor\":\"#E5ECF6\",\"gridcolor\":\"white\",\"linecolor\":\"white\",\"showbackground\":true,\"ticks\":\"\",\"zerolinecolor\":\"white\",\"gridwidth\":2}},\"shapedefaults\":{\"line\":{\"color\":\"#2a3f5f\"}},\"annotationdefaults\":{\"arrowcolor\":\"#2a3f5f\",\"arrowhead\":0,\"arrowwidth\":1},\"geo\":{\"bgcolor\":\"white\",\"landcolor\":\"#E5ECF6\",\"subunitcolor\":\"white\",\"showland\":true,\"showlakes\":true,\"lakecolor\":\"white\"},\"title\":{\"x\":0.05},\"mapbox\":{\"style\":\"light\"}}},\"height\":400,\"width\":1000},                        {\"responsive\": true}                    ).then(function(){\n",
       "                            \n",
       "var gd = document.getElementById('c4d0c696-09d2-4d55-ae65-ea791e3840ee');\n",
       "var x = new MutationObserver(function (mutations, observer) {{\n",
       "        var display = window.getComputedStyle(gd).display;\n",
       "        if (!display || display === 'none') {{\n",
       "            console.log([gd, 'removed!']);\n",
       "            Plotly.purge(gd);\n",
       "            observer.disconnect();\n",
       "        }}\n",
       "}});\n",
       "\n",
       "// Listen for the removal of the full notebook cells\n",
       "var notebookContainer = gd.closest('#notebook-container');\n",
       "if (notebookContainer) {{\n",
       "    x.observe(notebookContainer, {childList: true});\n",
       "}}\n",
       "\n",
       "// Listen for the clearing of the current output cell\n",
       "var outputEl = gd.closest('.output');\n",
       "if (outputEl) {{\n",
       "    x.observe(outputEl, {childList: true});\n",
       "}}\n",
       "\n",
       "                        })                };                });            </script>        </div>"
      ]
     },
     "metadata": {},
     "output_type": "display_data"
    }
   ],
   "source": [
    "from plotly.subplots import make_subplots\n",
    "import plotly.graph_objects as go\n",
    "\n",
    "\n",
    "fig = go.Figure([\n",
    "    go.Scatter(x=y_train.index,y=y_train,name=\"Train\",mode=\"lines\",line= dict(color=\"royalblue\"))\n",
    "    ,go.Scatter(x=y_test.index,y=y_test,name=\"Test\",mode=\"lines\",line= dict(color=\"rgba(0,0,30,0.5)\"))\n",
    "    ,go.Scatter(x=y_test.index,y=y_pred,name=\"Prediction\",mode=\"lines\",line= dict(color=\"red\",dash=\"dot\"))\n",
    "    ,go.Scatter(x=y_test.index.tolist()+y_test.index[::-1].tolist(),y=pred_upper+pred_lower[::-1],fill=\"toself\",\n",
    "               fillcolor=\"rgba(0,0,30,0.1)\",line=dict(color=\"rgba(0,0,0,0)\"),\n",
    "               hoverinfo=\"skip\",\n",
    "               showlegend=False)\n",
    "])\n",
    "\n",
    "fig.update_layout(height=400,width=1000)\n",
    "fig.show()"
   ]
  },
  {
   "cell_type": "code",
   "execution_count": 128,
   "id": "e6e6132b",
   "metadata": {},
   "outputs": [],
   "source": [
    "from sklearn.metrics import mean_squared_error, mean_absolute_error\n",
    "import math"
   ]
  },
  {
   "cell_type": "code",
   "execution_count": 129,
   "id": "c217cb2f",
   "metadata": {
    "scrolled": false
   },
   "outputs": [
    {
     "name": "stdout",
     "output_type": "stream",
     "text": [
      "MSE:  27537497.70750214\n",
      "MAE:  3996.765659258152\n",
      "RMSE:  5247.618289043339\n",
      "MAPE: 1.37%\n"
     ]
    }
   ],
   "source": [
    "\n",
    "mse = mean_squared_error(np.exp(y_test), np.exp(prediction))\n",
    "print('MSE: ', mse)\n",
    "\n",
    "mae = mean_absolute_error(np.exp(y_test), np.exp(prediction))\n",
    "print('MAE: ', mae)\n",
    "\n",
    "rmse = math.sqrt(mean_squared_error(np.exp(y_test), np.exp(prediction)))\n",
    "print('RMSE: ', rmse)\n",
    "\n",
    "mape = np.mean(np.abs(np.exp(y_pred) - np.exp(y_test))/np.abs(np.exp(y_test)))\n",
    "print('MAPE: {:.2f}%'.format(mape*100))\n"
   ]
  },
  {
   "cell_type": "code",
   "execution_count": null,
   "id": "f08158d4",
   "metadata": {},
   "outputs": [],
   "source": []
  },
  {
   "cell_type": "code",
   "execution_count": null,
   "id": "8e3e27c4",
   "metadata": {},
   "outputs": [],
   "source": []
  },
  {
   "cell_type": "code",
   "execution_count": null,
   "id": "3e34ef60",
   "metadata": {},
   "outputs": [],
   "source": []
  },
  {
   "cell_type": "code",
   "execution_count": 130,
   "id": "33812215",
   "metadata": {},
   "outputs": [],
   "source": [
    "data = pd.read_csv(\"./ARIMA_data/000660.KS.csv\")\n",
    "data = data[\"Close\"]  # close 데이터만 다루겠다 \n"
   ]
  },
  {
   "cell_type": "code",
   "execution_count": 131,
   "id": "3ca274be",
   "metadata": {},
   "outputs": [],
   "source": [
    "data = np.log(data) # 분산 안정화 시킨다 "
   ]
  },
  {
   "cell_type": "code",
   "execution_count": 132,
   "id": "2f1892d4",
   "metadata": {},
   "outputs": [],
   "source": [
    " #80퍼로 train size 나누겠다 \n",
    "    \n",
    "\n",
    "y_train = data[:int(len(data)*0.8)]\n",
    "y_test = data[int(len(data)*0.8):]\n",
    "\n"
   ]
  },
  {
   "cell_type": "code",
   "execution_count": 133,
   "id": "1b248a6c",
   "metadata": {},
   "outputs": [
    {
     "data": {
      "image/png": "[encoded data removed]",
      "text/plain": [
       "<Figure size 432x288 with 1 Axes>"
      ]
     },
     "metadata": {
      "needs_background": "light"
     },
     "output_type": "display_data"
    }
   ],
   "source": [
    "# 시각화 하기 \n",
    "y_train.plot(c=\"r\")\n",
    "y_test.plot(c=\"b\")\n",
    "plt.show()"
   ]
  },
  {
   "cell_type": "markdown",
   "id": "4e320096",
   "metadata": {},
   "source": [
    "non stationary인것을 알수있다  \n",
    "하향 하는 trend 있지만 최근에는 늘어났다 계절성이나 주기는 확인 되지 않는다 "
   ]
  },
  {
   "cell_type": "code",
   "execution_count": 134,
   "id": "4cf7a3a4",
   "metadata": {},
   "outputs": [
    {
     "name": "stdout",
     "output_type": "stream",
     "text": [
      "추정된 차수 d 1 \n"
     ]
    }
   ],
   "source": [
    "# 몇 차분이 필요한지 알아보기 \n",
    "\n",
    "kpass_diff = ndiffs(y_train,alpha=0.05,test=\"kpss\",max_d=6)\n",
    "\n",
    "adf_diffs = ndiffs(y_train,alpha=0.05,test=\"adf\",max_d=6)\n",
    "n_diffs = max(adf_diffs,kpass_diff)\n",
    "\n",
    "print(\"추정된 차수 d {} \".format(n_diffs)) # 1로 차분 하자 \n"
   ]
  },
  {
   "cell_type": "markdown",
   "id": "01949df4",
   "metadata": {},
   "source": [
    "###  ARIMA 모델 분석 하기 "
   ]
  },
  {
   "cell_type": "code",
   "execution_count": 135,
   "id": "5209f7d3",
   "metadata": {},
   "outputs": [
    {
     "data": {
      "image/png": "[encoded data removed]",
      "text/plain": [
       "<Figure size 720x720 with 4 Axes>"
      ]
     },
     "metadata": {
      "needs_background": "light"
     },
     "output_type": "display_data"
    }
   ],
   "source": [
    "decomposition = sm.tsa.seasonal_decompose(data,model =\"additive\",period=1)\n",
    "\n",
    "fig = decomposition.plot()\n",
    "fig.set_size_inches(10,10)\n",
    "plt.show()\n"
   ]
  },
  {
   "cell_type": "code",
   "execution_count": 136,
   "id": "45899423",
   "metadata": {},
   "outputs": [
    {
     "name": "stderr",
     "output_type": "stream",
     "text": [
      "C:\\Users\\maeng\\anaconda3\\lib\\site-packages\\statsmodels\\graphics\\tsaplots.py:348: FutureWarning:\n",
      "\n",
      "The default method 'yw' can produce PACF values outside of the [-1,1] interval. After 0.13, the default will change tounadjusted Yule-Walker ('ywm'). You can use this method now by setting method='ywm'.\n",
      "\n"
     ]
    },
    {
     "data": {
      "image/png": "[encoded data removed]",
      "text/plain": [
       "<Figure size 720x360 with 2 Axes>"
      ]
     },
     "execution_count": 136,
     "metadata": {},
     "output_type": "execute_result"
    },
    {
     "data": {
      "image/png": "[encoded data removed]",
      "text/plain": [
       "<Figure size 720x360 with 2 Axes>"
      ]
     },
     "metadata": {
      "needs_background": "light"
     },
     "output_type": "display_data"
    }
   ],
   "source": [
    "# ACF , PACF 그리기 \n",
    "fig,ax = plt.subplots(1,2,figsize=(10,5))\n",
    "\n",
    "fig.suptitle(\"Raw data\")\n",
    "plot_acf(y_train.values.squeeze(),lags=30,ax=ax[0])\n",
    "plot_pacf(y_train.values.squeeze(),lags=30,ax=ax[1])"
   ]
  },
  {
   "cell_type": "markdown",
   "id": "0e8a909c",
   "metadata": {},
   "source": [
    "ACF가 천천히 줄어드는 것을 확인할수있듯이 non stationary하다 추정한 차분 계수 1로 차분 진행하고 결과 비교를 해본다 \n"
   ]
  },
  {
   "cell_type": "code",
   "execution_count": 137,
   "id": "923418f7",
   "metadata": {},
   "outputs": [
    {
     "name": "stdout",
     "output_type": "stream",
     "text": [
      "######## TRAIN DATA ##################\n",
      "0      11.691072\n",
      "1      11.686879\n",
      "2      11.691072\n",
      "3      11.674194\n",
      "4      11.657026\n",
      "         ...    \n",
      "191    11.433882\n",
      "192    11.426278\n",
      "193    11.419713\n",
      "194    11.427368\n",
      "195    11.412000\n",
      "Name: Close, Length: 196, dtype: float64\n",
      "############### 1 DIFFERENCING #########################\n",
      "1     -0.004193\n",
      "2      0.004193\n",
      "3     -0.016878\n",
      "4     -0.017168\n",
      "5      0.004320\n",
      "         ...   \n",
      "191   -0.029853\n",
      "192   -0.007605\n",
      "193   -0.006565\n",
      "194    0.007654\n",
      "195   -0.015368\n",
      "Name: Close, Length: 195, dtype: float64\n"
     ]
    }
   ],
   "source": [
    "differencing_data = y_train.copy()\n",
    "differencing_data = differencing_data.diff()\n",
    "\n",
    "# 결측치 제거 \n",
    "differencing_data = differencing_data.dropna()\n",
    "\n",
    "print(\"######## TRAIN DATA ##################\")\n",
    "print(y_train)\n",
    "\n",
    "print(\"############### 1 DIFFERENCING #########################\")\n",
    "print(differencing_data)"
   ]
  },
  {
   "cell_type": "code",
   "execution_count": 138,
   "id": "a5246a9b",
   "metadata": {},
   "outputs": [
    {
     "data": {
      "image/png": "[encoded data removed]",
      "text/plain": [
       "<Figure size 864x576 with 2 Axes>"
      ]
     },
     "metadata": {
      "needs_background": "light"
     },
     "output_type": "display_data"
    }
   ],
   "source": [
    "# differencing plot \n",
    "plt.figure(figsize=(12,8))\n",
    "plt.subplot(211)\n",
    "y_train.plot()\n",
    "\n",
    "\n",
    "plt.subplot(212)\n",
    "differencing_data.plot(color=\"orange\")\n",
    "plt.show()"
   ]
  },
  {
   "cell_type": "code",
   "execution_count": 139,
   "id": "a96ffaf2",
   "metadata": {},
   "outputs": [
    {
     "name": "stderr",
     "output_type": "stream",
     "text": [
      "C:\\Users\\maeng\\anaconda3\\lib\\site-packages\\statsmodels\\graphics\\tsaplots.py:348: FutureWarning:\n",
      "\n",
      "The default method 'yw' can produce PACF values outside of the [-1,1] interval. After 0.13, the default will change tounadjusted Yule-Walker ('ywm'). You can use this method now by setting method='ywm'.\n",
      "\n"
     ]
    },
    {
     "data": {
      "image/png": "[encoded data removed]",
      "text/plain": [
       "<Figure size 720x360 with 2 Axes>"
      ]
     },
     "execution_count": 139,
     "metadata": {},
     "output_type": "execute_result"
    },
    {
     "data": {
      "image/png": "[encoded data removed]",
      "text/plain": [
       "<Figure size 720x360 with 2 Axes>"
      ]
     },
     "metadata": {
      "needs_background": "light"
     },
     "output_type": "display_data"
    }
   ],
   "source": [
    "# 차분한 결과 acf pacf 보기 \n",
    "fig,ax = plt.subplots(1,2,figsize=(10,5))\n",
    "\n",
    "fig.suptitle(\"Raw data\")\n",
    "# acf, pacf plt 그리기 \n",
    "\n",
    "plot_acf(differencing_data.values.squeeze(),lags=50,ax=ax[0])\n",
    "plot_pacf(differencing_data.values.squeeze(),lags=50,ax=ax[1])"
   ]
  },
  {
   "cell_type": "markdown",
   "id": "5dd6d983",
   "metadata": {},
   "source": [
    "## ARIMA 파라미터 정해보기 \n"
   ]
  },
  {
   "cell_type": "code",
   "execution_count": 140,
   "id": "623d7f6d",
   "metadata": {
    "scrolled": true
   },
   "outputs": [
    {
     "name": "stdout",
     "output_type": "stream",
     "text": [
      "\n",
      "    시간 너무 오래 걸리는데 \n",
      "    \n",
      "    [((5, 1, 6), -1116.01)] 찾은 결과가 이러 하니까 auto arima로 이 주변을 다시 찾아 보겠다\n",
      "    다시 찾은 결과 0 1 0 배열이 더 좋은 aic 결과값이 나왔다 \n",
      "\n"
     ]
    }
   ],
   "source": [
    "# p = range(5,28)\n",
    "# d=range(1,2)\n",
    "# q = range(5,28)\n",
    "\n",
    "# pdq = list(itertools.product(p,d,q))\n",
    "\n",
    "# aic=[]\n",
    "\n",
    "# for i in pdq:\n",
    "#     model = sm.tsa.arima.ARIMA(y_train.values,order=(i))\n",
    "#     model_fit = model.fit()\n",
    "#     print(\"ARIMA {} >> AIC {}\".format(i,round(model_fit.aic,2)))\n",
    "#     aic.append(round(model_fit.aic,2))\n",
    "    \n",
    "print(\"\"\"\n",
    "    시간 너무 오래 걸리는데 \n",
    "    \n",
    "    [((5, 1, 6), -1116.01)] 찾은 결과가 이러 하니까 auto arima로 이 주변을 다시 찾아 보겠다\n",
    "    다시 찾은 결과 0 1 0 배열이 더 좋은 aic 결과값이 나왔다 \n",
    "\"\"\")"
   ]
  },
  {
   "cell_type": "code",
   "execution_count": 141,
   "id": "c7c87f49",
   "metadata": {},
   "outputs": [],
   "source": [
    "\n",
    "# p = range(15,21)\n",
    "# d=range(1,2)\n",
    "# q = range(15,21)\n",
    "\n",
    "# pdq = list(itertools.product(p,d,q))\n",
    "\n",
    "# aic=[]\n",
    "\n",
    "# for i in pdq:\n",
    "#     model = sm.tsa.arima.ARIMA(y_train.values,order=(i))\n",
    "#     model_fit = model.fit()\n",
    "#     print(\"ARIMA {} >> AIC {}\".format(i,round(model_fit.aic,2)))\n",
    "#     aic.append(round(model_fit.aic,2))\n",
    "    "
   ]
  },
  {
   "cell_type": "code",
   "execution_count": 142,
   "id": "da542064",
   "metadata": {},
   "outputs": [
    {
     "name": "stdout",
     "output_type": "stream",
     "text": [
      " ARIMA(0,1,0)(0,0,0)[0] intercept   : AIC=-951.505, Time=0.03 sec\n",
      " ARIMA(0,1,1)(0,0,0)[0] intercept   : AIC=-949.605, Time=0.05 sec\n",
      " ARIMA(0,1,2)(0,0,0)[0] intercept   : AIC=-950.674, Time=0.18 sec\n",
      " ARIMA(0,1,3)(0,0,0)[0] intercept   : AIC=-950.391, Time=0.11 sec\n",
      " ARIMA(1,1,0)(0,0,0)[0] intercept   : AIC=-949.586, Time=0.03 sec\n",
      " ARIMA(1,1,1)(0,0,0)[0] intercept   : AIC=-947.597, Time=0.07 sec\n",
      " ARIMA(1,1,2)(0,0,0)[0] intercept   : AIC=-947.202, Time=0.19 sec\n",
      " ARIMA(1,1,3)(0,0,0)[0] intercept   : AIC=-948.462, Time=0.39 sec\n",
      " ARIMA(2,1,0)(0,0,0)[0] intercept   : AIC=-950.029, Time=0.04 sec\n",
      " ARIMA(2,1,1)(0,0,0)[0] intercept   : AIC=inf, Time=0.13 sec\n",
      " ARIMA(2,1,2)(0,0,0)[0] intercept   : AIC=-947.584, Time=0.25 sec\n",
      " ARIMA(2,1,3)(0,0,0)[0] intercept   : AIC=-946.484, Time=0.29 sec\n",
      " ARIMA(3,1,0)(0,0,0)[0] intercept   : AIC=-950.218, Time=0.16 sec\n",
      " ARIMA(3,1,1)(0,0,0)[0] intercept   : AIC=-949.043, Time=0.32 sec\n",
      " ARIMA(3,1,2)(0,0,0)[0] intercept   : AIC=-946.884, Time=0.33 sec\n",
      "\n",
      "Best model:  ARIMA(0,1,0)(0,0,0)[0] intercept\n",
      "Total fit time: 2.589 seconds\n"
     ]
    },
    {
     "data": {
      "text/plain": [
       "ARIMA(order=(0, 1, 0), scoring_args={}, suppress_warnings=True)"
      ]
     },
     "execution_count": 142,
     "metadata": {},
     "output_type": "execute_result"
    }
   ],
   "source": [
    "# auto arima 적용 하기 \n",
    "model_arima= auto_arima(y_train,trace=True,d=1,error_action='ignore', start_p=0,start_q=0,max_p=3,max_q=3,\n",
    "                        suppress_warnings=True,\n",
    "                        stepwise=False,seasonal=False)\n",
    "\n",
    "model_arima.fit(y_train)\n"
   ]
  },
  {
   "cell_type": "code",
   "execution_count": 143,
   "id": "254a6f06",
   "metadata": {},
   "outputs": [
    {
     "name": "stdout",
     "output_type": "stream",
     "text": [
      "                               SARIMAX Results                                \n",
      "==============================================================================\n",
      "Dep. Variable:                      y   No. Observations:                  196\n",
      "Model:               SARIMAX(0, 1, 0)   Log Likelihood                 477.753\n",
      "Date:                Tue, 22 Nov 2022   AIC                           -951.505\n",
      "Time:                        01:20:19   BIC                           -944.959\n",
      "Sample:                             0   HQIC                          -948.855\n",
      "                                - 196                                         \n",
      "Covariance Type:                  opg                                         \n",
      "==============================================================================\n",
      "                 coef    std err          z      P>|z|      [0.025      0.975]\n",
      "------------------------------------------------------------------------------\n",
      "intercept     -0.0014      0.001     -0.956      0.339      -0.004       0.002\n",
      "sigma2         0.0004   3.43e-05     12.716      0.000       0.000       0.001\n",
      "===================================================================================\n",
      "Ljung-Box (L1) (Q):                   0.08   Jarque-Bera (JB):                14.34\n",
      "Prob(Q):                              0.77   Prob(JB):                         0.00\n",
      "Heteroskedasticity (H):               0.74   Skew:                            -0.07\n",
      "Prob(H) (two-sided):                  0.22   Kurtosis:                         4.32\n",
      "===================================================================================\n",
      "\n",
      "Warnings:\n",
      "[1] Covariance matrix calculated using the outer product of gradients (complex-step).\n"
     ]
    }
   ],
   "source": [
    " #자동으로 맞춰저있다 \n",
    "print(model_arima.summary())"
   ]
  },
  {
   "cell_type": "markdown",
   "id": "d5fa143a",
   "metadata": {},
   "source": [
    "AIC 점수는 3588.132 \n",
    "Prob(Q)는 0.71이므로 귀무가설을 기각 하지 못하므로 residual은 백색소음 시계열을 따른다 \n",
    "Prob(JB): 0.00이니까 귀무가설을 기각 할수있다 잔차가 정규성을 만족한다는 귀무가설이 기각 되었으므로 잔차가 정규성을 따르지 않다라고 결론을 낼수있다 \n"
   ]
  },
  {
   "cell_type": "code",
   "execution_count": 144,
   "id": "dddf281e",
   "metadata": {},
   "outputs": [
    {
     "data": {
      "image/png": "[encoded data removed]",
      "text/plain": [
       "<Figure size 1152x576 with 4 Axes>"
      ]
     },
     "metadata": {
      "needs_background": "light"
     },
     "output_type": "display_data"
    }
   ],
   "source": [
    "model_arima.plot_diagnostics(figsize=(16,8))\n",
    "plt.show()"
   ]
  },
  {
   "cell_type": "markdown",
   "id": "6236ea17",
   "metadata": {},
   "source": [
    "Correlgram을 보면 잔차에 대한 ACF가 범위내에 있음을 확인할수있다 \n"
   ]
  },
  {
   "cell_type": "code",
   "execution_count": 145,
   "id": "3bfce68f",
   "metadata": {},
   "outputs": [],
   "source": [
    "prediction = model_arima.predict(n_periods=len(y_test))\n",
    "\n",
    "\n",
    "prediction = pd.DataFrame(prediction,index=y_test.index,columns=[\"Prediction\"])\n",
    "\n"
   ]
  },
  {
   "cell_type": "code",
   "execution_count": 146,
   "id": "3d4aed7f",
   "metadata": {
    "scrolled": true
   },
   "outputs": [
    {
     "data": {
      "image/png": "[encoded data removed]",
      "text/plain": [
       "<Figure size 864x288 with 1 Axes>"
      ]
     },
     "metadata": {
      "needs_background": "light"
     },
     "output_type": "display_data"
    }
   ],
   "source": [
    "fig,ax = plt.subplots(1,1,figsize=(12,4))\n",
    "plt.plot(y_train,label=\"Train\")\n",
    "plt.plot(y_test,label=\"Test\")\n",
    "plt.plot(prediction,label=\"Prediction\")\n",
    "plt.legend()\n",
    "plt.show()"
   ]
  },
  {
   "cell_type": "code",
   "execution_count": 147,
   "id": "8b166448",
   "metadata": {},
   "outputs": [
    {
     "name": "stdout",
     "output_type": "stream",
     "text": [
      " ARIMA(0,1,0)(0,1,0)[12]             : AIC=-750.086, Time=1.66 sec\n",
      " ARIMA(0,1,0)(0,1,1)[12]             : AIC=inf, Time=0.92 sec\n",
      " ARIMA(0,1,0)(0,1,2)[12]             : AIC=inf, Time=1.05 sec\n",
      " ARIMA(0,1,0)(0,1,3)[12]             : AIC=inf, Time=3.02 sec\n",
      " ARIMA(0,1,0)(1,1,0)[12]             : AIC=-804.796, Time=0.07 sec\n",
      " ARIMA(0,1,0)(1,1,1)[12]             : AIC=inf, Time=0.77 sec\n",
      " ARIMA(0,1,0)(1,1,2)[12]             : AIC=inf, Time=2.10 sec\n",
      " ARIMA(0,1,0)(1,1,3)[12]             : AIC=inf, Time=3.22 sec\n",
      " ARIMA(0,1,0)(2,1,0)[12]             : AIC=-830.005, Time=0.31 sec\n",
      " ARIMA(0,1,0)(2,1,1)[12]             : AIC=inf, Time=2.03 sec\n",
      " ARIMA(0,1,0)(2,1,2)[12]             : AIC=inf, Time=4.04 sec\n",
      " ARIMA(0,1,0)(2,1,3)[12]             : AIC=inf, Time=3.23 sec\n",
      " ARIMA(0,1,0)(3,1,0)[12]             : AIC=-832.716, Time=0.47 sec\n",
      " ARIMA(0,1,0)(3,1,1)[12]             : AIC=inf, Time=2.04 sec\n",
      " ARIMA(0,1,0)(3,1,2)[12]             : AIC=inf, Time=3.80 sec\n",
      " ARIMA(0,1,1)(0,1,0)[12]             : AIC=-749.198, Time=0.07 sec\n",
      " ARIMA(0,1,1)(0,1,1)[12]             : AIC=inf, Time=1.24 sec\n",
      " ARIMA(0,1,1)(0,1,2)[12]             : AIC=inf, Time=2.64 sec\n",
      " ARIMA(0,1,1)(0,1,3)[12]             : AIC=inf, Time=4.76 sec\n",
      " ARIMA(0,1,1)(1,1,0)[12]             : AIC=-802.870, Time=0.17 sec\n",
      " ARIMA(0,1,1)(1,1,1)[12]             : AIC=inf, Time=1.54 sec\n",
      " ARIMA(0,1,1)(1,1,2)[12]             : AIC=inf, Time=2.60 sec\n",
      " ARIMA(0,1,1)(1,1,3)[12]             : AIC=inf, Time=4.02 sec\n",
      " ARIMA(0,1,1)(2,1,0)[12]             : AIC=-828.195, Time=0.63 sec\n",
      " ARIMA(0,1,1)(2,1,1)[12]             : AIC=inf, Time=1.50 sec\n",
      " ARIMA(0,1,1)(2,1,2)[12]             : AIC=inf, Time=2.24 sec\n",
      " ARIMA(0,1,1)(3,1,0)[12]             : AIC=-830.991, Time=1.14 sec\n",
      " ARIMA(0,1,1)(3,1,1)[12]             : AIC=inf, Time=3.11 sec\n",
      " ARIMA(0,1,2)(0,1,0)[12]             : AIC=-748.729, Time=0.09 sec\n",
      " ARIMA(0,1,2)(0,1,1)[12]             : AIC=inf, Time=1.48 sec\n",
      " ARIMA(0,1,2)(0,1,2)[12]             : AIC=inf, Time=2.79 sec\n",
      " ARIMA(0,1,2)(0,1,3)[12]             : AIC=inf, Time=4.23 sec\n",
      " ARIMA(0,1,2)(1,1,0)[12]             : AIC=-802.083, Time=0.35 sec\n",
      " ARIMA(0,1,2)(1,1,1)[12]             : AIC=inf, Time=1.72 sec\n",
      " ARIMA(0,1,2)(1,1,2)[12]             : AIC=inf, Time=3.14 sec\n",
      " ARIMA(0,1,2)(2,1,0)[12]             : AIC=-827.706, Time=1.16 sec\n",
      " ARIMA(0,1,2)(2,1,1)[12]             : AIC=inf, Time=2.40 sec\n",
      " ARIMA(0,1,2)(3,1,0)[12]             : AIC=-831.442, Time=1.41 sec\n",
      " ARIMA(0,1,3)(0,1,0)[12]             : AIC=-746.957, Time=0.18 sec\n",
      " ARIMA(0,1,3)(0,1,1)[12]             : AIC=inf, Time=1.82 sec\n",
      " ARIMA(0,1,3)(0,1,2)[12]             : AIC=inf, Time=3.73 sec\n",
      " ARIMA(0,1,3)(1,1,0)[12]             : AIC=-804.071, Time=0.63 sec\n",
      " ARIMA(0,1,3)(1,1,1)[12]             : AIC=inf, Time=2.16 sec\n",
      " ARIMA(0,1,3)(2,1,0)[12]             : AIC=-827.891, Time=0.86 sec\n",
      " ARIMA(1,1,0)(0,1,0)[12]             : AIC=-748.990, Time=0.07 sec\n",
      " ARIMA(1,1,0)(0,1,1)[12]             : AIC=inf, Time=0.91 sec\n",
      " ARIMA(1,1,0)(0,1,2)[12]             : AIC=inf, Time=2.30 sec\n",
      " ARIMA(1,1,0)(0,1,3)[12]             : AIC=inf, Time=3.42 sec\n",
      " ARIMA(1,1,0)(1,1,0)[12]             : AIC=-802.860, Time=0.41 sec\n",
      " ARIMA(1,1,0)(1,1,1)[12]             : AIC=inf, Time=1.58 sec\n",
      " ARIMA(1,1,0)(1,1,2)[12]             : AIC=inf, Time=2.72 sec\n",
      " ARIMA(1,1,0)(1,1,3)[12]             : AIC=inf, Time=4.34 sec\n",
      " ARIMA(1,1,0)(2,1,0)[12]             : AIC=-828.165, Time=0.90 sec\n",
      " ARIMA(1,1,0)(2,1,1)[12]             : AIC=inf, Time=2.99 sec\n",
      " ARIMA(1,1,0)(2,1,2)[12]             : AIC=inf, Time=3.18 sec\n",
      " ARIMA(1,1,0)(3,1,0)[12]             : AIC=-830.932, Time=0.79 sec\n",
      " ARIMA(1,1,0)(3,1,1)[12]             : AIC=inf, Time=2.92 sec\n",
      " ARIMA(1,1,1)(0,1,0)[12]             : AIC=-750.388, Time=0.10 sec\n",
      " ARIMA(1,1,1)(0,1,1)[12]             : AIC=inf, Time=1.73 sec\n",
      " ARIMA(1,1,1)(0,1,2)[12]             : AIC=inf, Time=3.91 sec\n",
      " ARIMA(1,1,1)(0,1,3)[12]             : AIC=inf, Time=5.16 sec\n",
      " ARIMA(1,1,1)(1,1,0)[12]             : AIC=-803.511, Time=0.17 sec\n",
      " ARIMA(1,1,1)(1,1,1)[12]             : AIC=inf, Time=1.61 sec\n",
      " ARIMA(1,1,1)(1,1,2)[12]             : AIC=inf, Time=2.69 sec\n",
      " ARIMA(1,1,1)(2,1,0)[12]             : AIC=-829.643, Time=3.02 sec\n",
      " ARIMA(1,1,1)(2,1,1)[12]             : AIC=inf, Time=2.54 sec\n",
      " ARIMA(1,1,1)(3,1,0)[12]             : AIC=-831.584, Time=2.31 sec\n",
      " ARIMA(1,1,2)(0,1,0)[12]             : AIC=-746.854, Time=0.11 sec\n",
      " ARIMA(1,1,2)(0,1,1)[12]             : AIC=inf, Time=2.10 sec\n",
      " ARIMA(1,1,2)(0,1,2)[12]             : AIC=inf, Time=3.14 sec\n",
      " ARIMA(1,1,2)(1,1,0)[12]             : AIC=-801.929, Time=0.79 sec\n",
      " ARIMA(1,1,2)(1,1,1)[12]             : AIC=inf, Time=1.76 sec\n",
      " ARIMA(1,1,2)(2,1,0)[12]             : AIC=-827.908, Time=1.45 sec\n",
      " ARIMA(1,1,3)(0,1,0)[12]             : AIC=-746.318, Time=0.19 sec\n",
      " ARIMA(1,1,3)(0,1,1)[12]             : AIC=inf, Time=2.07 sec\n",
      " ARIMA(1,1,3)(1,1,0)[12]             : AIC=-804.890, Time=0.64 sec\n",
      " ARIMA(2,1,0)(0,1,0)[12]             : AIC=-748.556, Time=0.07 sec\n",
      " ARIMA(2,1,0)(0,1,1)[12]             : AIC=inf, Time=1.17 sec\n",
      " ARIMA(2,1,0)(0,1,2)[12]             : AIC=inf, Time=2.91 sec\n",
      " ARIMA(2,1,0)(0,1,3)[12]             : AIC=-854.495, Time=1.86 sec\n",
      " ARIMA(2,1,0)(1,1,0)[12]             : AIC=-801.796, Time=0.37 sec\n",
      " ARIMA(2,1,0)(1,1,1)[12]             : AIC=inf, Time=1.71 sec\n",
      " ARIMA(2,1,0)(1,1,2)[12]             : AIC=inf, Time=2.69 sec\n",
      " ARIMA(2,1,0)(2,1,0)[12]             : AIC=-827.558, Time=0.69 sec\n",
      " ARIMA(2,1,0)(2,1,1)[12]             : AIC=inf, Time=3.44 sec\n",
      " ARIMA(2,1,0)(3,1,0)[12]             : AIC=-831.136, Time=1.53 sec\n",
      " ARIMA(2,1,1)(0,1,0)[12]             : AIC=-746.936, Time=0.52 sec\n",
      " ARIMA(2,1,1)(0,1,1)[12]             : AIC=inf, Time=3.38 sec\n",
      " ARIMA(2,1,1)(0,1,2)[12]             : AIC=-855.937, Time=1.55 sec\n",
      " ARIMA(2,1,1)(1,1,0)[12]             : AIC=-802.316, Time=0.83 sec\n",
      " ARIMA(2,1,1)(1,1,1)[12]             : AIC=inf, Time=1.92 sec\n",
      " ARIMA(2,1,1)(2,1,0)[12]             : AIC=-828.342, Time=1.23 sec\n",
      " ARIMA(2,1,2)(0,1,0)[12]             : AIC=-746.076, Time=0.39 sec\n",
      " ARIMA(2,1,2)(0,1,1)[12]             : AIC=inf, Time=1.99 sec\n",
      " ARIMA(2,1,2)(1,1,0)[12]             : AIC=-798.960, Time=0.98 sec\n",
      " ARIMA(2,1,3)(0,1,0)[12]             : AIC=-743.036, Time=0.45 sec\n",
      " ARIMA(3,1,0)(0,1,0)[12]             : AIC=-747.105, Time=0.22 sec\n",
      " ARIMA(3,1,0)(0,1,1)[12]             : AIC=inf, Time=1.40 sec\n",
      " ARIMA(3,1,0)(0,1,2)[12]             : AIC=inf, Time=3.03 sec\n",
      " ARIMA(3,1,0)(1,1,0)[12]             : AIC=-804.665, Time=0.60 sec\n",
      " ARIMA(3,1,0)(1,1,1)[12]             : AIC=inf, Time=1.94 sec\n",
      " ARIMA(3,1,0)(2,1,0)[12]             : AIC=-828.089, Time=0.95 sec\n",
      " ARIMA(3,1,1)(0,1,0)[12]             : AIC=-745.093, Time=0.16 sec\n",
      " ARIMA(3,1,1)(0,1,1)[12]             : AIC=inf, Time=2.30 sec\n",
      " ARIMA(3,1,1)(1,1,0)[12]             : AIC=-802.680, Time=0.57 sec\n",
      " ARIMA(3,1,2)(0,1,0)[12]             : AIC=-743.086, Time=0.30 sec\n",
      "\n",
      "Best model:  ARIMA(2,1,1)(0,1,2)[12]          \n",
      "Total fit time: 185.974 seconds\n"
     ]
    }
   ],
   "source": [
    "auto_arima_model = auto_arima(y_train,start_p=1,start_q=1,max_p=3,\n",
    "                             max_q=3,m=12,seasonal=True,\n",
    "                             d=1,D=1,max_P=3,max_Q=3,\n",
    "                             trace=True,\n",
    "                             error_action='ignore',\n",
    "                             suppress_warnings=True,\n",
    "                             stepwise=False)"
   ]
  },
  {
   "cell_type": "code",
   "execution_count": 148,
   "id": "41e64374",
   "metadata": {
    "scrolled": false
   },
   "outputs": [
    {
     "data": {
      "text/html": [
       "<table class=\"simpletable\">\n",
       "<caption>SARIMAX Results</caption>\n",
       "<tr>\n",
       "  <th>Dep. Variable:</th>                    <td>y</td>                  <th>  No. Observations:  </th>    <td>196</td>  \n",
       "</tr>\n",
       "<tr>\n",
       "  <th>Model:</th>           <td>SARIMAX(2, 1, 1)x(0, 1, [1, 2], 12)</td> <th>  Log Likelihood     </th>  <td>433.969</td>\n",
       "</tr>\n",
       "<tr>\n",
       "  <th>Date:</th>                     <td>Tue, 22 Nov 2022</td>           <th>  AIC                </th> <td>-855.937</td>\n",
       "</tr>\n",
       "<tr>\n",
       "  <th>Time:</th>                         <td>01:23:26</td>               <th>  BIC                </th> <td>-836.681</td>\n",
       "</tr>\n",
       "<tr>\n",
       "  <th>Sample:</th>                           <td>0</td>                  <th>  HQIC               </th> <td>-848.132</td>\n",
       "</tr>\n",
       "<tr>\n",
       "  <th></th>                               <td> - 196</td>                <th>                     </th>     <td> </td>   \n",
       "</tr>\n",
       "<tr>\n",
       "  <th>Covariance Type:</th>                 <td>opg</td>                 <th>                     </th>     <td> </td>   \n",
       "</tr>\n",
       "</table>\n",
       "<table class=\"simpletable\">\n",
       "<tr>\n",
       "      <td></td>        <th>coef</th>     <th>std err</th>      <th>z</th>      <th>P>|z|</th>  <th>[0.025</th>    <th>0.975]</th>  \n",
       "</tr>\n",
       "<tr>\n",
       "  <th>ar.L1</th>    <td>    0.5557</td> <td>    0.410</td> <td>    1.356</td> <td> 0.175</td> <td>   -0.247</td> <td>    1.359</td>\n",
       "</tr>\n",
       "<tr>\n",
       "  <th>ar.L2</th>    <td>   -0.0985</td> <td>    0.087</td> <td>   -1.138</td> <td> 0.255</td> <td>   -0.268</td> <td>    0.071</td>\n",
       "</tr>\n",
       "<tr>\n",
       "  <th>ma.L1</th>    <td>   -0.5839</td> <td>    0.402</td> <td>   -1.453</td> <td> 0.146</td> <td>   -1.371</td> <td>    0.204</td>\n",
       "</tr>\n",
       "<tr>\n",
       "  <th>ma.S.L12</th> <td>   -0.9791</td> <td>    0.103</td> <td>   -9.485</td> <td> 0.000</td> <td>   -1.181</td> <td>   -0.777</td>\n",
       "</tr>\n",
       "<tr>\n",
       "  <th>ma.S.L24</th> <td>    0.1336</td> <td>    0.092</td> <td>    1.457</td> <td> 0.145</td> <td>   -0.046</td> <td>    0.313</td>\n",
       "</tr>\n",
       "<tr>\n",
       "  <th>sigma2</th>   <td>    0.0005</td> <td> 5.25e-05</td> <td>    8.869</td> <td> 0.000</td> <td>    0.000</td> <td>    0.001</td>\n",
       "</tr>\n",
       "</table>\n",
       "<table class=\"simpletable\">\n",
       "<tr>\n",
       "  <th>Ljung-Box (L1) (Q):</th>     <td>0.03</td> <th>  Jarque-Bera (JB):  </th> <td>4.73</td> \n",
       "</tr>\n",
       "<tr>\n",
       "  <th>Prob(Q):</th>                <td>0.86</td> <th>  Prob(JB):          </th> <td>0.09</td> \n",
       "</tr>\n",
       "<tr>\n",
       "  <th>Heteroskedasticity (H):</th> <td>0.67</td> <th>  Skew:              </th> <td>-0.04</td>\n",
       "</tr>\n",
       "<tr>\n",
       "  <th>Prob(H) (two-sided):</th>    <td>0.12</td> <th>  Kurtosis:          </th> <td>3.78</td> \n",
       "</tr>\n",
       "</table><br/><br/>Warnings:<br/>[1] Covariance matrix calculated using the outer product of gradients (complex-step)."
      ],
      "text/plain": [
       "<class 'statsmodels.iolib.summary.Summary'>\n",
       "\"\"\"\n",
       "                                        SARIMAX Results                                        \n",
       "===============================================================================================\n",
       "Dep. Variable:                                       y   No. Observations:                  196\n",
       "Model:             SARIMAX(2, 1, 1)x(0, 1, [1, 2], 12)   Log Likelihood                 433.969\n",
       "Date:                                 Tue, 22 Nov 2022   AIC                           -855.937\n",
       "Time:                                         01:23:26   BIC                           -836.681\n",
       "Sample:                                              0   HQIC                          -848.132\n",
       "                                                 - 196                                         \n",
       "Covariance Type:                                   opg                                         \n",
       "==============================================================================\n",
       "                 coef    std err          z      P>|z|      [0.025      0.975]\n",
       "------------------------------------------------------------------------------\n",
       "ar.L1          0.5557      0.410      1.356      0.175      -0.247       1.359\n",
       "ar.L2         -0.0985      0.087     -1.138      0.255      -0.268       0.071\n",
       "ma.L1         -0.5839      0.402     -1.453      0.146      -1.371       0.204\n",
       "ma.S.L12      -0.9791      0.103     -9.485      0.000      -1.181      -0.777\n",
       "ma.S.L24       0.1336      0.092      1.457      0.145      -0.046       0.313\n",
       "sigma2         0.0005   5.25e-05      8.869      0.000       0.000       0.001\n",
       "===================================================================================\n",
       "Ljung-Box (L1) (Q):                   0.03   Jarque-Bera (JB):                 4.73\n",
       "Prob(Q):                              0.86   Prob(JB):                         0.09\n",
       "Heteroskedasticity (H):               0.67   Skew:                            -0.04\n",
       "Prob(H) (two-sided):                  0.12   Kurtosis:                         3.78\n",
       "===================================================================================\n",
       "\n",
       "Warnings:\n",
       "[1] Covariance matrix calculated using the outer product of gradients (complex-step).\n",
       "\"\"\""
      ]
     },
     "execution_count": 148,
     "metadata": {},
     "output_type": "execute_result"
    }
   ],
   "source": [
    "auto_arima_model.summary() # 자동으로 최적값 적용되었다고 보니까 바로 summary해도 됨 "
   ]
  },
  {
   "cell_type": "markdown",
   "id": "81c7655c",
   "metadata": {},
   "source": [
    "SARIMA 모델이 더 좋은 AIC 결과를 얻을수있었다 "
   ]
  },
  {
   "cell_type": "code",
   "execution_count": 149,
   "id": "4156a72a",
   "metadata": {},
   "outputs": [],
   "source": [
    "def forecast_one_step():\n",
    "    fc,conf_int = model_arima.predict(n_periods=1,return_conf_int=True)\n",
    "    return (\n",
    "        fc.tolist()[0],\n",
    "        np.asarray(conf_int).tolist()[0]\n",
    "    )\n"
   ]
  },
  {
   "cell_type": "markdown",
   "id": "24d57a7c",
   "metadata": {},
   "source": [
    "한스텝식 예측하고 테스트 데이터를 관측할때마다 모형을 업데이트 해주는 refresh전략 \n",
    "위에 n_period=1들어간 이유가 위와 같다 \n",
    "\n",
    "-> 예측치들은 결국 가장 마지막 관측치가 되기 때문이다 \n",
    "결과적으로 데이터에서 어떠한 구조를 보기 어렵기 때문에 가장 마지막 관측치가 가장 좋은 예측치다라고 말하는거이다 \n",
    "\n"
   ]
  },
  {
   "cell_type": "code",
   "execution_count": null,
   "id": "dc87a4ec",
   "metadata": {},
   "outputs": [],
   "source": []
  },
  {
   "cell_type": "code",
   "execution_count": 150,
   "id": "dc060cc6",
   "metadata": {},
   "outputs": [],
   "source": [
    "forecasts=[]\n",
    "y_pred=[]\n",
    "pred_upper=[]\n",
    "pred_lower=[]\n",
    "\n",
    "for new_ob in y_test:\n",
    "    fc,conf =forecast_one_step()\n",
    "    y_pred.append(fc)\n",
    "    pred_upper.append(conf[0])\n",
    "    pred_lower.append(conf[1])\n",
    "    \n",
    "    model_arima.update(new_ob)\n",
    "    \n",
    "    "
   ]
  },
  {
   "cell_type": "code",
   "execution_count": 151,
   "id": "17b50654",
   "metadata": {
    "scrolled": true
   },
   "outputs": [
    {
     "data": {
      "text/html": [
       "<div>\n",
       "<style scoped>\n",
       "    .dataframe tbody tr th:only-of-type {\n",
       "        vertical-align: middle;\n",
       "    }\n",
       "\n",
       "    .dataframe tbody tr th {\n",
       "        vertical-align: top;\n",
       "    }\n",
       "\n",
       "    .dataframe thead th {\n",
       "        text-align: right;\n",
       "    }\n",
       "</style>\n",
       "<table border=\"1\" class=\"dataframe\">\n",
       "  <thead>\n",
       "    <tr style=\"text-align: right;\">\n",
       "      <th></th>\n",
       "      <th>test</th>\n",
       "      <th>pred</th>\n",
       "    </tr>\n",
       "  </thead>\n",
       "  <tbody>\n",
       "    <tr>\n",
       "      <th>196</th>\n",
       "      <td>11.412000</td>\n",
       "      <td>11.410568</td>\n",
       "    </tr>\n",
       "    <tr>\n",
       "      <th>197</th>\n",
       "      <td>11.459525</td>\n",
       "      <td>11.410569</td>\n",
       "    </tr>\n",
       "    <tr>\n",
       "      <th>198</th>\n",
       "      <td>11.440355</td>\n",
       "      <td>11.458344</td>\n",
       "    </tr>\n",
       "    <tr>\n",
       "      <th>199</th>\n",
       "      <td>11.429544</td>\n",
       "      <td>11.439084</td>\n",
       "    </tr>\n",
       "    <tr>\n",
       "      <th>200</th>\n",
       "      <td>11.420810</td>\n",
       "      <td>11.428225</td>\n",
       "    </tr>\n",
       "    <tr>\n",
       "      <th>201</th>\n",
       "      <td>11.407565</td>\n",
       "      <td>11.419454</td>\n",
       "    </tr>\n",
       "    <tr>\n",
       "      <th>202</th>\n",
       "      <td>11.385092</td>\n",
       "      <td>11.406149</td>\n",
       "    </tr>\n",
       "    <tr>\n",
       "      <th>203</th>\n",
       "      <td>11.385092</td>\n",
       "      <td>11.383572</td>\n",
       "    </tr>\n",
       "    <tr>\n",
       "      <th>204</th>\n",
       "      <td>11.362103</td>\n",
       "      <td>11.383576</td>\n",
       "    </tr>\n",
       "    <tr>\n",
       "      <th>205</th>\n",
       "      <td>11.332602</td>\n",
       "      <td>11.360490</td>\n",
       "    </tr>\n",
       "    <tr>\n",
       "      <th>206</th>\n",
       "      <td>11.320554</td>\n",
       "      <td>11.330848</td>\n",
       "    </tr>\n",
       "    <tr>\n",
       "      <th>207</th>\n",
       "      <td>11.314475</td>\n",
       "      <td>11.318750</td>\n",
       "    </tr>\n",
       "    <tr>\n",
       "      <th>208</th>\n",
       "      <td>11.304671</td>\n",
       "      <td>11.312658</td>\n",
       "    </tr>\n",
       "    <tr>\n",
       "      <th>209</th>\n",
       "      <td>11.299732</td>\n",
       "      <td>11.302808</td>\n",
       "    </tr>\n",
       "    <tr>\n",
       "      <th>210</th>\n",
       "      <td>11.327800</td>\n",
       "      <td>11.297862</td>\n",
       "    </tr>\n",
       "    <tr>\n",
       "      <th>211</th>\n",
       "      <td>11.364425</td>\n",
       "      <td>11.326064</td>\n",
       "    </tr>\n",
       "    <tr>\n",
       "      <th>212</th>\n",
       "      <td>11.405340</td>\n",
       "      <td>11.362872</td>\n",
       "    </tr>\n",
       "    <tr>\n",
       "      <th>213</th>\n",
       "      <td>11.406453</td>\n",
       "      <td>11.403987</td>\n",
       "    </tr>\n",
       "    <tr>\n",
       "      <th>214</th>\n",
       "      <td>11.420810</td>\n",
       "      <td>11.405112</td>\n",
       "    </tr>\n",
       "    <tr>\n",
       "      <th>215</th>\n",
       "      <td>11.409785</td>\n",
       "      <td>11.419544</td>\n",
       "    </tr>\n",
       "    <tr>\n",
       "      <th>216</th>\n",
       "      <td>11.451050</td>\n",
       "      <td>11.408471</td>\n",
       "    </tr>\n",
       "    <tr>\n",
       "      <th>217</th>\n",
       "      <td>11.460579</td>\n",
       "      <td>11.449934</td>\n",
       "    </tr>\n",
       "    <tr>\n",
       "      <th>218</th>\n",
       "      <td>11.466882</td>\n",
       "      <td>11.459512</td>\n",
       "    </tr>\n",
       "    <tr>\n",
       "      <th>219</th>\n",
       "      <td>11.463735</td>\n",
       "      <td>11.465848</td>\n",
       "    </tr>\n",
       "    <tr>\n",
       "      <th>220</th>\n",
       "      <td>11.470018</td>\n",
       "      <td>11.462697</td>\n",
       "    </tr>\n",
       "    <tr>\n",
       "      <th>221</th>\n",
       "      <td>11.439279</td>\n",
       "      <td>11.469008</td>\n",
       "    </tr>\n",
       "    <tr>\n",
       "      <th>222</th>\n",
       "      <td>11.409785</td>\n",
       "      <td>11.438135</td>\n",
       "    </tr>\n",
       "    <tr>\n",
       "      <th>223</th>\n",
       "      <td>11.413105</td>\n",
       "      <td>11.408513</td>\n",
       "    </tr>\n",
       "    <tr>\n",
       "      <th>224</th>\n",
       "      <td>11.427368</td>\n",
       "      <td>11.411854</td>\n",
       "    </tr>\n",
       "    <tr>\n",
       "      <th>225</th>\n",
       "      <td>11.445717</td>\n",
       "      <td>11.426187</td>\n",
       "    </tr>\n",
       "    <tr>\n",
       "      <th>226</th>\n",
       "      <td>11.449986</td>\n",
       "      <td>11.444623</td>\n",
       "    </tr>\n",
       "    <tr>\n",
       "      <th>227</th>\n",
       "      <td>11.407565</td>\n",
       "      <td>11.448914</td>\n",
       "    </tr>\n",
       "    <tr>\n",
       "      <th>228</th>\n",
       "      <td>11.331404</td>\n",
       "      <td>11.406311</td>\n",
       "    </tr>\n",
       "    <tr>\n",
       "      <th>229</th>\n",
       "      <td>11.322975</td>\n",
       "      <td>11.329821</td>\n",
       "    </tr>\n",
       "    <tr>\n",
       "      <th>230</th>\n",
       "      <td>11.337381</td>\n",
       "      <td>11.321362</td>\n",
       "    </tr>\n",
       "    <tr>\n",
       "      <th>231</th>\n",
       "      <td>11.344507</td>\n",
       "      <td>11.335840</td>\n",
       "    </tr>\n",
       "    <tr>\n",
       "      <th>232</th>\n",
       "      <td>11.322975</td>\n",
       "      <td>11.343002</td>\n",
       "    </tr>\n",
       "    <tr>\n",
       "      <th>233</th>\n",
       "      <td>11.344507</td>\n",
       "      <td>11.321382</td>\n",
       "    </tr>\n",
       "    <tr>\n",
       "      <th>234</th>\n",
       "      <td>11.367900</td>\n",
       "      <td>11.343017</td>\n",
       "    </tr>\n",
       "    <tr>\n",
       "      <th>235</th>\n",
       "      <td>11.381677</td>\n",
       "      <td>11.366513</td>\n",
       "    </tr>\n",
       "    <tr>\n",
       "      <th>236</th>\n",
       "      <td>11.398636</td>\n",
       "      <td>11.380356</td>\n",
       "    </tr>\n",
       "    <tr>\n",
       "      <th>237</th>\n",
       "      <td>11.397515</td>\n",
       "      <td>11.397395</td>\n",
       "    </tr>\n",
       "    <tr>\n",
       "      <th>238</th>\n",
       "      <td>11.445717</td>\n",
       "      <td>11.396272</td>\n",
       "    </tr>\n",
       "    <tr>\n",
       "      <th>239</th>\n",
       "      <td>11.417515</td>\n",
       "      <td>11.444681</td>\n",
       "    </tr>\n",
       "    <tr>\n",
       "      <th>240</th>\n",
       "      <td>11.425187</td>\n",
       "      <td>11.416366</td>\n",
       "    </tr>\n",
       "    <tr>\n",
       "      <th>241</th>\n",
       "      <td>11.424094</td>\n",
       "      <td>11.424074</td>\n",
       "    </tr>\n",
       "    <tr>\n",
       "      <th>242</th>\n",
       "      <td>11.381677</td>\n",
       "      <td>11.422981</td>\n",
       "    </tr>\n",
       "    <tr>\n",
       "      <th>243</th>\n",
       "      <td>11.389627</td>\n",
       "      <td>11.380400</td>\n",
       "    </tr>\n",
       "    <tr>\n",
       "      <th>244</th>\n",
       "      <td>11.365585</td>\n",
       "      <td>11.388382</td>\n",
       "    </tr>\n",
       "  </tbody>\n",
       "</table>\n",
       "</div>"
      ],
      "text/plain": [
       "          test       pred\n",
       "196  11.412000  11.410568\n",
       "197  11.459525  11.410569\n",
       "198  11.440355  11.458344\n",
       "199  11.429544  11.439084\n",
       "200  11.420810  11.428225\n",
       "201  11.407565  11.419454\n",
       "202  11.385092  11.406149\n",
       "203  11.385092  11.383572\n",
       "204  11.362103  11.383576\n",
       "205  11.332602  11.360490\n",
       "206  11.320554  11.330848\n",
       "207  11.314475  11.318750\n",
       "208  11.304671  11.312658\n",
       "209  11.299732  11.302808\n",
       "210  11.327800  11.297862\n",
       "211  11.364425  11.326064\n",
       "212  11.405340  11.362872\n",
       "213  11.406453  11.403987\n",
       "214  11.420810  11.405112\n",
       "215  11.409785  11.419544\n",
       "216  11.451050  11.408471\n",
       "217  11.460579  11.449934\n",
       "218  11.466882  11.459512\n",
       "219  11.463735  11.465848\n",
       "220  11.470018  11.462697\n",
       "221  11.439279  11.469008\n",
       "222  11.409785  11.438135\n",
       "223  11.413105  11.408513\n",
       "224  11.427368  11.411854\n",
       "225  11.445717  11.426187\n",
       "226  11.449986  11.444623\n",
       "227  11.407565  11.448914\n",
       "228  11.331404  11.406311\n",
       "229  11.322975  11.329821\n",
       "230  11.337381  11.321362\n",
       "231  11.344507  11.335840\n",
       "232  11.322975  11.343002\n",
       "233  11.344507  11.321382\n",
       "234  11.367900  11.343017\n",
       "235  11.381677  11.366513\n",
       "236  11.398636  11.380356\n",
       "237  11.397515  11.397395\n",
       "238  11.445717  11.396272\n",
       "239  11.417515  11.444681\n",
       "240  11.425187  11.416366\n",
       "241  11.424094  11.424074\n",
       "242  11.381677  11.422981\n",
       "243  11.389627  11.380400\n",
       "244  11.365585  11.388382"
      ]
     },
     "execution_count": 151,
     "metadata": {},
     "output_type": "execute_result"
    }
   ],
   "source": [
    "pd.DataFrame({\"test\":y_test,\"pred\":y_pred})"
   ]
  },
  {
   "cell_type": "code",
   "execution_count": 152,
   "id": "185dc840",
   "metadata": {},
   "outputs": [
    {
     "name": "stdout",
     "output_type": "stream",
     "text": [
      "                               SARIMAX Results                                \n",
      "==============================================================================\n",
      "Dep. Variable:                      y   No. Observations:                  245\n",
      "Model:               SARIMAX(0, 1, 0)   Log Likelihood                 589.273\n",
      "Date:                Tue, 22 Nov 2022   AIC                          -1174.547\n",
      "Time:                        01:23:28   BIC                          -1167.552\n",
      "Sample:                             0   HQIC                         -1171.730\n",
      "                                - 245                                         \n",
      "Covariance Type:                  opg                                         \n",
      "==============================================================================\n",
      "                 coef    std err          z      P>|z|      [0.025      0.975]\n",
      "------------------------------------------------------------------------------\n",
      "intercept     -0.0013      0.001     -0.963      0.336      -0.004       0.001\n",
      "sigma2         0.0005   3.36e-05     13.895      0.000       0.000       0.001\n",
      "===================================================================================\n",
      "Ljung-Box (L1) (Q):                   0.38   Jarque-Bera (JB):                14.85\n",
      "Prob(Q):                              0.54   Prob(JB):                         0.00\n",
      "Heteroskedasticity (H):               0.83   Skew:                            -0.13\n",
      "Prob(H) (two-sided):                  0.40   Kurtosis:                         4.18\n",
      "===================================================================================\n",
      "\n",
      "Warnings:\n",
      "[1] Covariance matrix calculated using the outer product of gradients (complex-step).\n"
     ]
    }
   ],
   "source": [
    "print(model_arima.summary())"
   ]
  },
  {
   "cell_type": "code",
   "execution_count": 153,
   "id": "9f1c22b2",
   "metadata": {},
   "outputs": [
    {
     "data": {
      "application/vnd.plotly.v1+json": {
       "config": {
        "plotlyServerURL": "https://plot.ly"
       },
       "data": [
        {
         "line": {
          "color": "royalblue"
         },
         "mode": "lines",
         "name": "Train",
         "type": "scatter",
         "x": [
          0,
          1,
          2,
          3,
          4,
          5,
          6,
          7,
          8,
          9,
          10,
          11,
          12,
          13,
          14,
          15,
          16,
          17,
          18,
          19,
          20,
          21,
          22,
          23,
          24,
          25,
          26,
          27,
          28,
          29,
          30,
          31,
          32,
          33,
          34,
          35,
          36,
          37,
          38,
          39,
          40,
          41,
          42,
          43,
          44,
          45,
          46,
          47,
          48,
          49,
          50,
          51,
          52,
          53,
          54,
          55,
          56,
          57,
          58,
          59,
          60,
          61,
          62,
          63,
          64,
          65,
          66,
          67,
          68,
          69,
          70,
          71,
          72,
          73,
          74,
          75,
          76,
          77,
          78,
          79,
          80,
          81,
          82,
          83,
          84,
          85,
          86,
          87,
          88,
          89,
          90,
          91,
          92,
          93,
          94,
          95,
          96,
          97,
          98,
          99,
          100,
          101,
          102,
          103,
          104,
          105,
          106,
          107,
          108,
          109,
          110,
          111,
          112,
          113,
          114,
          115,
          116,
          117,
          118,
          119,
          120,
          121,
          122,
          123,
          124,
          125,
          126,
          127,
          128,
          129,
          130,
          131,
          132,
          133,
          134,
          135,
          136,
          137,
          138,
          139,
          140,
          141,
          142,
          143,
          144,
          145,
          146,
          147,
          148,
          149,
          150,
          151,
          152,
          153,
          154,
          155,
          156,
          157,
          158,
          159,
          160,
          161,
          162,
          163,
          164,
          165,
          166,
          167,
          168,
          169,
          170,
          171,
          172,
          173,
          174,
          175,
          176,
          177,
          178,
          179,
          180,
          181,
          182,
          183,
          184,
          185,
          186,
          187,
          188,
          189,
          190,
          191,
          192,
          193,
          194,
          195
         ],
         "y": [
          11.691071650353702,
          11.686878772093667,
          11.691071650353702,
          11.67419361256635,
          11.657025808943985,
          11.661345470088502,
          11.643953727376633,
          11.665646551987892,
          11.695247021764184,
          11.678439903447801,
          11.682668239557323,
          11.70766954176274,
          11.695247021764184,
          11.72399643505017,
          11.699405031912846,
          11.70766954176274,
          11.703545824578878,
          11.72399643505017,
          11.728036844587175,
          11.711776323715394,
          11.699405031912846,
          11.732060994886899,
          11.751942365440728,
          11.755871643580617,
          11.759785542901755,
          11.744037185933616,
          11.755871643580617,
          11.751942365440728,
          11.782952602183288,
          11.763684183317412,
          11.740061037553975,
          11.736069016284437,
          11.751942365440728,
          11.732060994886899,
          11.759785542901755,
          11.763684183317412,
          11.771436160121729,
          11.763684183317412,
          11.751942365440728,
          11.747997587149712,
          11.751942365440728,
          11.736069016284437,
          11.686878772093667,
          11.686878772093667,
          11.678439903447801,
          11.678439903447801,
          11.639558115903595,
          11.699405031912846,
          11.728036844587175,
          11.732060994886899,
          11.719939634354555,
          11.719939634354555,
          11.719939634354555,
          11.771436160121729,
          11.790557201568507,
          11.794337924408413,
          11.751942365440728,
          11.779128505744886,
          11.79810440720389,
          11.786762130599957,
          11.786762130599957,
          11.786762130599957,
          11.786762130599957,
          11.715866308966918,
          11.719939634354555,
          11.719939634354555,
          11.736069016284437,
          11.76756768334381,
          11.76756768334381,
          11.691071650353702,
          11.678439903447801,
          11.678439903447801,
          11.678439903447801,
          11.661345470088502,
          11.661345470088502,
          11.661345470088502,
          11.661345470088502,
          11.728036844587175,
          11.728036844587175,
          11.72399643505017,
          11.72399643505017,
          11.699405031912846,
          11.678439903447801,
          11.678439903447801,
          11.695247021764184,
          11.703545824578878,
          11.678439903447801,
          11.661345470088502,
          11.669929213779893,
          11.665646551987892,
          11.635143097694478,
          11.639558115903595,
          11.626254150277232,
          11.62177986988231,
          11.617285480294472,
          11.635143097694478,
          11.608235644774552,
          11.589886506106357,
          11.59910316121128,
          11.630708500626612,
          11.630708500626612,
          11.635143097694478,
          11.612770799939945,
          11.589886506106357,
          11.617285480294472,
          11.594505451962652,
          11.603679828238693,
          11.630708500626612,
          11.612770799939945,
          11.608235644774552,
          11.603679828238693,
          11.585246126549855,
          11.608235644774552,
          11.612770799939945,
          11.59910316121128,
          11.630708500626612,
          11.612770799939945,
          11.630708500626612,
          11.639558115903595,
          11.617285480294472,
          11.630708500626612,
          11.635143097694478,
          11.594505451962652,
          11.589886506106357,
          11.542484267211773,
          11.571194373094205,
          11.580584113444043,
          11.589886506106357,
          11.580584113444043,
          11.580584113444043,
          11.55214617812351,
          11.571194373094205,
          11.566466231898259,
          11.547326891687561,
          11.502875129116727,
          11.50388472031808,
          11.491701828518602,
          11.486581489630627,
          11.476261480598637,
          11.456355113481834,
          11.463735220779457,
          11.431715409544685,
          11.409784706050715,
          11.425186550662222,
          11.461632170582678,
          11.464785089642293,
          11.451050061252142,
          11.418614785498987,
          11.379394072345706,
          11.3975146134589,
          11.434963923500517,
          11.430630222243398,
          11.449985665196355,
          11.459524688243112,
          11.447853468226514,
          11.443575386835436,
          11.451050061252142,
          11.451050061252142,
          11.499840225421574,
          11.522875795823397,
          11.512925464970229,
          11.532728092266408,
          11.5376180775606,
          11.512925464970229,
          11.512925464970229,
          11.517913006481267,
          11.512925464970229,
          11.506907392644665,
          11.491701828518602,
          11.483496654279417,
          11.477298287327077,
          11.487607656985938,
          11.487607656985938,
          11.49781182716018,
          11.475223597786217,
          11.462684248533481,
          11.427367576608582,
          11.443575386835436,
          11.443575386835436,
          11.479368681441386,
          11.483496654279417,
          11.468973577441046,
          11.476261480598637,
          11.463735220779457,
          11.446785662465684,
          11.442503000673682,
          11.452113325573471,
          11.462684248533481,
          11.434963923500517,
          11.442503000673682,
          11.463735220779457,
          11.433882257629776,
          11.426277658244556,
          11.41971308324805,
          11.427367576608582,
          11.411999546380267
         ]
        },
        {
         "line": {
          "color": "rgba(0,0,30,0.5)"
         },
         "mode": "lines",
         "name": "Test",
         "type": "scatter",
         "x": [
          196,
          197,
          198,
          199,
          200,
          201,
          202,
          203,
          204,
          205,
          206,
          207,
          208,
          209,
          210,
          211,
          212,
          213,
          214,
          215,
          216,
          217,
          218,
          219,
          220,
          221,
          222,
          223,
          224,
          225,
          226,
          227,
          228,
          229,
          230,
          231,
          232,
          233,
          234,
          235,
          236,
          237,
          238,
          239,
          240,
          241,
          242,
          243,
          244
         ],
         "y": [
          11.411999546380267,
          11.459524688243112,
          11.440354772135393,
          11.429543856031177,
          11.420810176062423,
          11.407564949312402,
          11.385092093460344,
          11.385092093460344,
          11.362102575235644,
          11.332601910838946,
          11.320553572322773,
          11.314474526246391,
          11.304670526149769,
          11.299732244509187,
          11.32779998084354,
          11.364425456651784,
          11.40534025429029,
          11.406453220459712,
          11.420810176062423,
          11.409784706050715,
          11.451050061252142,
          11.460578984598019,
          11.466881526468821,
          11.463735220779457,
          11.470017963958952,
          11.439278924801929,
          11.409784706050715,
          11.413105129688017,
          11.427367576608582,
          11.44571671527678,
          11.449985665196355,
          11.407564949312402,
          11.331403588346838,
          11.322974881011783,
          11.337380892455297,
          11.344506813345266,
          11.322974881011783,
          11.344506813345266,
          11.36789969291997,
          11.381677178360274,
          11.398636318568101,
          11.3975146134589,
          11.44571671527678,
          11.41751528016557,
          11.425186550662222,
          11.424094251263613,
          11.381677178360274,
          11.389627248625734,
          11.36558487707152
         ]
        },
        {
         "line": {
          "color": "red",
          "dash": "dot"
         },
         "mode": "lines",
         "name": "Prediction",
         "type": "scatter",
         "x": [
          196,
          197,
          198,
          199,
          200,
          201,
          202,
          203,
          204,
          205,
          206,
          207,
          208,
          209,
          210,
          211,
          212,
          213,
          214,
          215,
          216,
          217,
          218,
          219,
          220,
          221,
          222,
          223,
          224,
          225,
          226,
          227,
          228,
          229,
          230,
          231,
          232,
          233,
          234,
          235,
          236,
          237,
          238,
          239,
          240,
          241,
          242,
          243,
          244
         ],
         "y": [
          11.410568342295711,
          11.410569453282971,
          11.4583443180865,
          11.439083525347353,
          11.428224655059681,
          11.419453867980039,
          11.40614946819732,
          11.383572343179058,
          11.383576297432453,
          11.36048975371754,
          11.330848278071532,
          11.318749951071224,
          11.31265750054766,
          11.302807827612142,
          11.297862435997587,
          11.326063873996874,
          11.362872369470724,
          11.403987462368242,
          11.405111985592875,
          11.419544230467563,
          11.408471394513755,
          11.449933847944656,
          11.45951180125493,
          11.465848143989769,
          11.462697271587833,
          11.469008174433132,
          11.438134907264452,
          11.40851264799634,
          11.41185364300533,
          11.426186878065304,
          11.44462294757538,
          11.448913912894346,
          11.406311022468874,
          11.3298210968522,
          11.321362462547581,
          11.335839850613386,
          11.34300153348164,
          11.321382159837496,
          11.343017118952384,
          11.366512591343117,
          11.380355606466805,
          11.397395394512845,
          11.396272428904606,
          11.444680809191917,
          11.416365688411535,
          11.424073696095576,
          11.422981427084132,
          11.380399966743104,
          11.388381736715342
         ]
        },
        {
         "fill": "toself",
         "fillcolor": "rgba(0,0,30,0.1)",
         "hoverinfo": "skip",
         "line": {
          "color": "rgba(0,0,0,0)"
         },
         "showlegend": false,
         "type": "scatter",
         "x": [
          196,
          197,
          198,
          199,
          200,
          201,
          202,
          203,
          204,
          205,
          206,
          207,
          208,
          209,
          210,
          211,
          212,
          213,
          214,
          215,
          216,
          217,
          218,
          219,
          220,
          221,
          222,
          223,
          224,
          225,
          226,
          227,
          228,
          229,
          230,
          231,
          232,
          233,
          234,
          235,
          236,
          237,
          238,
          239,
          240,
          241,
          242,
          243,
          244,
          244,
          243,
          242,
          241,
          240,
          239,
          238,
          237,
          236,
          235,
          234,
          233,
          232,
          231,
          230,
          229,
          228,
          227,
          226,
          225,
          224,
          223,
          222,
          221,
          220,
          219,
          218,
          217,
          216,
          215,
          214,
          213,
          212,
          211,
          210,
          209,
          208,
          207,
          206,
          205,
          204,
          203,
          202,
          201,
          200,
          199,
          198,
          197,
          196
         ],
         "y": [
          11.369644077744901,
          11.369749310295482,
          11.417070490989852,
          11.397838257109008,
          11.387061864238605,
          11.37838136568738,
          11.365146476789148,
          11.342568523631872,
          11.342666983151462,
          11.319581135495143,
          11.289862342395026,
          11.277839584948971,
          11.271839090802462,
          11.262076072708147,
          11.25721993750649,
          11.285321235245865,
          11.321902467774168,
          11.36271851452165,
          11.363938705544692,
          11.378410517382786,
          11.367415997222436,
          11.40858397904273,
          11.418233184995769,
          11.424652689975304,
          11.421588783957805,
          11.427988246129466,
          11.397020269532037,
          11.367323523865284,
          11.370752600958838,
          11.385125157977587,
          11.403566252277884,
          11.407952061157909,
          11.365088657431189,
          11.287560612591813,
          11.27918510941323,
          11.293700856166737,
          11.300941928220881,
          11.279326714114712,
          11.300948027551048,
          11.324412711807934,
          11.338308858392994,
          11.355363470881034,
          11.354331896958808,
          11.402369007078983,
          11.374002827365828,
          11.381784600963652,
          11.380774993473048,
          11.337965261863978,
          11.346020435191784,
          11.4307430382389,
          11.42283467162223,
          11.465187860695215,
          11.4663627912275,
          11.458728549457241,
          11.486992611304851,
          11.438212960850404,
          11.439427318144656,
          11.422402354540617,
          11.4086124708783,
          11.38508621035372,
          11.36343760556028,
          11.3850611387424,
          11.377978845060035,
          11.363539815681932,
          11.372081581112587,
          11.447533387506558,
          11.489875764630783,
          11.485679642872878,
          11.46724859815302,
          11.452954685051822,
          11.449701772127394,
          11.479249544996867,
          11.510028102736797,
          11.503805759217862,
          11.507043598004234,
          11.500790417514091,
          11.491283716846583,
          11.449526791805075,
          11.46067794355234,
          11.446285265641057,
          11.445256410214835,
          11.40384227116728,
          11.366806512747884,
          11.338504934488684,
          11.343539582516136,
          11.353475910292858,
          11.359660317193477,
          11.371834213748038,
          11.401398371939935,
          11.424485611713445,
          11.424576162726243,
          11.447152459605492,
          11.460526370272698,
          11.469387445880757,
          11.480328793585699,
          11.499618145183147,
          11.45138959627046,
          11.451492606846521
         ]
        }
       ],
       "layout": {
        "height": 400,
        "template": {
         "data": {
          "bar": [
           {
            "error_x": {
             "color": "#2a3f5f"
            },
            "error_y": {
             "color": "#2a3f5f"
            },
            "marker": {
             "line": {
              "color": "#E5ECF6",
              "width": 0.5
             },
             "pattern": {
              "fillmode": "overlay",
              "size": 10,
              "solidity": 0.2
             }
            },
            "type": "bar"
           }
          ],
          "barpolar": [
           {
            "marker": {
             "line": {
              "color": "#E5ECF6",
              "width": 0.5
             },
             "pattern": {
              "fillmode": "overlay",
              "size": 10,
              "solidity": 0.2
             }
            },
            "type": "barpolar"
           }
          ],
          "carpet": [
           {
            "aaxis": {
             "endlinecolor": "#2a3f5f",
             "gridcolor": "white",
             "linecolor": "white",
             "minorgridcolor": "white",
             "startlinecolor": "#2a3f5f"
            },
            "baxis": {
             "endlinecolor": "#2a3f5f",
             "gridcolor": "white",
             "linecolor": "white",
             "minorgridcolor": "white",
             "startlinecolor": "#2a3f5f"
            },
            "type": "carpet"
           }
          ],
          "choropleth": [
           {
            "colorbar": {
             "outlinewidth": 0,
             "ticks": ""
            },
            "type": "choropleth"
           }
          ],
          "contour": [
           {
            "colorbar": {
             "outlinewidth": 0,
             "ticks": ""
            },
            "colorscale": [
             [
              0,
              "#0d0887"
             ],
             [
              0.1111111111111111,
              "#46039f"
             ],
             [
              0.2222222222222222,
              "#7201a8"
             ],
             [
              0.3333333333333333,
              "#9c179e"
             ],
             [
              0.4444444444444444,
              "#bd3786"
             ],
             [
              0.5555555555555556,
              "#d8576b"
             ],
             [
              0.6666666666666666,
              "#ed7953"
             ],
             [
              0.7777777777777778,
              "#fb9f3a"
             ],
             [
              0.8888888888888888,
              "#fdca26"
             ],
             [
              1,
              "#f0f921"
             ]
            ],
            "type": "contour"
           }
          ],
          "contourcarpet": [
           {
            "colorbar": {
             "outlinewidth": 0,
             "ticks": ""
            },
            "type": "contourcarpet"
           }
          ],
          "heatmap": [
           {
            "colorbar": {
             "outlinewidth": 0,
             "ticks": ""
            },
            "colorscale": [
             [
              0,
              "#0d0887"
             ],
             [
              0.1111111111111111,
              "#46039f"
             ],
             [
              0.2222222222222222,
              "#7201a8"
             ],
             [
              0.3333333333333333,
              "#9c179e"
             ],
             [
              0.4444444444444444,
              "#bd3786"
             ],
             [
              0.5555555555555556,
              "#d8576b"
             ],
             [
              0.6666666666666666,
              "#ed7953"
             ],
             [
              0.7777777777777778,
              "#fb9f3a"
             ],
             [
              0.8888888888888888,
              "#fdca26"
             ],
             [
              1,
              "#f0f921"
             ]
            ],
            "type": "heatmap"
           }
          ],
          "heatmapgl": [
           {
            "colorbar": {
             "outlinewidth": 0,
             "ticks": ""
            },
            "colorscale": [
             [
              0,
              "#0d0887"
             ],
             [
              0.1111111111111111,
              "#46039f"
             ],
             [
              0.2222222222222222,
              "#7201a8"
             ],
             [
              0.3333333333333333,
              "#9c179e"
             ],
             [
              0.4444444444444444,
              "#bd3786"
             ],
             [
              0.5555555555555556,
              "#d8576b"
             ],
             [
              0.6666666666666666,
              "#ed7953"
             ],
             [
              0.7777777777777778,
              "#fb9f3a"
             ],
             [
              0.8888888888888888,
              "#fdca26"
             ],
             [
              1,
              "#f0f921"
             ]
            ],
            "type": "heatmapgl"
           }
          ],
          "histogram": [
           {
            "marker": {
             "pattern": {
              "fillmode": "overlay",
              "size": 10,
              "solidity": 0.2
             }
            },
            "type": "histogram"
           }
          ],
          "histogram2d": [
           {
            "colorbar": {
             "outlinewidth": 0,
             "ticks": ""
            },
            "colorscale": [
             [
              0,
              "#0d0887"
             ],
             [
              0.1111111111111111,
              "#46039f"
             ],
             [
              0.2222222222222222,
              "#7201a8"
             ],
             [
              0.3333333333333333,
              "#9c179e"
             ],
             [
              0.4444444444444444,
              "#bd3786"
             ],
             [
              0.5555555555555556,
              "#d8576b"
             ],
             [
              0.6666666666666666,
              "#ed7953"
             ],
             [
              0.7777777777777778,
              "#fb9f3a"
             ],
             [
              0.8888888888888888,
              "#fdca26"
             ],
             [
              1,
              "#f0f921"
             ]
            ],
            "type": "histogram2d"
           }
          ],
          "histogram2dcontour": [
           {
            "colorbar": {
             "outlinewidth": 0,
             "ticks": ""
            },
            "colorscale": [
             [
              0,
              "#0d0887"
             ],
             [
              0.1111111111111111,
              "#46039f"
             ],
             [
              0.2222222222222222,
              "#7201a8"
             ],
             [
              0.3333333333333333,
              "#9c179e"
             ],
             [
              0.4444444444444444,
              "#bd3786"
             ],
             [
              0.5555555555555556,
              "#d8576b"
             ],
             [
              0.6666666666666666,
              "#ed7953"
             ],
             [
              0.7777777777777778,
              "#fb9f3a"
             ],
             [
              0.8888888888888888,
              "#fdca26"
             ],
             [
              1,
              "#f0f921"
             ]
            ],
            "type": "histogram2dcontour"
           }
          ],
          "mesh3d": [
           {
            "colorbar": {
             "outlinewidth": 0,
             "ticks": ""
            },
            "type": "mesh3d"
           }
          ],
          "parcoords": [
           {
            "line": {
             "colorbar": {
              "outlinewidth": 0,
              "ticks": ""
             }
            },
            "type": "parcoords"
           }
          ],
          "pie": [
           {
            "automargin": true,
            "type": "pie"
           }
          ],
          "scatter": [
           {
            "fillpattern": {
             "fillmode": "overlay",
             "size": 10,
             "solidity": 0.2
            },
            "type": "scatter"
           }
          ],
          "scatter3d": [
           {
            "line": {
             "colorbar": {
              "outlinewidth": 0,
              "ticks": ""
             }
            },
            "marker": {
             "colorbar": {
              "outlinewidth": 0,
              "ticks": ""
             }
            },
            "type": "scatter3d"
           }
          ],
          "scattercarpet": [
           {
            "marker": {
             "colorbar": {
              "outlinewidth": 0,
              "ticks": ""
             }
            },
            "type": "scattercarpet"
           }
          ],
          "scattergeo": [
           {
            "marker": {
             "colorbar": {
              "outlinewidth": 0,
              "ticks": ""
             }
            },
            "type": "scattergeo"
           }
          ],
          "scattergl": [
           {
            "marker": {
             "colorbar": {
              "outlinewidth": 0,
              "ticks": ""
             }
            },
            "type": "scattergl"
           }
          ],
          "scattermapbox": [
           {
            "marker": {
             "colorbar": {
              "outlinewidth": 0,
              "ticks": ""
             }
            },
            "type": "scattermapbox"
           }
          ],
          "scatterpolar": [
           {
            "marker": {
             "colorbar": {
              "outlinewidth": 0,
              "ticks": ""
             }
            },
            "type": "scatterpolar"
           }
          ],
          "scatterpolargl": [
           {
            "marker": {
             "colorbar": {
              "outlinewidth": 0,
              "ticks": ""
             }
            },
            "type": "scatterpolargl"
           }
          ],
          "scatterternary": [
           {
            "marker": {
             "colorbar": {
              "outlinewidth": 0,
              "ticks": ""
             }
            },
            "type": "scatterternary"
           }
          ],
          "surface": [
           {
            "colorbar": {
             "outlinewidth": 0,
             "ticks": ""
            },
            "colorscale": [
             [
              0,
              "#0d0887"
             ],
             [
              0.1111111111111111,
              "#46039f"
             ],
             [
              0.2222222222222222,
              "#7201a8"
             ],
             [
              0.3333333333333333,
              "#9c179e"
             ],
             [
              0.4444444444444444,
              "#bd3786"
             ],
             [
              0.5555555555555556,
              "#d8576b"
             ],
             [
              0.6666666666666666,
              "#ed7953"
             ],
             [
              0.7777777777777778,
              "#fb9f3a"
             ],
             [
              0.8888888888888888,
              "#fdca26"
             ],
             [
              1,
              "#f0f921"
             ]
            ],
            "type": "surface"
           }
          ],
          "table": [
           {
            "cells": {
             "fill": {
              "color": "#EBF0F8"
             },
             "line": {
              "color": "white"
             }
            },
            "header": {
             "fill": {
              "color": "#C8D4E3"
             },
             "line": {
              "color": "white"
             }
            },
            "type": "table"
           }
          ]
         },
         "layout": {
          "annotationdefaults": {
           "arrowcolor": "#2a3f5f",
           "arrowhead": 0,
           "arrowwidth": 1
          },
          "autotypenumbers": "strict",
          "coloraxis": {
           "colorbar": {
            "outlinewidth": 0,
            "ticks": ""
           }
          },
          "colorscale": {
           "diverging": [
            [
             0,
             "#8e0152"
            ],
            [
             0.1,
             "#c51b7d"
            ],
            [
             0.2,
             "#de77ae"
            ],
            [
             0.3,
             "#f1b6da"
            ],
            [
             0.4,
             "#fde0ef"
            ],
            [
             0.5,
             "#f7f7f7"
            ],
            [
             0.6,
             "#e6f5d0"
            ],
            [
             0.7,
             "#b8e186"
            ],
            [
             0.8,
             "#7fbc41"
            ],
            [
             0.9,
             "#4d9221"
            ],
            [
             1,
             "#276419"
            ]
           ],
           "sequential": [
            [
             0,
             "#0d0887"
            ],
            [
             0.1111111111111111,
             "#46039f"
            ],
            [
             0.2222222222222222,
             "#7201a8"
            ],
            [
             0.3333333333333333,
             "#9c179e"
            ],
            [
             0.4444444444444444,
             "#bd3786"
            ],
            [
             0.5555555555555556,
             "#d8576b"
            ],
            [
             0.6666666666666666,
             "#ed7953"
            ],
            [
             0.7777777777777778,
             "#fb9f3a"
            ],
            [
             0.8888888888888888,
             "#fdca26"
            ],
            [
             1,
             "#f0f921"
            ]
           ],
           "sequentialminus": [
            [
             0,
             "#0d0887"
            ],
            [
             0.1111111111111111,
             "#46039f"
            ],
            [
             0.2222222222222222,
             "#7201a8"
            ],
            [
             0.3333333333333333,
             "#9c179e"
            ],
            [
             0.4444444444444444,
             "#bd3786"
            ],
            [
             0.5555555555555556,
             "#d8576b"
            ],
            [
             0.6666666666666666,
             "#ed7953"
            ],
            [
             0.7777777777777778,
             "#fb9f3a"
            ],
            [
             0.8888888888888888,
             "#fdca26"
            ],
            [
             1,
             "#f0f921"
            ]
           ]
          },
          "colorway": [
           "#636efa",
           "#EF553B",
           "#00cc96",
           "#ab63fa",
           "#FFA15A",
           "#19d3f3",
           "#FF6692",
           "#B6E880",
           "#FF97FF",
           "#FECB52"
          ],
          "font": {
           "color": "#2a3f5f"
          },
          "geo": {
           "bgcolor": "white",
           "lakecolor": "white",
           "landcolor": "#E5ECF6",
           "showlakes": true,
           "showland": true,
           "subunitcolor": "white"
          },
          "hoverlabel": {
           "align": "left"
          },
          "hovermode": "closest",
          "mapbox": {
           "style": "light"
          },
          "paper_bgcolor": "white",
          "plot_bgcolor": "#E5ECF6",
          "polar": {
           "angularaxis": {
            "gridcolor": "white",
            "linecolor": "white",
            "ticks": ""
           },
           "bgcolor": "#E5ECF6",
           "radialaxis": {
            "gridcolor": "white",
            "linecolor": "white",
            "ticks": ""
           }
          },
          "scene": {
           "xaxis": {
            "backgroundcolor": "#E5ECF6",
            "gridcolor": "white",
            "gridwidth": 2,
            "linecolor": "white",
            "showbackground": true,
            "ticks": "",
            "zerolinecolor": "white"
           },
           "yaxis": {
            "backgroundcolor": "#E5ECF6",
            "gridcolor": "white",
            "gridwidth": 2,
            "linecolor": "white",
            "showbackground": true,
            "ticks": "",
            "zerolinecolor": "white"
           },
           "zaxis": {
            "backgroundcolor": "#E5ECF6",
            "gridcolor": "white",
            "gridwidth": 2,
            "linecolor": "white",
            "showbackground": true,
            "ticks": "",
            "zerolinecolor": "white"
           }
          },
          "shapedefaults": {
           "line": {
            "color": "#2a3f5f"
           }
          },
          "ternary": {
           "aaxis": {
            "gridcolor": "white",
            "linecolor": "white",
            "ticks": ""
           },
           "baxis": {
            "gridcolor": "white",
            "linecolor": "white",
            "ticks": ""
           },
           "bgcolor": "#E5ECF6",
           "caxis": {
            "gridcolor": "white",
            "linecolor": "white",
            "ticks": ""
           }
          },
          "title": {
           "x": 0.05
          },
          "xaxis": {
           "automargin": true,
           "gridcolor": "white",
           "linecolor": "white",
           "ticks": "",
           "title": {
            "standoff": 15
           },
           "zerolinecolor": "white",
           "zerolinewidth": 2
          },
          "yaxis": {
           "automargin": true,
           "gridcolor": "white",
           "linecolor": "white",
           "ticks": "",
           "title": {
            "standoff": 15
           },
           "zerolinecolor": "white",
           "zerolinewidth": 2
          }
         }
        },
        "width": 1000
       }
      },
      "text/html": [
       "<div>                            <div id=\"ac7ee23b-8bbb-4394-bcb3-ed1c0ea2ef4e\" class=\"plotly-graph-div\" style=\"height:400px; width:1000px;\"></div>            <script type=\"text/javascript\">                require([\"plotly\"], function(Plotly) {                    window.PLOTLYENV=window.PLOTLYENV || {};                                    if (document.getElementById(\"ac7ee23b-8bbb-4394-bcb3-ed1c0ea2ef4e\")) {                    Plotly.newPlot(                        \"ac7ee23b-8bbb-4394-bcb3-ed1c0ea2ef4e\",                        [{\"line\":{\"color\":\"royalblue\"},\"mode\":\"lines\",\"name\":\"Train\",\"x\":[0,1,2,3,4,5,6,7,8,9,10,11,12,13,14,15,16,17,18,19,20,21,22,23,24,25,26,27,28,29,30,31,32,33,34,35,36,37,38,39,40,41,42,43,44,45,46,47,48,49,50,51,52,53,54,55,56,57,58,59,60,61,62,63,64,65,66,67,68,69,70,71,72,73,74,75,76,77,78,79,80,81,82,83,84,85,86,87,88,89,90,91,92,93,94,95,96,97,98,99,100,101,102,103,104,105,106,107,108,109,110,111,112,113,114,115,116,117,118,119,120,121,122,123,124,125,126,127,128,129,130,131,132,133,134,135,136,137,138,139,140,141,142,143,144,145,146,147,148,149,150,151,152,153,154,155,156,157,158,159,160,161,162,163,164,165,166,167,168,169,170,171,172,173,174,175,176,177,178,179,180,181,182,183,184,185,186,187,188,189,190,191,192,193,194,195],\"y\":[11.691071650353702,11.686878772093667,11.691071650353702,11.67419361256635,11.657025808943985,11.661345470088502,11.643953727376633,11.665646551987892,11.695247021764184,11.678439903447801,11.682668239557323,11.70766954176274,11.695247021764184,11.72399643505017,11.699405031912846,11.70766954176274,11.703545824578878,11.72399643505017,11.728036844587175,11.711776323715394,11.699405031912846,11.732060994886899,11.751942365440728,11.755871643580617,11.759785542901755,11.744037185933616,11.755871643580617,11.751942365440728,11.782952602183288,11.763684183317412,11.740061037553975,11.736069016284437,11.751942365440728,11.732060994886899,11.759785542901755,11.763684183317412,11.771436160121729,11.763684183317412,11.751942365440728,11.747997587149712,11.751942365440728,11.736069016284437,11.686878772093667,11.686878772093667,11.678439903447801,11.678439903447801,11.639558115903595,11.699405031912846,11.728036844587175,11.732060994886899,11.719939634354555,11.719939634354555,11.719939634354555,11.771436160121729,11.790557201568507,11.794337924408413,11.751942365440728,11.779128505744886,11.79810440720389,11.786762130599957,11.786762130599957,11.786762130599957,11.786762130599957,11.715866308966918,11.719939634354555,11.719939634354555,11.736069016284437,11.76756768334381,11.76756768334381,11.691071650353702,11.678439903447801,11.678439903447801,11.678439903447801,11.661345470088502,11.661345470088502,11.661345470088502,11.661345470088502,11.728036844587175,11.728036844587175,11.72399643505017,11.72399643505017,11.699405031912846,11.678439903447801,11.678439903447801,11.695247021764184,11.703545824578878,11.678439903447801,11.661345470088502,11.669929213779893,11.665646551987892,11.635143097694478,11.639558115903595,11.626254150277232,11.62177986988231,11.617285480294472,11.635143097694478,11.608235644774552,11.589886506106357,11.59910316121128,11.630708500626612,11.630708500626612,11.635143097694478,11.612770799939945,11.589886506106357,11.617285480294472,11.594505451962652,11.603679828238693,11.630708500626612,11.612770799939945,11.608235644774552,11.603679828238693,11.585246126549855,11.608235644774552,11.612770799939945,11.59910316121128,11.630708500626612,11.612770799939945,11.630708500626612,11.639558115903595,11.617285480294472,11.630708500626612,11.635143097694478,11.594505451962652,11.589886506106357,11.542484267211773,11.571194373094205,11.580584113444043,11.589886506106357,11.580584113444043,11.580584113444043,11.55214617812351,11.571194373094205,11.566466231898259,11.547326891687561,11.502875129116727,11.50388472031808,11.491701828518602,11.486581489630627,11.476261480598637,11.456355113481834,11.463735220779457,11.431715409544685,11.409784706050715,11.425186550662222,11.461632170582678,11.464785089642293,11.451050061252142,11.418614785498987,11.379394072345706,11.3975146134589,11.434963923500517,11.430630222243398,11.449985665196355,11.459524688243112,11.447853468226514,11.443575386835436,11.451050061252142,11.451050061252142,11.499840225421574,11.522875795823397,11.512925464970229,11.532728092266408,11.5376180775606,11.512925464970229,11.512925464970229,11.517913006481267,11.512925464970229,11.506907392644665,11.491701828518602,11.483496654279417,11.477298287327077,11.487607656985938,11.487607656985938,11.49781182716018,11.475223597786217,11.462684248533481,11.427367576608582,11.443575386835436,11.443575386835436,11.479368681441386,11.483496654279417,11.468973577441046,11.476261480598637,11.463735220779457,11.446785662465684,11.442503000673682,11.452113325573471,11.462684248533481,11.434963923500517,11.442503000673682,11.463735220779457,11.433882257629776,11.426277658244556,11.41971308324805,11.427367576608582,11.411999546380267],\"type\":\"scatter\"},{\"line\":{\"color\":\"rgba(0,0,30,0.5)\"},\"mode\":\"lines\",\"name\":\"Test\",\"x\":[196,197,198,199,200,201,202,203,204,205,206,207,208,209,210,211,212,213,214,215,216,217,218,219,220,221,222,223,224,225,226,227,228,229,230,231,232,233,234,235,236,237,238,239,240,241,242,243,244],\"y\":[11.411999546380267,11.459524688243112,11.440354772135393,11.429543856031177,11.420810176062423,11.407564949312402,11.385092093460344,11.385092093460344,11.362102575235644,11.332601910838946,11.320553572322773,11.314474526246391,11.304670526149769,11.299732244509187,11.32779998084354,11.364425456651784,11.40534025429029,11.406453220459712,11.420810176062423,11.409784706050715,11.451050061252142,11.460578984598019,11.466881526468821,11.463735220779457,11.470017963958952,11.439278924801929,11.409784706050715,11.413105129688017,11.427367576608582,11.44571671527678,11.449985665196355,11.407564949312402,11.331403588346838,11.322974881011783,11.337380892455297,11.344506813345266,11.322974881011783,11.344506813345266,11.36789969291997,11.381677178360274,11.398636318568101,11.3975146134589,11.44571671527678,11.41751528016557,11.425186550662222,11.424094251263613,11.381677178360274,11.389627248625734,11.36558487707152],\"type\":\"scatter\"},{\"line\":{\"color\":\"red\",\"dash\":\"dot\"},\"mode\":\"lines\",\"name\":\"Prediction\",\"x\":[196,197,198,199,200,201,202,203,204,205,206,207,208,209,210,211,212,213,214,215,216,217,218,219,220,221,222,223,224,225,226,227,228,229,230,231,232,233,234,235,236,237,238,239,240,241,242,243,244],\"y\":[11.410568342295711,11.410569453282971,11.4583443180865,11.439083525347353,11.428224655059681,11.419453867980039,11.40614946819732,11.383572343179058,11.383576297432453,11.36048975371754,11.330848278071532,11.318749951071224,11.31265750054766,11.302807827612142,11.297862435997587,11.326063873996874,11.362872369470724,11.403987462368242,11.405111985592875,11.419544230467563,11.408471394513755,11.449933847944656,11.45951180125493,11.465848143989769,11.462697271587833,11.469008174433132,11.438134907264452,11.40851264799634,11.41185364300533,11.426186878065304,11.44462294757538,11.448913912894346,11.406311022468874,11.3298210968522,11.321362462547581,11.335839850613386,11.34300153348164,11.321382159837496,11.343017118952384,11.366512591343117,11.380355606466805,11.397395394512845,11.396272428904606,11.444680809191917,11.416365688411535,11.424073696095576,11.422981427084132,11.380399966743104,11.388381736715342],\"type\":\"scatter\"},{\"fill\":\"toself\",\"fillcolor\":\"rgba(0,0,30,0.1)\",\"hoverinfo\":\"skip\",\"line\":{\"color\":\"rgba(0,0,0,0)\"},\"showlegend\":false,\"x\":[196,197,198,199,200,201,202,203,204,205,206,207,208,209,210,211,212,213,214,215,216,217,218,219,220,221,222,223,224,225,226,227,228,229,230,231,232,233,234,235,236,237,238,239,240,241,242,243,244,244,243,242,241,240,239,238,237,236,235,234,233,232,231,230,229,228,227,226,225,224,223,222,221,220,219,218,217,216,215,214,213,212,211,210,209,208,207,206,205,204,203,202,201,200,199,198,197,196],\"y\":[11.369644077744901,11.369749310295482,11.417070490989852,11.397838257109008,11.387061864238605,11.37838136568738,11.365146476789148,11.342568523631872,11.342666983151462,11.319581135495143,11.289862342395026,11.277839584948971,11.271839090802462,11.262076072708147,11.25721993750649,11.285321235245865,11.321902467774168,11.36271851452165,11.363938705544692,11.378410517382786,11.367415997222436,11.40858397904273,11.418233184995769,11.424652689975304,11.421588783957805,11.427988246129466,11.397020269532037,11.367323523865284,11.370752600958838,11.385125157977587,11.403566252277884,11.407952061157909,11.365088657431189,11.287560612591813,11.27918510941323,11.293700856166737,11.300941928220881,11.279326714114712,11.300948027551048,11.324412711807934,11.338308858392994,11.355363470881034,11.354331896958808,11.402369007078983,11.374002827365828,11.381784600963652,11.380774993473048,11.337965261863978,11.346020435191784,11.4307430382389,11.42283467162223,11.465187860695215,11.4663627912275,11.458728549457241,11.486992611304851,11.438212960850404,11.439427318144656,11.422402354540617,11.4086124708783,11.38508621035372,11.36343760556028,11.3850611387424,11.377978845060035,11.363539815681932,11.372081581112587,11.447533387506558,11.489875764630783,11.485679642872878,11.46724859815302,11.452954685051822,11.449701772127394,11.479249544996867,11.510028102736797,11.503805759217862,11.507043598004234,11.500790417514091,11.491283716846583,11.449526791805075,11.46067794355234,11.446285265641057,11.445256410214835,11.40384227116728,11.366806512747884,11.338504934488684,11.343539582516136,11.353475910292858,11.359660317193477,11.371834213748038,11.401398371939935,11.424485611713445,11.424576162726243,11.447152459605492,11.460526370272698,11.469387445880757,11.480328793585699,11.499618145183147,11.45138959627046,11.451492606846521],\"type\":\"scatter\"}],                        {\"template\":{\"data\":{\"histogram2dcontour\":[{\"type\":\"histogram2dcontour\",\"colorbar\":{\"outlinewidth\":0,\"ticks\":\"\"},\"colorscale\":[[0.0,\"#0d0887\"],[0.1111111111111111,\"#46039f\"],[0.2222222222222222,\"#7201a8\"],[0.3333333333333333,\"#9c179e\"],[0.4444444444444444,\"#bd3786\"],[0.5555555555555556,\"#d8576b\"],[0.6666666666666666,\"#ed7953\"],[0.7777777777777778,\"#fb9f3a\"],[0.8888888888888888,\"#fdca26\"],[1.0,\"#f0f921\"]]}],\"choropleth\":[{\"type\":\"choropleth\",\"colorbar\":{\"outlinewidth\":0,\"ticks\":\"\"}}],\"histogram2d\":[{\"type\":\"histogram2d\",\"colorbar\":{\"outlinewidth\":0,\"ticks\":\"\"},\"colorscale\":[[0.0,\"#0d0887\"],[0.1111111111111111,\"#46039f\"],[0.2222222222222222,\"#7201a8\"],[0.3333333333333333,\"#9c179e\"],[0.4444444444444444,\"#bd3786\"],[0.5555555555555556,\"#d8576b\"],[0.6666666666666666,\"#ed7953\"],[0.7777777777777778,\"#fb9f3a\"],[0.8888888888888888,\"#fdca26\"],[1.0,\"#f0f921\"]]}],\"heatmap\":[{\"type\":\"heatmap\",\"colorbar\":{\"outlinewidth\":0,\"ticks\":\"\"},\"colorscale\":[[0.0,\"#0d0887\"],[0.1111111111111111,\"#46039f\"],[0.2222222222222222,\"#7201a8\"],[0.3333333333333333,\"#9c179e\"],[0.4444444444444444,\"#bd3786\"],[0.5555555555555556,\"#d8576b\"],[0.6666666666666666,\"#ed7953\"],[0.7777777777777778,\"#fb9f3a\"],[0.8888888888888888,\"#fdca26\"],[1.0,\"#f0f921\"]]}],\"heatmapgl\":[{\"type\":\"heatmapgl\",\"colorbar\":{\"outlinewidth\":0,\"ticks\":\"\"},\"colorscale\":[[0.0,\"#0d0887\"],[0.1111111111111111,\"#46039f\"],[0.2222222222222222,\"#7201a8\"],[0.3333333333333333,\"#9c179e\"],[0.4444444444444444,\"#bd3786\"],[0.5555555555555556,\"#d8576b\"],[0.6666666666666666,\"#ed7953\"],[0.7777777777777778,\"#fb9f3a\"],[0.8888888888888888,\"#fdca26\"],[1.0,\"#f0f921\"]]}],\"contourcarpet\":[{\"type\":\"contourcarpet\",\"colorbar\":{\"outlinewidth\":0,\"ticks\":\"\"}}],\"contour\":[{\"type\":\"contour\",\"colorbar\":{\"outlinewidth\":0,\"ticks\":\"\"},\"colorscale\":[[0.0,\"#0d0887\"],[0.1111111111111111,\"#46039f\"],[0.2222222222222222,\"#7201a8\"],[0.3333333333333333,\"#9c179e\"],[0.4444444444444444,\"#bd3786\"],[0.5555555555555556,\"#d8576b\"],[0.6666666666666666,\"#ed7953\"],[0.7777777777777778,\"#fb9f3a\"],[0.8888888888888888,\"#fdca26\"],[1.0,\"#f0f921\"]]}],\"surface\":[{\"type\":\"surface\",\"colorbar\":{\"outlinewidth\":0,\"ticks\":\"\"},\"colorscale\":[[0.0,\"#0d0887\"],[0.1111111111111111,\"#46039f\"],[0.2222222222222222,\"#7201a8\"],[0.3333333333333333,\"#9c179e\"],[0.4444444444444444,\"#bd3786\"],[0.5555555555555556,\"#d8576b\"],[0.6666666666666666,\"#ed7953\"],[0.7777777777777778,\"#fb9f3a\"],[0.8888888888888888,\"#fdca26\"],[1.0,\"#f0f921\"]]}],\"mesh3d\":[{\"type\":\"mesh3d\",\"colorbar\":{\"outlinewidth\":0,\"ticks\":\"\"}}],\"scatter\":[{\"fillpattern\":{\"fillmode\":\"overlay\",\"size\":10,\"solidity\":0.2},\"type\":\"scatter\"}],\"parcoords\":[{\"type\":\"parcoords\",\"line\":{\"colorbar\":{\"outlinewidth\":0,\"ticks\":\"\"}}}],\"scatterpolargl\":[{\"type\":\"scatterpolargl\",\"marker\":{\"colorbar\":{\"outlinewidth\":0,\"ticks\":\"\"}}}],\"bar\":[{\"error_x\":{\"color\":\"#2a3f5f\"},\"error_y\":{\"color\":\"#2a3f5f\"},\"marker\":{\"line\":{\"color\":\"#E5ECF6\",\"width\":0.5},\"pattern\":{\"fillmode\":\"overlay\",\"size\":10,\"solidity\":0.2}},\"type\":\"bar\"}],\"scattergeo\":[{\"type\":\"scattergeo\",\"marker\":{\"colorbar\":{\"outlinewidth\":0,\"ticks\":\"\"}}}],\"scatterpolar\":[{\"type\":\"scatterpolar\",\"marker\":{\"colorbar\":{\"outlinewidth\":0,\"ticks\":\"\"}}}],\"histogram\":[{\"marker\":{\"pattern\":{\"fillmode\":\"overlay\",\"size\":10,\"solidity\":0.2}},\"type\":\"histogram\"}],\"scattergl\":[{\"type\":\"scattergl\",\"marker\":{\"colorbar\":{\"outlinewidth\":0,\"ticks\":\"\"}}}],\"scatter3d\":[{\"type\":\"scatter3d\",\"line\":{\"colorbar\":{\"outlinewidth\":0,\"ticks\":\"\"}},\"marker\":{\"colorbar\":{\"outlinewidth\":0,\"ticks\":\"\"}}}],\"scattermapbox\":[{\"type\":\"scattermapbox\",\"marker\":{\"colorbar\":{\"outlinewidth\":0,\"ticks\":\"\"}}}],\"scatterternary\":[{\"type\":\"scatterternary\",\"marker\":{\"colorbar\":{\"outlinewidth\":0,\"ticks\":\"\"}}}],\"scattercarpet\":[{\"type\":\"scattercarpet\",\"marker\":{\"colorbar\":{\"outlinewidth\":0,\"ticks\":\"\"}}}],\"carpet\":[{\"aaxis\":{\"endlinecolor\":\"#2a3f5f\",\"gridcolor\":\"white\",\"linecolor\":\"white\",\"minorgridcolor\":\"white\",\"startlinecolor\":\"#2a3f5f\"},\"baxis\":{\"endlinecolor\":\"#2a3f5f\",\"gridcolor\":\"white\",\"linecolor\":\"white\",\"minorgridcolor\":\"white\",\"startlinecolor\":\"#2a3f5f\"},\"type\":\"carpet\"}],\"table\":[{\"cells\":{\"fill\":{\"color\":\"#EBF0F8\"},\"line\":{\"color\":\"white\"}},\"header\":{\"fill\":{\"color\":\"#C8D4E3\"},\"line\":{\"color\":\"white\"}},\"type\":\"table\"}],\"barpolar\":[{\"marker\":{\"line\":{\"color\":\"#E5ECF6\",\"width\":0.5},\"pattern\":{\"fillmode\":\"overlay\",\"size\":10,\"solidity\":0.2}},\"type\":\"barpolar\"}],\"pie\":[{\"automargin\":true,\"type\":\"pie\"}]},\"layout\":{\"autotypenumbers\":\"strict\",\"colorway\":[\"#636efa\",\"#EF553B\",\"#00cc96\",\"#ab63fa\",\"#FFA15A\",\"#19d3f3\",\"#FF6692\",\"#B6E880\",\"#FF97FF\",\"#FECB52\"],\"font\":{\"color\":\"#2a3f5f\"},\"hovermode\":\"closest\",\"hoverlabel\":{\"align\":\"left\"},\"paper_bgcolor\":\"white\",\"plot_bgcolor\":\"#E5ECF6\",\"polar\":{\"bgcolor\":\"#E5ECF6\",\"angularaxis\":{\"gridcolor\":\"white\",\"linecolor\":\"white\",\"ticks\":\"\"},\"radialaxis\":{\"gridcolor\":\"white\",\"linecolor\":\"white\",\"ticks\":\"\"}},\"ternary\":{\"bgcolor\":\"#E5ECF6\",\"aaxis\":{\"gridcolor\":\"white\",\"linecolor\":\"white\",\"ticks\":\"\"},\"baxis\":{\"gridcolor\":\"white\",\"linecolor\":\"white\",\"ticks\":\"\"},\"caxis\":{\"gridcolor\":\"white\",\"linecolor\":\"white\",\"ticks\":\"\"}},\"coloraxis\":{\"colorbar\":{\"outlinewidth\":0,\"ticks\":\"\"}},\"colorscale\":{\"sequential\":[[0.0,\"#0d0887\"],[0.1111111111111111,\"#46039f\"],[0.2222222222222222,\"#7201a8\"],[0.3333333333333333,\"#9c179e\"],[0.4444444444444444,\"#bd3786\"],[0.5555555555555556,\"#d8576b\"],[0.6666666666666666,\"#ed7953\"],[0.7777777777777778,\"#fb9f3a\"],[0.8888888888888888,\"#fdca26\"],[1.0,\"#f0f921\"]],\"sequentialminus\":[[0.0,\"#0d0887\"],[0.1111111111111111,\"#46039f\"],[0.2222222222222222,\"#7201a8\"],[0.3333333333333333,\"#9c179e\"],[0.4444444444444444,\"#bd3786\"],[0.5555555555555556,\"#d8576b\"],[0.6666666666666666,\"#ed7953\"],[0.7777777777777778,\"#fb9f3a\"],[0.8888888888888888,\"#fdca26\"],[1.0,\"#f0f921\"]],\"diverging\":[[0,\"#8e0152\"],[0.1,\"#c51b7d\"],[0.2,\"#de77ae\"],[0.3,\"#f1b6da\"],[0.4,\"#fde0ef\"],[0.5,\"#f7f7f7\"],[0.6,\"#e6f5d0\"],[0.7,\"#b8e186\"],[0.8,\"#7fbc41\"],[0.9,\"#4d9221\"],[1,\"#276419\"]]},\"xaxis\":{\"gridcolor\":\"white\",\"linecolor\":\"white\",\"ticks\":\"\",\"title\":{\"standoff\":15},\"zerolinecolor\":\"white\",\"automargin\":true,\"zerolinewidth\":2},\"yaxis\":{\"gridcolor\":\"white\",\"linecolor\":\"white\",\"ticks\":\"\",\"title\":{\"standoff\":15},\"zerolinecolor\":\"white\",\"automargin\":true,\"zerolinewidth\":2},\"scene\":{\"xaxis\":{\"backgroundcolor\":\"#E5ECF6\",\"gridcolor\":\"white\",\"linecolor\":\"white\",\"showbackground\":true,\"ticks\":\"\",\"zerolinecolor\":\"white\",\"gridwidth\":2},\"yaxis\":{\"backgroundcolor\":\"#E5ECF6\",\"gridcolor\":\"white\",\"linecolor\":\"white\",\"showbackground\":true,\"ticks\":\"\",\"zerolinecolor\":\"white\",\"gridwidth\":2},\"zaxis\":{\"backgroundcolor\":\"#E5ECF6\",\"gridcolor\":\"white\",\"linecolor\":\"white\",\"showbackground\":true,\"ticks\":\"\",\"zerolinecolor\":\"white\",\"gridwidth\":2}},\"shapedefaults\":{\"line\":{\"color\":\"#2a3f5f\"}},\"annotationdefaults\":{\"arrowcolor\":\"#2a3f5f\",\"arrowhead\":0,\"arrowwidth\":1},\"geo\":{\"bgcolor\":\"white\",\"landcolor\":\"#E5ECF6\",\"subunitcolor\":\"white\",\"showland\":true,\"showlakes\":true,\"lakecolor\":\"white\"},\"title\":{\"x\":0.05},\"mapbox\":{\"style\":\"light\"}}},\"height\":400,\"width\":1000},                        {\"responsive\": true}                    ).then(function(){\n",
       "                            \n",
       "var gd = document.getElementById('ac7ee23b-8bbb-4394-bcb3-ed1c0ea2ef4e');\n",
       "var x = new MutationObserver(function (mutations, observer) {{\n",
       "        var display = window.getComputedStyle(gd).display;\n",
       "        if (!display || display === 'none') {{\n",
       "            console.log([gd, 'removed!']);\n",
       "            Plotly.purge(gd);\n",
       "            observer.disconnect();\n",
       "        }}\n",
       "}});\n",
       "\n",
       "// Listen for the removal of the full notebook cells\n",
       "var notebookContainer = gd.closest('#notebook-container');\n",
       "if (notebookContainer) {{\n",
       "    x.observe(notebookContainer, {childList: true});\n",
       "}}\n",
       "\n",
       "// Listen for the clearing of the current output cell\n",
       "var outputEl = gd.closest('.output');\n",
       "if (outputEl) {{\n",
       "    x.observe(outputEl, {childList: true});\n",
       "}}\n",
       "\n",
       "                        })                };                });            </script>        </div>"
      ]
     },
     "metadata": {},
     "output_type": "display_data"
    }
   ],
   "source": [
    "from plotly.subplots import make_subplots\n",
    "import plotly.graph_objects as go\n",
    "\n",
    "\n",
    "fig = go.Figure([\n",
    "    go.Scatter(x=y_train.index,y=y_train,name=\"Train\",mode=\"lines\",line= dict(color=\"royalblue\"))\n",
    "    ,go.Scatter(x=y_test.index,y=y_test,name=\"Test\",mode=\"lines\",line= dict(color=\"rgba(0,0,30,0.5)\"))\n",
    "    ,go.Scatter(x=y_test.index,y=y_pred,name=\"Prediction\",mode=\"lines\",line= dict(color=\"red\",dash=\"dot\"))\n",
    "    ,go.Scatter(x=y_test.index.tolist()+y_test.index[::-1].tolist(),y=pred_upper+pred_lower[::-1],fill=\"toself\",\n",
    "               fillcolor=\"rgba(0,0,30,0.1)\",line=dict(color=\"rgba(0,0,0,0)\"),\n",
    "               hoverinfo=\"skip\",\n",
    "               showlegend=False)\n",
    "])\n",
    "\n",
    "fig.update_layout(height=400,width=1000)\n",
    "fig.show()"
   ]
  },
  {
   "cell_type": "code",
   "execution_count": 154,
   "id": "c92877d8",
   "metadata": {},
   "outputs": [],
   "source": [
    "from sklearn.metrics import mean_squared_error, mean_absolute_error\n",
    "import math"
   ]
  },
  {
   "cell_type": "code",
   "execution_count": 155,
   "id": "13a538ed",
   "metadata": {
    "scrolled": true
   },
   "outputs": [
    {
     "name": "stdout",
     "output_type": "stream",
     "text": [
      "MSE:  23340939.47497082\n",
      "MAE:  4181.198128683192\n",
      "RMSE:  4831.246161703089\n",
      "MAPE: 1.87%\n"
     ]
    }
   ],
   "source": [
    "\n",
    "mse = mean_squared_error(np.exp(y_test), np.exp(prediction))\n",
    "print('MSE: ', mse)\n",
    "\n",
    "mae = mean_absolute_error(np.exp(y_test), np.exp(prediction))\n",
    "print('MAE: ', mae)\n",
    "\n",
    "rmse = math.sqrt(mean_squared_error(np.exp(y_test), np.exp(prediction)))\n",
    "print('RMSE: ', rmse)\n",
    "\n",
    "mape = np.mean(np.abs(np.exp(y_pred) - np.exp(y_test))/np.abs(np.exp(y_test)))\n",
    "print('MAPE: {:.2f}%'.format(mape*100))\n"
   ]
  },
  {
   "cell_type": "markdown",
   "id": "bbb3249f",
   "metadata": {},
   "source": []
  },
  {
   "cell_type": "markdown",
   "id": "141d9927",
   "metadata": {},
   "source": [
    "# 회고 \n",
    "\n",
    "이번 arima 모델 실습을 통해 삼성 주가와 sk 하이닉스 주가에 대한 시계열 분석을 진행 하였다 \n",
    "\n",
    "이번 실습을 통해 arima 모델에 대한 이론이 더 탄탄해 진것 같다. ACF,PACF ,differencing 그래프를 직접 확인함으로써\n",
    "아르마 모델에 파라미터를 어떻게 정해야 하고 분석 해야 하는지 알수있었다.  ndiff를 통해 필요한 차분 계수를 추정할수있었다 \n",
    "삼성 주가 실습 할때 ndiif를 통해 차분 추정을 해주었다 그래서 p,q를 정하면 되었다. \n",
    "하지만 삼성 주가 같은 경우 differencing 통해 ACF PACF모두 보았지만 cut off되는 지점을 찾기가 어려워서 \n",
    "p와 q 모두 5~ 28까지 모두 돌려 주었다 그리고 최적의 지점을 찾아서 그 주변을 다시 auto arima 모델로 돌려보기로 했다 \n",
    "p와 q 모두 5~28까지 범위를 맞추어서 시간이 많이 걸렸다 그래서 sk 하이닉스의 주가 분석 같은 경우 똑같이 하지 않았고 \n",
    "그냥 눈대중으로 cut off 되는 지점을 찾아서 auto arima 돌리기로 했다 \n",
    "그리고 이번 실습을 통해 시각화 하는게 중요하다는것을 체감 했다. trend와 seanoality,cycle을 파악하기 위해 시각화는 필수인것 같다 \n",
    "이것을 바탕으로 SARIMAX모델을 사용할지 ARIMA 모델을 사용할지 결정할수있었던것 같다 \n",
    "그리고 분산을 안정화 해야 한다면 log를 통해 분산을 안정화 해줄수있다는 사실도 알게 되었다 \n",
    "그리고 auto arima를 공부하면서 잔차에 대한 검정 통걔량에 대해 알수있었다\n",
    "Ljung Box : 잔차가 백색소음인지 검정한 통계량이다  이 통계량의 귀무 가설은 resdiual가 백색잡음시계열을 따른다 이다\n",
    "prob Q : 이 값을 통해 Ljung Box의 귀무가설을 기각할수있을지 결정할수있다. 0.05에서 귀무가설을 기각할수있을지 볼수있다 \n",
    "\n",
    "만약 귀무가설을 기각 하지 못했다면 시계열 모형이 잘 적합되었고 남은 잔차는 더이상 자기 상관을 가지지 않는 백색잡음임을 확인할수있다\n",
    "\n",
    "jarque Bera(JB) : 잔차가 정규성을 띠는지 검정한 통계량이다 귀무가설은 잔차가 정규성을 만족한다 이다 \n",
    "\n",
    "\n",
    "그리고 마지막으로 plot_diagnostics()함수를 통해 확인할수있는 내용을 보면 \n",
    "\n",
    "Standardized redual은 잔차를 시계열로 표현한것이다 \n",
    "correlogram은 잔차에 대한 ACF이다  ACF의 허용 범위 확인할수있다 \n",
    "\n",
    "\n",
    "sk 하이닉스보면 SARIMA 모델에서 AIC 결과가 더 좋았다 \n",
    "\n",
    "참고 \n",
    "https://assaeunji.github.io/data%20analysis/2021-09-25-arimastock/\n"
   ]
  }
 ],
 "metadata": {
  "kernelspec": {
   "display_name": "Python 3 (ipykernel)",
   "language": "python",
   "name": "python3"
  },
  "language_info": {
   "codemirror_mode": {
    "name": "ipython",
    "version": 3
   },
   "file_extension": ".py",
   "mimetype": "text/x-python",
   "name": "python",
   "nbconvert_exporter": "python",
   "pygments_lexer": "ipython3",
   "version": "3.9.7"
  }
 },
 "nbformat": 4,
 "nbformat_minor": 5
}
